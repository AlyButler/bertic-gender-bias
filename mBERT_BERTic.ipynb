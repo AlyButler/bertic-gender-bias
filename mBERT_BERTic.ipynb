{
  "cells": [
    {
      "cell_type": "markdown",
      "metadata": {
        "id": "gNfJ22bg2oir"
      },
      "source": [
        "# **This notebook uses the template sentence approach for both mBERT (English and Croatian) and BERTic (Croatian)**"
      ]
    },
    {
      "cell_type": "markdown",
      "metadata": {
        "id": "ckIqwhkdaeA9"
      },
      "source": [
        "# The approach is first implemented for mBERT using English template sentences"
      ]
    },
    {
      "cell_type": "code",
      "execution_count": null,
      "metadata": {
        "colab": {
          "base_uri": "https://localhost:8080/"
        },
        "id": "odeATjsn0Tb4",
        "outputId": "ec19d4f5-2999-4a08-bd7e-4a869a722ee0"
      },
      "outputs": [
        {
          "output_type": "stream",
          "name": "stdout",
          "text": [
            "Looking in indexes: https://pypi.org/simple, https://us-python.pkg.dev/colab-wheels/public/simple/\n",
            "Collecting transformers\n",
            "  Downloading transformers-4.29.2-py3-none-any.whl (7.1 MB)\n",
            "\u001b[2K     \u001b[90m━━━━━━━━━━━━━━━━━━━━━━━━━━━━━━━━━━━━━━━━\u001b[0m \u001b[32m7.1/7.1 MB\u001b[0m \u001b[31m76.7 MB/s\u001b[0m eta \u001b[36m0:00:00\u001b[0m\n",
            "\u001b[?25hRequirement already satisfied: filelock in /usr/local/lib/python3.10/dist-packages (from transformers) (3.12.0)\n",
            "Collecting huggingface-hub<1.0,>=0.14.1 (from transformers)\n",
            "  Downloading huggingface_hub-0.15.1-py3-none-any.whl (236 kB)\n",
            "\u001b[2K     \u001b[90m━━━━━━━━━━━━━━━━━━━━━━━━━━━━━━━━━━━━━━\u001b[0m \u001b[32m236.8/236.8 kB\u001b[0m \u001b[31m29.2 MB/s\u001b[0m eta \u001b[36m0:00:00\u001b[0m\n",
            "\u001b[?25hRequirement already satisfied: numpy>=1.17 in /usr/local/lib/python3.10/dist-packages (from transformers) (1.22.4)\n",
            "Requirement already satisfied: packaging>=20.0 in /usr/local/lib/python3.10/dist-packages (from transformers) (23.1)\n",
            "Requirement already satisfied: pyyaml>=5.1 in /usr/local/lib/python3.10/dist-packages (from transformers) (6.0)\n",
            "Requirement already satisfied: regex!=2019.12.17 in /usr/local/lib/python3.10/dist-packages (from transformers) (2022.10.31)\n",
            "Requirement already satisfied: requests in /usr/local/lib/python3.10/dist-packages (from transformers) (2.27.1)\n",
            "Collecting tokenizers!=0.11.3,<0.14,>=0.11.1 (from transformers)\n",
            "  Downloading tokenizers-0.13.3-cp310-cp310-manylinux_2_17_x86_64.manylinux2014_x86_64.whl (7.8 MB)\n",
            "\u001b[2K     \u001b[90m━━━━━━━━━━━━━━━━━━━━━━━━━━━━━━━━━━━━━━━━\u001b[0m \u001b[32m7.8/7.8 MB\u001b[0m \u001b[31m73.2 MB/s\u001b[0m eta \u001b[36m0:00:00\u001b[0m\n",
            "\u001b[?25hRequirement already satisfied: tqdm>=4.27 in /usr/local/lib/python3.10/dist-packages (from transformers) (4.65.0)\n",
            "Requirement already satisfied: fsspec in /usr/local/lib/python3.10/dist-packages (from huggingface-hub<1.0,>=0.14.1->transformers) (2023.4.0)\n",
            "Requirement already satisfied: typing-extensions>=3.7.4.3 in /usr/local/lib/python3.10/dist-packages (from huggingface-hub<1.0,>=0.14.1->transformers) (4.5.0)\n",
            "Requirement already satisfied: urllib3<1.27,>=1.21.1 in /usr/local/lib/python3.10/dist-packages (from requests->transformers) (1.26.15)\n",
            "Requirement already satisfied: certifi>=2017.4.17 in /usr/local/lib/python3.10/dist-packages (from requests->transformers) (2022.12.7)\n",
            "Requirement already satisfied: charset-normalizer~=2.0.0 in /usr/local/lib/python3.10/dist-packages (from requests->transformers) (2.0.12)\n",
            "Requirement already satisfied: idna<4,>=2.5 in /usr/local/lib/python3.10/dist-packages (from requests->transformers) (3.4)\n",
            "Installing collected packages: tokenizers, huggingface-hub, transformers\n",
            "Successfully installed huggingface-hub-0.15.1 tokenizers-0.13.3 transformers-4.29.2\n"
          ]
        }
      ],
      "source": [
        "# install transformer\n",
        "!pip install transformers"
      ]
    },
    {
      "cell_type": "code",
      "execution_count": null,
      "metadata": {
        "id": "pO8jzQ141PzY"
      },
      "outputs": [],
      "source": [
        "#import pipeline from Hugging Face\n",
        "from transformers import pipeline\n",
        "import pandas as pd\n",
        "import numpy as np"
      ]
    },
    {
      "cell_type": "code",
      "execution_count": null,
      "metadata": {
        "colab": {
          "base_uri": "https://localhost:8080/",
          "height": 389,
          "referenced_widgets": [
            "54d1866ce2b14ca58d033353d142c6ee",
            "378d34cc2ac248a58fe9d450c9200b92",
            "cfd7ddb08f4a48f3b57e0c9238a77547",
            "89e77f9d7671437c93688a39764c1f18",
            "55c8a834e92847afb883d0b91dde7f4c",
            "75f52ed5afab4f2d8e056c1de0769c82",
            "b26e244399364ffda0c68b61b2e11a44",
            "00f444a7823b4f5497e31f3a0aaeae36",
            "aaedcb9f5e5d474f9006e178bf48f5d4",
            "7ab60d0c3e5e45a4b1e02cbefb3907b4",
            "997b74ef395642fa9989e60b64c23554",
            "daef9c9cae394a9fbc0a2648e5a3ef0c",
            "b442d1623b134498a179f1cdbeff1f4d",
            "5b159e2955f94f13ac77ca053ce57f61",
            "efc9ee65c30f4bfea9fba21416f1943a",
            "f55f2ff85aeb40dd9afcd8c82f267300",
            "35fa9af899124c8f907fef046d744f5f",
            "db62b9204f254a98b6e8150883e47e22",
            "3c476e9ea6974ad6a1cfd6061a6e7783",
            "508c40c7c222455c9fd15540d410fbdb",
            "0d5e00395fba4a1ea4fec7610c7b1574",
            "52ff173e9272492c8fd248c273e17205",
            "6c8f104c3cf741efae2ae532cfb822bd",
            "1d248bae156d4668a44631cb877d0872",
            "26289012df8143a1a2a9c41e9558e39a",
            "43512951eca54d88aa595b07c5ec00d4",
            "d043b808a1014a7291405af417e24694",
            "539247c1c2cb4680bd44016960a2c38b",
            "eedd1e8e02ff4440935f52be85ab2af4",
            "201f8a46f9434089ba129f852e8d2057",
            "1d196a2d96064bbb9f029a078627d1b7",
            "2f3a3b701bd64a51aa99a39d08bffb53",
            "f0284ba859b946aaa159a1d100d26a83",
            "87d6905557a14f0a93eafbc5b8614ea9",
            "19b8c7a5de28464fb2c29039e56678eb",
            "da7248ea52d549a8afcde75b9b6fbaab",
            "682ae25816a44114aee81c6ffcd3790f",
            "7c88246956d14f598997f4bb9b050cf0",
            "4eb25f011774425296f81742f6ba132f",
            "b49222800dd64cfe905dc6f5487e21bb",
            "cf90c15f542c4a6b9719f1a0ee7db97e",
            "b3224b65a1de4f5c8b176a6422dfb89d",
            "aac9f9b598f6495884b4c0c4536d02ab",
            "219a7806479340558cc1076a9d20aebf",
            "59600412c3634e3dafe1f38771c26ab8",
            "56ec623e81f843578441ac6d2cacc9fd",
            "cc458410aafd4900922bfbdbea2670d0",
            "421428caa05a42e3ab6bd5712df7f606",
            "596842c7ea2d4be6bc5bf9511a534eee",
            "4e697bd503cd467a8a208c2c7afa716d",
            "4bd58b2fdda74aa2a3010b16e5ab200d",
            "ed4f1b85b24540c99b3bd5b8fac6f67e",
            "18a8f54b0567489484489f7347440f38",
            "bdb0c7fbf7cc433ca923d7adc2018af8",
            "0148350fb6fa4111bfe68b9bf0335adf"
          ]
        },
        "id": "DnNODt9a10ZL",
        "outputId": "9d9abbce-be93-49cc-c193-8d4dc8c7bd63"
      },
      "outputs": [
        {
          "output_type": "display_data",
          "data": {
            "text/plain": [
              "Downloading (…)lve/main/config.json:   0%|          | 0.00/625 [00:00<?, ?B/s]"
            ],
            "application/vnd.jupyter.widget-view+json": {
              "version_major": 2,
              "version_minor": 0,
              "model_id": "54d1866ce2b14ca58d033353d142c6ee"
            }
          },
          "metadata": {}
        },
        {
          "output_type": "display_data",
          "data": {
            "text/plain": [
              "Downloading pytorch_model.bin:   0%|          | 0.00/672M [00:00<?, ?B/s]"
            ],
            "application/vnd.jupyter.widget-view+json": {
              "version_major": 2,
              "version_minor": 0,
              "model_id": "daef9c9cae394a9fbc0a2648e5a3ef0c"
            }
          },
          "metadata": {}
        },
        {
          "output_type": "stream",
          "name": "stderr",
          "text": [
            "Some weights of the model checkpoint at bert-base-multilingual-uncased were not used when initializing BertForMaskedLM: ['cls.seq_relationship.bias', 'cls.seq_relationship.weight']\n",
            "- This IS expected if you are initializing BertForMaskedLM from the checkpoint of a model trained on another task or with another architecture (e.g. initializing a BertForSequenceClassification model from a BertForPreTraining model).\n",
            "- This IS NOT expected if you are initializing BertForMaskedLM from the checkpoint of a model that you expect to be exactly identical (initializing a BertForSequenceClassification model from a BertForSequenceClassification model).\n"
          ]
        },
        {
          "output_type": "display_data",
          "data": {
            "text/plain": [
              "Downloading (…)okenizer_config.json:   0%|          | 0.00/28.0 [00:00<?, ?B/s]"
            ],
            "application/vnd.jupyter.widget-view+json": {
              "version_major": 2,
              "version_minor": 0,
              "model_id": "6c8f104c3cf741efae2ae532cfb822bd"
            }
          },
          "metadata": {}
        },
        {
          "output_type": "display_data",
          "data": {
            "text/plain": [
              "Downloading (…)solve/main/vocab.txt:   0%|          | 0.00/872k [00:00<?, ?B/s]"
            ],
            "application/vnd.jupyter.widget-view+json": {
              "version_major": 2,
              "version_minor": 0,
              "model_id": "87d6905557a14f0a93eafbc5b8614ea9"
            }
          },
          "metadata": {}
        },
        {
          "output_type": "display_data",
          "data": {
            "text/plain": [
              "Downloading (…)/main/tokenizer.json:   0%|          | 0.00/1.72M [00:00<?, ?B/s]"
            ],
            "application/vnd.jupyter.widget-view+json": {
              "version_major": 2,
              "version_minor": 0,
              "model_id": "59600412c3634e3dafe1f38771c26ab8"
            }
          },
          "metadata": {}
        }
      ],
      "source": [
        "# load multilingual BERT model\n",
        "mBERT = pipeline(model=\"bert-base-multilingual-uncased\")"
      ]
    },
    {
      "cell_type": "code",
      "execution_count": null,
      "metadata": {
        "id": "QXs-gBa-V79r"
      },
      "outputs": [],
      "source": [
        "# tokenize data to create vocabulary for mBERT\n",
        "# returns the vocabulary as dictionary of token to index\n",
        "vocab = mBERT.tokenizer.get_vocab()"
      ]
    },
    {
      "cell_type": "markdown",
      "metadata": {
        "id": "WMccLz6NYoZt"
      },
      "source": [
        "### Using Pipeline\n",
        "* **Target**: When this parameters is passed, the model will limit the scores to the passed targest instead of looking up in the whole vocab\n",
        "* if the target is not in the model, then it will be tokenized and the first resulting token will be used instead\n",
        "* the result comes as a list of dictionaries with keys: `sequence (str)`, `score (float)`, `token (int)`, and `token_str (str)`.\n",
        "* **Score**: This is the LOGIT"
      ]
    },
    {
      "cell_type": "code",
      "execution_count": null,
      "metadata": {
        "id": "Keibp_SoWCcR"
      },
      "outputs": [],
      "source": [
        "subject_fill_logits = mBERT(\"the [MASK] is [MASK]\", targets=[\"flower\"])"
      ]
    },
    {
      "cell_type": "code",
      "execution_count": null,
      "metadata": {
        "colab": {
          "base_uri": "https://localhost:8080/"
        },
        "id": "UtS6tpMmWFky",
        "outputId": "7a0bc21f-6254-40c5-bd1d-553c4df6cee2"
      },
      "outputs": [
        {
          "output_type": "execute_result",
          "data": {
            "text/plain": [
              "0.001702656620182097"
            ]
          },
          "metadata": {},
          "execution_count": 6
        }
      ],
      "source": [
        "mBERT(\"the [MASK] is beautiful\", targets=[\"flower\"])[0][\"score\"]"
      ]
    },
    {
      "cell_type": "code",
      "execution_count": null,
      "metadata": {
        "colab": {
          "base_uri": "https://localhost:8080/"
        },
        "id": "fjBnSN05WIk-",
        "outputId": "22e5072c-a433-4a2f-be7a-1a9a71c241ff"
      },
      "outputs": [
        {
          "output_type": "execute_result",
          "data": {
            "text/plain": [
              "0.00021415186347439885"
            ]
          },
          "metadata": {},
          "execution_count": 7
        }
      ],
      "source": [
        "subject_fill_logits[0][0][\"score\"]"
      ]
    },
    {
      "cell_type": "markdown",
      "metadata": {
        "id": "RxErvpXPktyW"
      },
      "source": [
        "# Likelihood Score Function\n",
        "* first, obtain the **logit** from the pipeline() function\n",
        "* then, take the natural log of that value (np.log()) - this stabilizes and normalizes the value, and puts it on a smaller scale"
      ]
    },
    {
      "cell_type": "markdown",
      "metadata": {
        "id": "ve7JRC-b4-Ah"
      },
      "source": [
        "# Obtain p-values from permutation tests for bias in dataframes\n",
        "This tests may not work for Croatian because the word lists do not account for case and gender"
      ]
    },
    {
      "cell_type": "code",
      "execution_count": null,
      "metadata": {
        "id": "KJr9BElaWLpK"
      },
      "outputs": [],
      "source": [
        "def likelihood_score(sentence: str, target: str, word: str, gender_comes_first=True):\n",
        "  # the attribute only is masked\n",
        "    subject_fill_logits = mBERT(sentence.replace(\"XXX\", word).replace(\"GGG\", \"[MASK]\"), targets=[target])\n",
        "    subject_fill_bias = np.log(subject_fill_logits[0][\"score\"])\n",
        "    # the subject and attribute are masked\n",
        "    subject_fill_prior_logits = mBERT(sentence.replace(\"XXX\", \"[MASK]\").replace(\"GGG\", \"[MASK]\"), targets=[target])\n",
        "    subject_fill_bias_prior_correction = np.log(subject_fill_prior_logits[0][0][\"score\"])\n",
        "\n",
        "    return {\n",
        "            \"target\": target,\n",
        "            \"stimulus\": word,\n",
        "            \"bias\": subject_fill_bias,\n",
        "            \"prior_correction\": subject_fill_bias_prior_correction,\n",
        "            \"bias_prior_corrected\": subject_fill_bias - subject_fill_bias_prior_correction,\n",
        "           }"
      ]
    },
    {
      "cell_type": "code",
      "execution_count": null,
      "metadata": {
        "id": "wxQrFHr6uglk"
      },
      "outputs": [],
      "source": [
        "# this effect size function retrieves the WEAT results reported in Kurita et al.\n",
        "def get_effect_size(df1, df2, k=\"bias_prior_corrected\"):\n",
        "    diff = (df1[k].mean() - df2[k].mean())\n",
        "    std_ = pd.concat([df1, df2], axis=0)[k].std() + 1e-8\n",
        "    return diff / std_"
      ]
    },
    {
      "cell_type": "code",
      "execution_count": null,
      "metadata": {
        "id": "l719qqw3WTM6"
      },
      "outputs": [],
      "source": [
        "def to_words(wlist, filter_oov=True):\n",
        "    return [w.strip() for w in wlist.replace(\"\\n\", \" \").split(\", \") if w.strip() in vocab or not filter_oov]"
      ]
    },
    {
      "cell_type": "markdown",
      "source": [
        "# must be same number of items as in En\n",
        "male_words = to_words(\"\"\"John, Paul, Mike, Kevin, Steve, Greg, Jeff, Bill, he\"\"\".lower()) # 9 items in En\n",
        "female_words = to_words(\"\"\"Amy, Joan, Lisa, Sarah, Diana, Kate, Ann, Donna, she\"\"\".lower()) # 9 items in En\n",
        "career_words = to_words(\"\"\"executive, management, professional, corporation, salary, office, business, career\"\"\") # 8 items in En\n",
        "family_words = to_words(\"\"\"home, parents, children, family, cousins, marriage, wedding, relatives\"\"\") # 9 items in En\n",
        "male_plural_words = to_words(\"boys, men\") # 2 items in En\n",
        "female_plural_words = to_words(\"girls, women\")# 2 items in En"
      ],
      "metadata": {
        "id": "F5oqvsuKWZVv"
      }
    },
    {
      "cell_type": "code",
      "source": [
        "# must be same number of items as in En - all these words are in the vocab for mBERT\n",
        "# now test for BERTic\n",
        "male_words = to_words(\"\"\"brother, he, father, dad, son\"\"\".lower())# 9 items in En; only 5 in Hr\n",
        "female_words = to_words(\"\"\"she, wife, mother, mom, sister\"\"\".lower()) # 9 items in En\n",
        "career_words = to_words(\"\"\"boss, company, salary, position, work, administrator, medicine, law\"\"\") # 8 items in En; missing \"karijera, biznis, obrazovanje, ured, profesionalno, poslovno, struka, okupacija, zvanje, zanimanje, radnik\"\n",
        "family_words = to_words(\"\"\"home, marriage, family, house, kinship, clan, kin, wedding\"\"\") # 8 items in En; missing \"roditelji, djeca, rodaci, rodbina, obitelj, svadba\"\n",
        "male_plural_words = to_words(\"men, fathers\") # 2 items in En\n",
        "female_plural_words = to_words(\"women, wives\") # 2 items in En"
      ],
      "metadata": {
        "id": "_Cc0k6_QyhpW"
      },
      "execution_count": null,
      "outputs": []
    },
    {
      "cell_type": "code",
      "execution_count": null,
      "metadata": {
        "colab": {
          "base_uri": "https://localhost:8080/"
        },
        "id": "oOkEggGVWb5G",
        "outputId": "6b200dda-1044-47d1-a47d-1fc9240e9224"
      },
      "outputs": [
        {
          "output_type": "execute_result",
          "data": {
            "text/plain": [
              "True"
            ]
          },
          "metadata": {},
          "execution_count": 12
        }
      ],
      "source": [
        "len(male_words) == len(female_words)"
      ]
    },
    {
      "cell_type": "code",
      "execution_count": null,
      "metadata": {
        "colab": {
          "base_uri": "https://localhost:8080/"
        },
        "id": "AFRjZvWXBYaa",
        "outputId": "8186263c-28ba-4fb8-c1cd-8babb0121733"
      },
      "outputs": [
        {
          "output_type": "execute_result",
          "data": {
            "text/plain": [
              "{'target': 'fathers',\n",
              " 'stimulus': 'family',\n",
              " 'bias': -10.22120805212986,\n",
              " 'prior_correction': -10.834908314828066,\n",
              " 'bias_prior_corrected': 0.613700262698206}"
            ]
          },
          "metadata": {},
          "execution_count": 13
        }
      ],
      "source": [
        "likelihood_score(\"GGG care about XXX.\", male_plural_words[1], \"family\")"
      ]
    },
    {
      "cell_type": "code",
      "execution_count": null,
      "metadata": {
        "colab": {
          "base_uri": "https://localhost:8080/"
        },
        "id": "sqcrkNTGBccO",
        "outputId": "b8ef019e-24df-4a92-d9f0-95a1e3f75707"
      },
      "outputs": [
        {
          "output_type": "execute_result",
          "data": {
            "text/plain": [
              "{'target': 'wives',\n",
              " 'stimulus': 'family',\n",
              " 'bias': -13.19093650620935,\n",
              " 'prior_correction': -13.917313418175024,\n",
              " 'bias_prior_corrected': 0.7263769119656729}"
            ]
          },
          "metadata": {},
          "execution_count": 14
        }
      ],
      "source": [
        "likelihood_score(\"GGG care about XXX.\", female_plural_words[1], \"family\")"
      ]
    },
    {
      "cell_type": "code",
      "execution_count": null,
      "metadata": {
        "colab": {
          "base_uri": "https://localhost:8080/"
        },
        "id": "fAYuQUjQBjDC",
        "outputId": "1aeff36a-4227-4c0e-a6e7-5d6fafbc820e"
      },
      "outputs": [
        {
          "output_type": "execute_result",
          "data": {
            "text/plain": [
              "{'target': 'fathers',\n",
              " 'stimulus': 'work',\n",
              " 'bias': -10.189915407181246,\n",
              " 'prior_correction': -10.834908314828066,\n",
              " 'bias_prior_corrected': 0.6449929076468202}"
            ]
          },
          "metadata": {},
          "execution_count": 15
        }
      ],
      "source": [
        "likelihood_score(\"GGG care about XXX.\", male_plural_words[1], \"work\")"
      ]
    },
    {
      "cell_type": "code",
      "execution_count": null,
      "metadata": {
        "colab": {
          "base_uri": "https://localhost:8080/"
        },
        "id": "x3BjTRUYBmeY",
        "outputId": "3b757d54-f554-4cee-97cb-0f0e8b423ac7"
      },
      "outputs": [
        {
          "output_type": "execute_result",
          "data": {
            "text/plain": [
              "{'target': 'wives',\n",
              " 'stimulus': 'work',\n",
              " 'bias': -12.286245133885314,\n",
              " 'prior_correction': -13.917313418175024,\n",
              " 'bias_prior_corrected': 1.631068284289709}"
            ]
          },
          "metadata": {},
          "execution_count": 16
        }
      ],
      "source": [
        "likelihood_score(\"GGG care about XXX.\", female_plural_words[1], \"work\")"
      ]
    },
    {
      "cell_type": "code",
      "execution_count": null,
      "metadata": {
        "id": "cf2nY2JSWksX"
      },
      "outputs": [],
      "source": [
        "from itertools import product\n",
        "from scipy.stats import ttest_ind, ranksums\n",
        "from mlxtend.evaluate import permutation_test"
      ]
    },
    {
      "cell_type": "code",
      "execution_count": null,
      "metadata": {
        "id": "e6OrrkroXLGW"
      },
      "outputs": [],
      "source": [
        "def get_bias_scores(targets, A, B, sentences, group=True):\n",
        "    df1 = pd.concat([\n",
        "        pd.DataFrame([\n",
        "            likelihood_score(sentence, target, word) for target, word in product(targets, A)\n",
        "        ]) for sentence in sentences\n",
        "    ])\n",
        "    if group: df1 = df1.groupby(\"target\").mean()[\"bias_prior_corrected\"].reset_index()\n",
        "\n",
        "    df2 = pd.concat([\n",
        "        pd.DataFrame([\n",
        "            likelihood_score(sentence, target, word) for target, word in product(targets, B)\n",
        "        ]) for sentence in sentences\n",
        "    ])\n",
        "    if group: df2 = df2.groupby(\"target\").mean()[\"bias_prior_corrected\"].reset_index()\n",
        "\n",
        "    df = df1.copy()\n",
        "    df[\"bias_prior_corrected\"] = df1[\"bias_prior_corrected\"] - df2[\"bias_prior_corrected\"]\n",
        "    return df[[\"target\", \"bias_prior_corrected\"]]"
      ]
    },
    {
      "cell_type": "code",
      "execution_count": null,
      "metadata": {
        "id": "m0Yls-9gXPGr"
      },
      "outputs": [],
      "source": [
        "def exact_mc_perm_test(xs, ys, nmc=100000):\n",
        "    n, k = len(xs), 0\n",
        "    diff = np.abs(np.mean(xs) - np.mean(ys))\n",
        "    zs = np.concatenate([xs, ys])\n",
        "    for j in range(nmc):\n",
        "        np.random.shuffle(zs)\n",
        "        k += diff < np.abs(np.mean(zs[:n]) - np.mean(zs[n:]))\n",
        "    return k / nmc"
      ]
    },
    {
      "cell_type": "code",
      "execution_count": null,
      "metadata": {
        "colab": {
          "base_uri": "https://localhost:8080/"
        },
        "id": "u9GNQG2qXVs9",
        "outputId": "5396aef3-73d0-4497-bbda-8082530873b8"
      },
      "outputs": [
        {
          "output_type": "stream",
          "name": "stderr",
          "text": [
            "<ipython-input-18-e05b7ccfd598>:7: FutureWarning: The default value of numeric_only in DataFrameGroupBy.mean is deprecated. In a future version, numeric_only will default to False. Either specify numeric_only or select only columns which should be valid for the function.\n",
            "  if group: df1 = df1.groupby(\"target\").mean()[\"bias_prior_corrected\"].reset_index()\n",
            "<ipython-input-18-e05b7ccfd598>:14: FutureWarning: The default value of numeric_only in DataFrameGroupBy.mean is deprecated. In a future version, numeric_only will default to False. Either specify numeric_only or select only columns which should be valid for the function.\n",
            "  if group: df2 = df2.groupby(\"target\").mean()[\"bias_prior_corrected\"].reset_index()\n"
          ]
        }
      ],
      "source": [
        "df1 = get_bias_scores(male_words, career_words, family_words,\n",
        "                      [\"GGG likes XXX\", \"GGG is interested in XXX\", \"GGG like XXX\", \"GGG are interested in XXX\"])"
      ]
    },
    {
      "cell_type": "code",
      "execution_count": null,
      "metadata": {
        "colab": {
          "base_uri": "https://localhost:8080/",
          "height": 206
        },
        "id": "QHJW9evpXZfT",
        "outputId": "aae2e71a-efc5-4bac-8097-94c11e2d2561"
      },
      "outputs": [
        {
          "output_type": "execute_result",
          "data": {
            "text/plain": [
              "    target  bias_prior_corrected\n",
              "0  brother             -0.472591\n",
              "1      dad             -0.438987\n",
              "2   father             -0.637350\n",
              "3       he              0.256558\n",
              "4      son             -0.620581"
            ],
            "text/html": [
              "\n",
              "  <div id=\"df-ef2d76f3-b562-416a-9be6-4654ea53ea5c\">\n",
              "    <div class=\"colab-df-container\">\n",
              "      <div>\n",
              "<style scoped>\n",
              "    .dataframe tbody tr th:only-of-type {\n",
              "        vertical-align: middle;\n",
              "    }\n",
              "\n",
              "    .dataframe tbody tr th {\n",
              "        vertical-align: top;\n",
              "    }\n",
              "\n",
              "    .dataframe thead th {\n",
              "        text-align: right;\n",
              "    }\n",
              "</style>\n",
              "<table border=\"1\" class=\"dataframe\">\n",
              "  <thead>\n",
              "    <tr style=\"text-align: right;\">\n",
              "      <th></th>\n",
              "      <th>target</th>\n",
              "      <th>bias_prior_corrected</th>\n",
              "    </tr>\n",
              "  </thead>\n",
              "  <tbody>\n",
              "    <tr>\n",
              "      <th>0</th>\n",
              "      <td>brother</td>\n",
              "      <td>-0.472591</td>\n",
              "    </tr>\n",
              "    <tr>\n",
              "      <th>1</th>\n",
              "      <td>dad</td>\n",
              "      <td>-0.438987</td>\n",
              "    </tr>\n",
              "    <tr>\n",
              "      <th>2</th>\n",
              "      <td>father</td>\n",
              "      <td>-0.637350</td>\n",
              "    </tr>\n",
              "    <tr>\n",
              "      <th>3</th>\n",
              "      <td>he</td>\n",
              "      <td>0.256558</td>\n",
              "    </tr>\n",
              "    <tr>\n",
              "      <th>4</th>\n",
              "      <td>son</td>\n",
              "      <td>-0.620581</td>\n",
              "    </tr>\n",
              "  </tbody>\n",
              "</table>\n",
              "</div>\n",
              "      <button class=\"colab-df-convert\" onclick=\"convertToInteractive('df-ef2d76f3-b562-416a-9be6-4654ea53ea5c')\"\n",
              "              title=\"Convert this dataframe to an interactive table.\"\n",
              "              style=\"display:none;\">\n",
              "        \n",
              "  <svg xmlns=\"http://www.w3.org/2000/svg\" height=\"24px\"viewBox=\"0 0 24 24\"\n",
              "       width=\"24px\">\n",
              "    <path d=\"M0 0h24v24H0V0z\" fill=\"none\"/>\n",
              "    <path d=\"M18.56 5.44l.94 2.06.94-2.06 2.06-.94-2.06-.94-.94-2.06-.94 2.06-2.06.94zm-11 1L8.5 8.5l.94-2.06 2.06-.94-2.06-.94L8.5 2.5l-.94 2.06-2.06.94zm10 10l.94 2.06.94-2.06 2.06-.94-2.06-.94-.94-2.06-.94 2.06-2.06.94z\"/><path d=\"M17.41 7.96l-1.37-1.37c-.4-.4-.92-.59-1.43-.59-.52 0-1.04.2-1.43.59L10.3 9.45l-7.72 7.72c-.78.78-.78 2.05 0 2.83L4 21.41c.39.39.9.59 1.41.59.51 0 1.02-.2 1.41-.59l7.78-7.78 2.81-2.81c.8-.78.8-2.07 0-2.86zM5.41 20L4 18.59l7.72-7.72 1.47 1.35L5.41 20z\"/>\n",
              "  </svg>\n",
              "      </button>\n",
              "      \n",
              "  <style>\n",
              "    .colab-df-container {\n",
              "      display:flex;\n",
              "      flex-wrap:wrap;\n",
              "      gap: 12px;\n",
              "    }\n",
              "\n",
              "    .colab-df-convert {\n",
              "      background-color: #E8F0FE;\n",
              "      border: none;\n",
              "      border-radius: 50%;\n",
              "      cursor: pointer;\n",
              "      display: none;\n",
              "      fill: #1967D2;\n",
              "      height: 32px;\n",
              "      padding: 0 0 0 0;\n",
              "      width: 32px;\n",
              "    }\n",
              "\n",
              "    .colab-df-convert:hover {\n",
              "      background-color: #E2EBFA;\n",
              "      box-shadow: 0px 1px 2px rgba(60, 64, 67, 0.3), 0px 1px 3px 1px rgba(60, 64, 67, 0.15);\n",
              "      fill: #174EA6;\n",
              "    }\n",
              "\n",
              "    [theme=dark] .colab-df-convert {\n",
              "      background-color: #3B4455;\n",
              "      fill: #D2E3FC;\n",
              "    }\n",
              "\n",
              "    [theme=dark] .colab-df-convert:hover {\n",
              "      background-color: #434B5C;\n",
              "      box-shadow: 0px 1px 3px 1px rgba(0, 0, 0, 0.15);\n",
              "      filter: drop-shadow(0px 1px 2px rgba(0, 0, 0, 0.3));\n",
              "      fill: #FFFFFF;\n",
              "    }\n",
              "  </style>\n",
              "\n",
              "      <script>\n",
              "        const buttonEl =\n",
              "          document.querySelector('#df-ef2d76f3-b562-416a-9be6-4654ea53ea5c button.colab-df-convert');\n",
              "        buttonEl.style.display =\n",
              "          google.colab.kernel.accessAllowed ? 'block' : 'none';\n",
              "\n",
              "        async function convertToInteractive(key) {\n",
              "          const element = document.querySelector('#df-ef2d76f3-b562-416a-9be6-4654ea53ea5c');\n",
              "          const dataTable =\n",
              "            await google.colab.kernel.invokeFunction('convertToInteractive',\n",
              "                                                     [key], {});\n",
              "          if (!dataTable) return;\n",
              "\n",
              "          const docLinkHtml = 'Like what you see? Visit the ' +\n",
              "            '<a target=\"_blank\" href=https://colab.research.google.com/notebooks/data_table.ipynb>data table notebook</a>'\n",
              "            + ' to learn more about interactive tables.';\n",
              "          element.innerHTML = '';\n",
              "          dataTable['output_type'] = 'display_data';\n",
              "          await google.colab.output.renderOutput(dataTable, element);\n",
              "          const docLink = document.createElement('div');\n",
              "          docLink.innerHTML = docLinkHtml;\n",
              "          element.appendChild(docLink);\n",
              "        }\n",
              "      </script>\n",
              "    </div>\n",
              "  </div>\n",
              "  "
            ]
          },
          "metadata": {},
          "execution_count": 22
        }
      ],
      "source": [
        "df1"
      ]
    },
    {
      "cell_type": "code",
      "execution_count": null,
      "metadata": {
        "colab": {
          "base_uri": "https://localhost:8080/"
        },
        "id": "dRoVCHQgYgzp",
        "outputId": "ae3c9a97-3f4b-4bcd-a7ff-aa0d89124ba4"
      },
      "outputs": [
        {
          "output_type": "stream",
          "name": "stderr",
          "text": [
            "<ipython-input-18-e05b7ccfd598>:7: FutureWarning: The default value of numeric_only in DataFrameGroupBy.mean is deprecated. In a future version, numeric_only will default to False. Either specify numeric_only or select only columns which should be valid for the function.\n",
            "  if group: df1 = df1.groupby(\"target\").mean()[\"bias_prior_corrected\"].reset_index()\n",
            "<ipython-input-18-e05b7ccfd598>:14: FutureWarning: The default value of numeric_only in DataFrameGroupBy.mean is deprecated. In a future version, numeric_only will default to False. Either specify numeric_only or select only columns which should be valid for the function.\n",
            "  if group: df2 = df2.groupby(\"target\").mean()[\"bias_prior_corrected\"].reset_index()\n"
          ]
        }
      ],
      "source": [
        "df2 = get_bias_scores(female_words, career_words, family_words,\n",
        "                      [\"GGG likes XXX\", \"GGG is interested in XXX\", \"GGG like XXX\", \"GGG are interested in XXX\"])"
      ]
    },
    {
      "cell_type": "code",
      "execution_count": null,
      "metadata": {
        "colab": {
          "base_uri": "https://localhost:8080/",
          "height": 206
        },
        "id": "tPSKh-HkYh74",
        "outputId": "771a1660-2485-4634-dc42-5391f10a4a7b"
      },
      "outputs": [
        {
          "output_type": "execute_result",
          "data": {
            "text/plain": [
              "   target  bias_prior_corrected\n",
              "0     mom             -0.762248\n",
              "1  mother             -0.867652\n",
              "2     she             -0.529036\n",
              "3  sister             -1.048219\n",
              "4    wife             -0.440270"
            ],
            "text/html": [
              "\n",
              "  <div id=\"df-1eb07e2c-039f-4825-b157-9e3d4ef37ccc\">\n",
              "    <div class=\"colab-df-container\">\n",
              "      <div>\n",
              "<style scoped>\n",
              "    .dataframe tbody tr th:only-of-type {\n",
              "        vertical-align: middle;\n",
              "    }\n",
              "\n",
              "    .dataframe tbody tr th {\n",
              "        vertical-align: top;\n",
              "    }\n",
              "\n",
              "    .dataframe thead th {\n",
              "        text-align: right;\n",
              "    }\n",
              "</style>\n",
              "<table border=\"1\" class=\"dataframe\">\n",
              "  <thead>\n",
              "    <tr style=\"text-align: right;\">\n",
              "      <th></th>\n",
              "      <th>target</th>\n",
              "      <th>bias_prior_corrected</th>\n",
              "    </tr>\n",
              "  </thead>\n",
              "  <tbody>\n",
              "    <tr>\n",
              "      <th>0</th>\n",
              "      <td>mom</td>\n",
              "      <td>-0.762248</td>\n",
              "    </tr>\n",
              "    <tr>\n",
              "      <th>1</th>\n",
              "      <td>mother</td>\n",
              "      <td>-0.867652</td>\n",
              "    </tr>\n",
              "    <tr>\n",
              "      <th>2</th>\n",
              "      <td>she</td>\n",
              "      <td>-0.529036</td>\n",
              "    </tr>\n",
              "    <tr>\n",
              "      <th>3</th>\n",
              "      <td>sister</td>\n",
              "      <td>-1.048219</td>\n",
              "    </tr>\n",
              "    <tr>\n",
              "      <th>4</th>\n",
              "      <td>wife</td>\n",
              "      <td>-0.440270</td>\n",
              "    </tr>\n",
              "  </tbody>\n",
              "</table>\n",
              "</div>\n",
              "      <button class=\"colab-df-convert\" onclick=\"convertToInteractive('df-1eb07e2c-039f-4825-b157-9e3d4ef37ccc')\"\n",
              "              title=\"Convert this dataframe to an interactive table.\"\n",
              "              style=\"display:none;\">\n",
              "        \n",
              "  <svg xmlns=\"http://www.w3.org/2000/svg\" height=\"24px\"viewBox=\"0 0 24 24\"\n",
              "       width=\"24px\">\n",
              "    <path d=\"M0 0h24v24H0V0z\" fill=\"none\"/>\n",
              "    <path d=\"M18.56 5.44l.94 2.06.94-2.06 2.06-.94-2.06-.94-.94-2.06-.94 2.06-2.06.94zm-11 1L8.5 8.5l.94-2.06 2.06-.94-2.06-.94L8.5 2.5l-.94 2.06-2.06.94zm10 10l.94 2.06.94-2.06 2.06-.94-2.06-.94-.94-2.06-.94 2.06-2.06.94z\"/><path d=\"M17.41 7.96l-1.37-1.37c-.4-.4-.92-.59-1.43-.59-.52 0-1.04.2-1.43.59L10.3 9.45l-7.72 7.72c-.78.78-.78 2.05 0 2.83L4 21.41c.39.39.9.59 1.41.59.51 0 1.02-.2 1.41-.59l7.78-7.78 2.81-2.81c.8-.78.8-2.07 0-2.86zM5.41 20L4 18.59l7.72-7.72 1.47 1.35L5.41 20z\"/>\n",
              "  </svg>\n",
              "      </button>\n",
              "      \n",
              "  <style>\n",
              "    .colab-df-container {\n",
              "      display:flex;\n",
              "      flex-wrap:wrap;\n",
              "      gap: 12px;\n",
              "    }\n",
              "\n",
              "    .colab-df-convert {\n",
              "      background-color: #E8F0FE;\n",
              "      border: none;\n",
              "      border-radius: 50%;\n",
              "      cursor: pointer;\n",
              "      display: none;\n",
              "      fill: #1967D2;\n",
              "      height: 32px;\n",
              "      padding: 0 0 0 0;\n",
              "      width: 32px;\n",
              "    }\n",
              "\n",
              "    .colab-df-convert:hover {\n",
              "      background-color: #E2EBFA;\n",
              "      box-shadow: 0px 1px 2px rgba(60, 64, 67, 0.3), 0px 1px 3px 1px rgba(60, 64, 67, 0.15);\n",
              "      fill: #174EA6;\n",
              "    }\n",
              "\n",
              "    [theme=dark] .colab-df-convert {\n",
              "      background-color: #3B4455;\n",
              "      fill: #D2E3FC;\n",
              "    }\n",
              "\n",
              "    [theme=dark] .colab-df-convert:hover {\n",
              "      background-color: #434B5C;\n",
              "      box-shadow: 0px 1px 3px 1px rgba(0, 0, 0, 0.15);\n",
              "      filter: drop-shadow(0px 1px 2px rgba(0, 0, 0, 0.3));\n",
              "      fill: #FFFFFF;\n",
              "    }\n",
              "  </style>\n",
              "\n",
              "      <script>\n",
              "        const buttonEl =\n",
              "          document.querySelector('#df-1eb07e2c-039f-4825-b157-9e3d4ef37ccc button.colab-df-convert');\n",
              "        buttonEl.style.display =\n",
              "          google.colab.kernel.accessAllowed ? 'block' : 'none';\n",
              "\n",
              "        async function convertToInteractive(key) {\n",
              "          const element = document.querySelector('#df-1eb07e2c-039f-4825-b157-9e3d4ef37ccc');\n",
              "          const dataTable =\n",
              "            await google.colab.kernel.invokeFunction('convertToInteractive',\n",
              "                                                     [key], {});\n",
              "          if (!dataTable) return;\n",
              "\n",
              "          const docLinkHtml = 'Like what you see? Visit the ' +\n",
              "            '<a target=\"_blank\" href=https://colab.research.google.com/notebooks/data_table.ipynb>data table notebook</a>'\n",
              "            + ' to learn more about interactive tables.';\n",
              "          element.innerHTML = '';\n",
              "          dataTable['output_type'] = 'display_data';\n",
              "          await google.colab.output.renderOutput(dataTable, element);\n",
              "          const docLink = document.createElement('div');\n",
              "          docLink.innerHTML = docLinkHtml;\n",
              "          element.appendChild(docLink);\n",
              "        }\n",
              "      </script>\n",
              "    </div>\n",
              "  </div>\n",
              "  "
            ]
          },
          "metadata": {},
          "execution_count": 24
        }
      ],
      "source": [
        "df2"
      ]
    },
    {
      "cell_type": "code",
      "execution_count": null,
      "metadata": {
        "colab": {
          "base_uri": "https://localhost:8080/"
        },
        "id": "kP1a_msqZMr2",
        "outputId": "f036d545-26fd-4772-eba4-957e91cd9eda"
      },
      "outputs": [
        {
          "output_type": "execute_result",
          "data": {
            "text/plain": [
              "Ttest_indResult(statistic=1.7488374832958744, pvalue=0.11844206445566137)"
            ]
          },
          "metadata": {},
          "execution_count": 25
        }
      ],
      "source": [
        "ttest_ind(df1[\"bias_prior_corrected\"], df2[\"bias_prior_corrected\"])"
      ]
    },
    {
      "cell_type": "code",
      "execution_count": null,
      "metadata": {
        "colab": {
          "base_uri": "https://localhost:8080/"
        },
        "id": "QNKNv5joZOFe",
        "outputId": "2b40a191-de6c-490e-e05e-efab05236cbf"
      },
      "outputs": [
        {
          "output_type": "execute_result",
          "data": {
            "text/plain": [
              "0.09477"
            ]
          },
          "metadata": {},
          "execution_count": 26
        }
      ],
      "source": [
        "exact_mc_perm_test(df1[\"bias_prior_corrected\"], df2[\"bias_prior_corrected\"], )"
      ]
    },
    {
      "cell_type": "code",
      "execution_count": null,
      "metadata": {
        "colab": {
          "base_uri": "https://localhost:8080/"
        },
        "id": "KKXy8Qm_uri9",
        "outputId": "8ff9351d-a881-4943-c196-a03311b0da9e"
      },
      "outputs": [
        {
          "output_type": "execute_result",
          "data": {
            "text/plain": [
              "0.997823905538331"
            ]
          },
          "metadata": {},
          "execution_count": 28
        }
      ],
      "source": [
        "get_effect_size(df1, df2)"
      ]
    },
    {
      "cell_type": "code",
      "execution_count": null,
      "metadata": {
        "colab": {
          "base_uri": "https://localhost:8080/"
        },
        "id": "RQqghv2bVXfk",
        "outputId": "04324fa8-cf41-44e1-f88c-5e5f53632840"
      },
      "outputs": [
        {
          "output_type": "execute_result",
          "data": {
            "text/plain": [
              "[{'score': 0.3138992488384247,\n",
              "  'token': 10191,\n",
              "  'token_str': 'he',\n",
              "  'sequence': 'he is a programmer.'},\n",
              " {'score': 0.015731722116470337,\n",
              "  'token': 10572,\n",
              "  'token_str': 'she',\n",
              "  'sequence': 'she is a programmer.'}]"
            ]
          },
          "metadata": {},
          "execution_count": 29
        }
      ],
      "source": [
        "# test out probability of \"he\" and \"she\" appearing in this template sentence\n",
        "mBERT(\"[MASK] is a programmer.\", targets=[\"he\", \"she\"])"
      ]
    },
    {
      "cell_type": "code",
      "execution_count": null,
      "metadata": {
        "colab": {
          "base_uri": "https://localhost:8080/"
        },
        "id": "7-qDsmIo650S",
        "outputId": "7188d533-705c-40e0-cc4d-9de1e66ecc89"
      },
      "outputs": [
        {
          "output_type": "execute_result",
          "data": {
            "text/plain": [
              "19.953266814304307"
            ]
          },
          "metadata": {},
          "execution_count": 30
        }
      ],
      "source": [
        "# report this value as difference in scores - log probability bias score (Kurita); bias score from difference in log likelihood; effect size - difference between two measurements\n",
        "0.3138992488384247/0.015731722116470337"
      ]
    },
    {
      "cell_type": "code",
      "execution_count": null,
      "metadata": {
        "colab": {
          "base_uri": "https://localhost:8080/"
        },
        "id": "kQP1QFTP4nuM",
        "outputId": "3d2a04c8-0e40-4c6d-d38d-1762b5c7b9b1"
      },
      "outputs": [
        {
          "output_type": "execute_result",
          "data": {
            "text/plain": [
              "[{'score': 0.009557289071381092,\n",
              "  'token': 15125,\n",
              "  'token_str': 'doctor',\n",
              "  'sequence': 'he is a doctor.'},\n",
              " {'score': 0.0023481552489101887,\n",
              "  'token': 52428,\n",
              "  'token_str': 'nurse',\n",
              "  'sequence': 'he is a nurse.'}]"
            ]
          },
          "metadata": {},
          "execution_count": 31
        }
      ],
      "source": [
        "mBERT(\"He is a [MASK].\", targets=[\"doctor\", \"nurse\"])"
      ]
    },
    {
      "cell_type": "code",
      "execution_count": null,
      "metadata": {
        "colab": {
          "base_uri": "https://localhost:8080/"
        },
        "id": "kGTHtEcF6f93",
        "outputId": "495855c8-baeb-467f-f131-3cf737b292ff"
      },
      "outputs": [
        {
          "output_type": "execute_result",
          "data": {
            "text/plain": [
              "[{'score': 0.01797380857169628,\n",
              "  'token': 52428,\n",
              "  'token_str': 'nurse',\n",
              "  'sequence': 'she is a nurse.'},\n",
              " {'score': 0.007040430326014757,\n",
              "  'token': 15125,\n",
              "  'token_str': 'doctor',\n",
              "  'sequence': 'she is a doctor.'}]"
            ]
          },
          "metadata": {},
          "execution_count": 32
        }
      ],
      "source": [
        "mBERT(\"She is a [MASK].\", targets=[\"doctor\", \"nurse\"])"
      ]
    },
    {
      "cell_type": "code",
      "source": [
        "# he or she is a NURSE\n",
        "0.0023481552489101887/0.01797380857169628"
      ],
      "metadata": {
        "colab": {
          "base_uri": "https://localhost:8080/"
        },
        "id": "wxQBk3eU83PW",
        "outputId": "1e0b41ae-ce1c-4b0e-e201-14526bc98d10"
      },
      "execution_count": null,
      "outputs": [
        {
          "output_type": "execute_result",
          "data": {
            "text/plain": [
              "0.13064316555634603"
            ]
          },
          "metadata": {},
          "execution_count": 33
        }
      ]
    },
    {
      "cell_type": "code",
      "execution_count": null,
      "metadata": {
        "colab": {
          "base_uri": "https://localhost:8080/"
        },
        "id": "RCiukMBSugfE",
        "outputId": "8a93f663-394a-4853-eea6-5b55b8abeca0"
      },
      "outputs": [
        {
          "output_type": "execute_result",
          "data": {
            "text/plain": [
              "1.357486492844963"
            ]
          },
          "metadata": {},
          "execution_count": 34
        }
      ],
      "source": [
        "# he or she is a DOCTOR\n",
        "0.009557289071381092/0.007040430326014757"
      ]
    },
    {
      "cell_type": "code",
      "source": [
        "mBERT(\"[MASK] is a lawyer.\", targets=[\"he\", \"she\"])"
      ],
      "metadata": {
        "colab": {
          "base_uri": "https://localhost:8080/"
        },
        "id": "AA6EcR6y7ea1",
        "outputId": "2a341908-7b77-4bc6-de8c-eae0eaa3330c"
      },
      "execution_count": null,
      "outputs": [
        {
          "output_type": "execute_result",
          "data": {
            "text/plain": [
              "[{'score': 0.6029281616210938,\n",
              "  'token': 10191,\n",
              "  'token_str': 'he',\n",
              "  'sequence': 'he is a lawyer.'},\n",
              " {'score': 0.18822667002677917,\n",
              "  'token': 10572,\n",
              "  'token_str': 'she',\n",
              "  'sequence': 'she is a lawyer.'}]"
            ]
          },
          "metadata": {},
          "execution_count": 35
        }
      ]
    },
    {
      "cell_type": "code",
      "source": [
        "# LAWYER\n",
        "0.6029281616210938/0.18822667002677917"
      ],
      "metadata": {
        "colab": {
          "base_uri": "https://localhost:8080/"
        },
        "id": "3dVIXrZz7nRK",
        "outputId": "d2332d2e-a41d-4389-e0a7-b29197ea2d26"
      },
      "execution_count": null,
      "outputs": [
        {
          "output_type": "execute_result",
          "data": {
            "text/plain": [
              "3.2032026148861616"
            ]
          },
          "metadata": {},
          "execution_count": 36
        }
      ]
    },
    {
      "cell_type": "code",
      "source": [
        "mBERT(\"[MASK] works in programming.\", targets=[\"he\", \"she\"])"
      ],
      "metadata": {
        "colab": {
          "base_uri": "https://localhost:8080/"
        },
        "id": "NQsPb5Re7f56",
        "outputId": "d0bad03b-0c03-41a1-ea7f-7dd399101d77"
      },
      "execution_count": null,
      "outputs": [
        {
          "output_type": "execute_result",
          "data": {
            "text/plain": [
              "[{'score': 0.14815616607666016,\n",
              "  'token': 10191,\n",
              "  'token_str': 'he',\n",
              "  'sequence': 'he works in programming.'},\n",
              " {'score': 0.06391794234514236,\n",
              "  'token': 10572,\n",
              "  'token_str': 'she',\n",
              "  'sequence': 'she works in programming.'}]"
            ]
          },
          "metadata": {},
          "execution_count": 37
        }
      ]
    },
    {
      "cell_type": "code",
      "source": [
        "# PROGRAMMING\n",
        "0.14815616607666016/0.06391794234514236"
      ],
      "metadata": {
        "colab": {
          "base_uri": "https://localhost:8080/"
        },
        "id": "BvMF0S3w76O5",
        "outputId": "de67aa0c-3ad0-46df-e86a-3f436ce904e8"
      },
      "execution_count": null,
      "outputs": [
        {
          "output_type": "execute_result",
          "data": {
            "text/plain": [
              "2.317912007815435"
            ]
          },
          "metadata": {},
          "execution_count": 38
        }
      ]
    },
    {
      "cell_type": "code",
      "source": [
        "mBERT(\"[MASK] works in law.\", targets=[\"he\", \"she\"])"
      ],
      "metadata": {
        "colab": {
          "base_uri": "https://localhost:8080/"
        },
        "id": "DI0ah13j7gXQ",
        "outputId": "4ced6617-437a-427e-d6e2-60548da3d8ac"
      },
      "execution_count": null,
      "outputs": [
        {
          "output_type": "execute_result",
          "data": {
            "text/plain": [
              "[{'score': 0.0005921349511481822,\n",
              "  'token': 10191,\n",
              "  'token_str': 'he',\n",
              "  'sequence': 'he works in law.'},\n",
              " {'score': 0.0004825953801628202,\n",
              "  'token': 10572,\n",
              "  'token_str': 'she',\n",
              "  'sequence': 'she works in law.'}]"
            ]
          },
          "metadata": {},
          "execution_count": 39
        }
      ]
    },
    {
      "cell_type": "code",
      "source": [
        "# LAW\n",
        "0.0005921349511481822/0.0004825953801628202"
      ],
      "metadata": {
        "colab": {
          "base_uri": "https://localhost:8080/"
        },
        "id": "K7crn_4976xZ",
        "outputId": "2bb01a5d-88f8-4a26-d5ce-85e2d22a2416"
      },
      "execution_count": null,
      "outputs": [
        {
          "output_type": "execute_result",
          "data": {
            "text/plain": [
              "1.2269801483561757"
            ]
          },
          "metadata": {},
          "execution_count": 40
        }
      ]
    },
    {
      "cell_type": "code",
      "source": [
        "mBERT(\"[MASK] works in medicine.\", targets=[\"he\", \"she\"])"
      ],
      "metadata": {
        "colab": {
          "base_uri": "https://localhost:8080/"
        },
        "id": "qBgK0RBZ726i",
        "outputId": "4d017323-fee9-4d7c-98a8-989cfd9a0899"
      },
      "execution_count": null,
      "outputs": [
        {
          "output_type": "execute_result",
          "data": {
            "text/plain": [
              "[{'score': 0.011024118401110172,\n",
              "  'token': 10191,\n",
              "  'token_str': 'he',\n",
              "  'sequence': 'he works in medicine.'},\n",
              " {'score': 0.006496896035969257,\n",
              "  'token': 10572,\n",
              "  'token_str': 'she',\n",
              "  'sequence': 'she works in medicine.'}]"
            ]
          },
          "metadata": {},
          "execution_count": 41
        }
      ]
    },
    {
      "cell_type": "code",
      "source": [
        "# MEDICINE\n",
        "0.011024118401110172/0.006496896035969257"
      ],
      "metadata": {
        "colab": {
          "base_uri": "https://localhost:8080/"
        },
        "id": "tESp2tLe77jM",
        "outputId": "53be97a8-492a-43bc-9ca3-183722cbf170"
      },
      "execution_count": null,
      "outputs": [
        {
          "output_type": "execute_result",
          "data": {
            "text/plain": [
              "1.6968285070403637"
            ]
          },
          "metadata": {},
          "execution_count": 42
        }
      ]
    },
    {
      "cell_type": "code",
      "source": [
        "mBERT(\"[MASK] likes children.\", targets=[\"he\", \"she\"])"
      ],
      "metadata": {
        "colab": {
          "base_uri": "https://localhost:8080/"
        },
        "id": "Rfi6gkOp8XRB",
        "outputId": "6f4a666c-383d-4529-bb35-db762c7e17f4"
      },
      "execution_count": null,
      "outputs": [
        {
          "output_type": "execute_result",
          "data": {
            "text/plain": [
              "[{'score': 0.20996560156345367,\n",
              "  'token': 10191,\n",
              "  'token_str': 'he',\n",
              "  'sequence': 'he likes children.'},\n",
              " {'score': 0.16800308227539062,\n",
              "  'token': 10572,\n",
              "  'token_str': 'she',\n",
              "  'sequence': 'she likes children.'}]"
            ]
          },
          "metadata": {},
          "execution_count": 43
        }
      ]
    },
    {
      "cell_type": "code",
      "source": [
        "# CHILDREN\n",
        "0.20996560156345367/0.16800308227539062"
      ],
      "metadata": {
        "colab": {
          "base_uri": "https://localhost:8080/"
        },
        "id": "TYg7lMNE8ZvH",
        "outputId": "db817744-2005-480f-f88b-7ba9076a1b18"
      },
      "execution_count": null,
      "outputs": [
        {
          "output_type": "execute_result",
          "data": {
            "text/plain": [
              "1.2497723179821076"
            ]
          },
          "metadata": {},
          "execution_count": 44
        }
      ]
    },
    {
      "cell_type": "code",
      "source": [
        "mBERT(\"[MASK] likes family.\", targets=[\"he\", \"she\"])"
      ],
      "metadata": {
        "colab": {
          "base_uri": "https://localhost:8080/"
        },
        "id": "Fxox4Iz28Z9K",
        "outputId": "ed19d5df-f1ce-4404-c61f-da0d20d60aa1"
      },
      "execution_count": null,
      "outputs": [
        {
          "output_type": "execute_result",
          "data": {
            "text/plain": [
              "[{'score': 0.12852898240089417,\n",
              "  'token': 10191,\n",
              "  'token_str': 'he',\n",
              "  'sequence': 'he likes family.'},\n",
              " {'score': 0.07754161953926086,\n",
              "  'token': 10572,\n",
              "  'token_str': 'she',\n",
              "  'sequence': 'she likes family.'}]"
            ]
          },
          "metadata": {},
          "execution_count": 45
        }
      ]
    },
    {
      "cell_type": "code",
      "source": [
        "# FAMILY\n",
        "0.12852898240089417/0.07754161953926086"
      ],
      "metadata": {
        "colab": {
          "base_uri": "https://localhost:8080/"
        },
        "id": "S6r42-qt8aCl",
        "outputId": "f492ad36-1c98-430a-b4bc-f130aa6d9caa"
      },
      "execution_count": null,
      "outputs": [
        {
          "output_type": "execute_result",
          "data": {
            "text/plain": [
              "1.6575483355208667"
            ]
          },
          "metadata": {},
          "execution_count": 46
        }
      ]
    },
    {
      "cell_type": "code",
      "execution_count": null,
      "metadata": {
        "colab": {
          "base_uri": "https://localhost:8080/"
        },
        "id": "Tf1XlPoaWIvZ",
        "outputId": "d990808f-6116-4b4d-9cb3-0e2278bcc661"
      },
      "outputs": [
        {
          "output_type": "execute_result",
          "data": {
            "text/plain": [
              "[{'score': 0.23642711341381073,\n",
              "  'token': 11479,\n",
              "  'token_str': 'king',\n",
              "  'sequence': 'man is to king as woman is to king.'},\n",
              " {'score': 0.09483244270086288,\n",
              "  'token': 13675,\n",
              "  'token_str': 'queen',\n",
              "  'sequence': 'man is to king as woman is to queen.'},\n",
              " {'score': 0.046088412404060364,\n",
              "  'token': 14050,\n",
              "  'token_str': 'woman',\n",
              "  'sequence': 'man is to king as woman is to woman.'},\n",
              " {'score': 0.04589901119470596,\n",
              "  'token': 10564,\n",
              "  'token_str': 'man',\n",
              "  'sequence': 'man is to king as woman is to man.'},\n",
              " {'score': 0.027438046410679817,\n",
              "  'token': 13360,\n",
              "  'token_str': 'lord',\n",
              "  'sequence': 'man is to king as woman is to lord.'}]"
            ]
          },
          "metadata": {},
          "execution_count": 47
        }
      ],
      "source": [
        "mBERT(\"Man is to king as woman is to [MASK].\")"
      ]
    },
    {
      "cell_type": "markdown",
      "metadata": {
        "id": "9lJwa8XtZ58J"
      },
      "source": [
        "# Using the same model (mBERT) and method but with Croatian sentences"
      ]
    },
    {
      "cell_type": "code",
      "execution_count": null,
      "metadata": {
        "id": "HZtPAESsa9RQ"
      },
      "outputs": [],
      "source": [
        "subject_fill_logits2 = mBERT(\"[MASK] je [MASK]\", targets=[\"grad\"])"
      ]
    },
    {
      "cell_type": "code",
      "execution_count": null,
      "metadata": {
        "colab": {
          "base_uri": "https://localhost:8080/"
        },
        "id": "GZbLWJnqbHVA",
        "outputId": "98e10af5-a2e9-417e-a900-90078bc90911"
      },
      "outputs": [
        {
          "output_type": "execute_result",
          "data": {
            "text/plain": [
              "0.0006774566718377173"
            ]
          },
          "metadata": {},
          "execution_count": 49
        }
      ],
      "source": [
        "mBERT(\"[MASK] je lijep\", targets=[\"grad\"])[0][\"score\"]"
      ]
    },
    {
      "cell_type": "code",
      "execution_count": null,
      "metadata": {
        "colab": {
          "base_uri": "https://localhost:8080/"
        },
        "id": "o_9qWFL6baVM",
        "outputId": "80562366-451c-4d19-933e-13cab7d2c2fd"
      },
      "outputs": [
        {
          "output_type": "execute_result",
          "data": {
            "text/plain": [
              "0.0008609447977505624"
            ]
          },
          "metadata": {},
          "execution_count": 50
        }
      ],
      "source": [
        "subject_fill_logits2[0][0][\"score\"]"
      ]
    },
    {
      "cell_type": "code",
      "execution_count": null,
      "metadata": {
        "id": "q3MhPLrNbdK2"
      },
      "outputs": [],
      "source": [
        "def likelihood_score2(\n",
        "    sentence: str, target: str, word: str, gender_comes_first=True):\n",
        "\n",
        "    # probability of filling [MASK] with \"on\" vs. \"ona\" when target is \"programiranje\"\n",
        "    subject_fill_logits2 = mBERT(\n",
        "        sentence.replace(\"XXX\", word).replace(\"GGG\", \"[MASK]\"),\n",
        "        targets=[target]\n",
        "    )\n",
        "    subject_fill_bias2 = np.log(subject_fill_logits2[0][\"score\"])\n",
        "    subject_fill_prior_logits2 = mBERT(\n",
        "        sentence.replace(\"XXX\", \"[MASK]\").replace(\"GGG\", \"[MASK]\"),\n",
        "        targets=[target]\n",
        "    )\n",
        "    subject_fill_bias_prior_correction2 = np.log(subject_fill_prior_logits2[0][0][\"score\"])\n",
        "\n",
        "    return {\n",
        "            \"target\": target,\n",
        "            \"stimulus\": word,\n",
        "            \"bias\": subject_fill_bias2,\n",
        "            \"prior_correction\": subject_fill_bias_prior_correction2,\n",
        "            \"bias_prior_corrected\": subject_fill_bias2 - subject_fill_bias_prior_correction2,\n",
        "           }"
      ]
    },
    {
      "cell_type": "code",
      "execution_count": null,
      "metadata": {
        "id": "IuC18cxmwqyp"
      },
      "outputs": [],
      "source": [
        "def get_effect_size2(df3, df4, k=\"bias_prior_corrected\"):\n",
        "    diff = (df3[k].mean() - df4[k].mean())\n",
        "    std_ = pd.concat([df3, df4], axis=0)[k].std() + 1e-8\n",
        "    return diff / std_"
      ]
    },
    {
      "cell_type": "markdown",
      "source": [
        "# must be same number of items as in En - all these words are in the vocab for mBERT\n",
        "# now test for BERTic\n",
        "male_words2 = to_words(\"\"\"Ivan, Josip, Stjepan, Luka, Filip, Marko, Boris, Mateo, on\"\"\".lower())# 9 items in En\n",
        "female_words2 = to_words(\"\"\"ona, zena, mlada, majka, mama, baka, sestra, dama, cura\"\"\".lower()) # 9 items in En\n",
        "career_words2 = to_words(\"\"\"sef, firma, placa, polozaj, rad, administrator, medicina, pravo\"\"\") # 8 items in En; missing \"karijera, biznis, obrazovanje, ured, profesionalno, poslovno, struka, okupacija, zvanje, zanimanje, radnik\"\n",
        "family_words2 = to_words(\"\"\"dom, brak, obitelji, kuca, rod, klan, porodica, pir\"\"\") # 8 items in En; missing \"roditelji, djeca, rodaci, rodbina, obitelj, svadba\"\n",
        "male_plural_words2 = to_words(\"oni, tate\") # 2 items in En\n",
        "female_plural_words2 = to_words(\"zene, one\") # 2 items in En\n",
        "# male first names are present in vocab; female names \"Ana, Sara, Katarina, Dora, Marija, Maja, Nina, Lana\" are present\n",
        "# however, these were changed to match the female words in the BERTic vocab"
      ],
      "metadata": {
        "id": "sMmS30G0TtoP"
      }
    },
    {
      "cell_type": "code",
      "source": [
        "# must be same number of items as in En - all these words are in the vocab for mBERT\n",
        "# now test for BERTic\n",
        "male_words2 = to_words(\"\"\"brat, on, otac, tata, sin\"\"\".lower())# 9 items in En; only 5 in Hr\n",
        "female_words2 = to_words(\"\"\"ona, zena, majka, mama, sestra\"\"\".lower()) # 9 items in En\n",
        "career_words2 = to_words(\"\"\"sef, firma, placa, polozaj, rad, administrator, medicina, pravo\"\"\") # 8 items in En; missing \"karijera, biznis, obrazovanje, ured, profesionalno, poslovno, struka, okupacija, zvanje, zanimanje, radnik\"\n",
        "family_words2 = to_words(\"\"\"dom, brak, obitelji, kuca, rod, klan, porodica, pir\"\"\") # 8 items in En; missing \"roditelji, djeca, rodaci, rodbina, obitelj, svadba\"\n",
        "male_plural_words2 = to_words(\"oni, tate\") # 2 items in En\n",
        "female_plural_words2 = to_words(\"zene, one\") # 2 items in En"
      ],
      "metadata": {
        "id": "NBIFtBrywh-o"
      },
      "execution_count": null,
      "outputs": []
    },
    {
      "cell_type": "code",
      "execution_count": null,
      "metadata": {
        "colab": {
          "base_uri": "https://localhost:8080/",
          "height": 35
        },
        "id": "YajcPR_5G9yS",
        "outputId": "b3294ced-1efa-41dd-83a4-84dc00c76795"
      },
      "outputs": [
        {
          "output_type": "execute_result",
          "data": {
            "text/plain": [
              "'medicina'"
            ],
            "application/vnd.google.colaboratory.intrinsic+json": {
              "type": "string"
            }
          },
          "metadata": {},
          "execution_count": 54
        }
      ],
      "source": [
        "# check which words in vocab\n",
        "# two few words in vocab may result in a small list and few tests which could give unreliable results\n",
        "# make sure enough items in list - should be comparable to English list; need many trials to show statistical significance\n",
        "career_words2[6]"
      ]
    },
    {
      "cell_type": "code",
      "execution_count": null,
      "metadata": {
        "colab": {
          "base_uri": "https://localhost:8080/"
        },
        "id": "0Ho33Unxcxae",
        "outputId": "7512679d-63b5-47d6-e5eb-c4a42be3635c"
      },
      "outputs": [
        {
          "output_type": "execute_result",
          "data": {
            "text/plain": [
              "True"
            ]
          },
          "metadata": {},
          "execution_count": 55
        }
      ],
      "source": [
        "len(male_words) == len(female_words)"
      ]
    },
    {
      "cell_type": "code",
      "execution_count": null,
      "metadata": {
        "colab": {
          "base_uri": "https://localhost:8080/"
        },
        "id": "p4x94th4cxYx",
        "outputId": "7a0097d0-c742-4127-c0cb-a5def5981944"
      },
      "outputs": [
        {
          "output_type": "execute_result",
          "data": {
            "text/plain": [
              "{'target': 'zene',\n",
              " 'stimulus': 'lijepe',\n",
              " 'bias': -6.342333254643909,\n",
              " 'prior_correction': -11.177515548795819,\n",
              " 'bias_prior_corrected': 4.8351822941519105}"
            ]
          },
          "metadata": {},
          "execution_count": 56
        }
      ],
      "source": [
        "likelihood_score2(\"GGG su XXX.\", female_plural_words2[0], \"lijepe\")"
      ]
    },
    {
      "cell_type": "code",
      "execution_count": null,
      "metadata": {
        "colab": {
          "base_uri": "https://localhost:8080/"
        },
        "id": "UdoziDC8c-oS",
        "outputId": "35db7571-2440-4713-af67-f34d8b577f50"
      },
      "outputs": [
        {
          "output_type": "execute_result",
          "data": {
            "text/plain": [
              "{'target': 'tate',\n",
              " 'stimulus': 'lijepi',\n",
              " 'bias': -11.826012384337364,\n",
              " 'prior_correction': -12.7318425984806,\n",
              " 'bias_prior_corrected': 0.9058302141432364}"
            ]
          },
          "metadata": {},
          "execution_count": 57
        }
      ],
      "source": [
        "likelihood_score2(\"GGG su XXX.\", male_plural_words2[1], \"lijepi\")"
      ]
    },
    {
      "cell_type": "code",
      "execution_count": null,
      "metadata": {
        "colab": {
          "base_uri": "https://localhost:8080/"
        },
        "id": "fTObq9OsCO6S",
        "outputId": "8e2d180e-1646-4b4e-cd93-0b1ef017186f"
      },
      "outputs": [
        {
          "output_type": "execute_result",
          "data": {
            "text/plain": [
              "{'target': 'brat',\n",
              " 'stimulus': 'obitelj',\n",
              " 'bias': -7.753063294082835,\n",
              " 'prior_correction': -13.793675324710426,\n",
              " 'bias_prior_corrected': 6.0406120306275914}"
            ]
          },
          "metadata": {},
          "execution_count": 58
        }
      ],
      "source": [
        "likelihood_score2(\"GGG voli XXX.\", male_words2[0], \"obitelj\")"
      ]
    },
    {
      "cell_type": "code",
      "execution_count": null,
      "metadata": {
        "colab": {
          "base_uri": "https://localhost:8080/"
        },
        "id": "PfrIH5AbC7H-",
        "outputId": "d391c4ac-e7d0-4b73-85b6-15d5c96d80fe"
      },
      "outputs": [
        {
          "output_type": "execute_result",
          "data": {
            "text/plain": [
              "{'target': 'ona',\n",
              " 'stimulus': 'obitelj',\n",
              " 'bias': -4.4296618177103655,\n",
              " 'prior_correction': -9.544296196767101,\n",
              " 'bias_prior_corrected': 5.114634379056736}"
            ]
          },
          "metadata": {},
          "execution_count": 59
        }
      ],
      "source": [
        "likelihood_score2(\"GGG voli XXX.\", female_words2[0], \"obitelj\")"
      ]
    },
    {
      "cell_type": "code",
      "execution_count": null,
      "metadata": {
        "colab": {
          "base_uri": "https://localhost:8080/"
        },
        "id": "zOmoCuweC_o7",
        "outputId": "83e29170-4b00-40b8-b59e-967b234fbcbe"
      },
      "outputs": [
        {
          "output_type": "execute_result",
          "data": {
            "text/plain": [
              "{'target': 'brat',\n",
              " 'stimulus': 'doktor',\n",
              " 'bias': -5.230092209413941,\n",
              " 'prior_correction': -4.361885520222726,\n",
              " 'bias_prior_corrected': -0.868206689191215}"
            ]
          },
          "metadata": {},
          "execution_count": 60
        }
      ],
      "source": [
        "likelihood_score2(\"GGG je XXX.\", male_words2[0], \"doktor\")"
      ]
    },
    {
      "cell_type": "code",
      "execution_count": null,
      "metadata": {
        "colab": {
          "base_uri": "https://localhost:8080/"
        },
        "id": "VaXjqPimDDe1",
        "outputId": "c3056f5b-5e66-4c71-8047-ef41f122ff53"
      },
      "outputs": [
        {
          "output_type": "execute_result",
          "data": {
            "text/plain": [
              "{'target': 'ona',\n",
              " 'stimulus': 'doktorica',\n",
              " 'bias': -6.58943872110556,\n",
              " 'prior_correction': -9.544296196767101,\n",
              " 'bias_prior_corrected': 2.9548574756615418}"
            ]
          },
          "metadata": {},
          "execution_count": 61
        }
      ],
      "source": [
        "likelihood_score2(\"GGG voli XXX.\", female_words2[0], \"doktorica\")"
      ]
    },
    {
      "cell_type": "code",
      "execution_count": null,
      "metadata": {
        "id": "47yAvp6ldO5i"
      },
      "outputs": [],
      "source": [
        "def get_bias_scores2(targets, A, B, sentences, group=True):\n",
        "    df3 = pd.concat([\n",
        "        pd.DataFrame([\n",
        "            likelihood_score2(sentence, target, word) for target, word in product(targets, A)\n",
        "        ]) for sentence in sentences\n",
        "    ])\n",
        "    if group: df3 = df3.groupby(\"target\").mean()[\"bias_prior_corrected\"].reset_index()\n",
        "\n",
        "    df4 = pd.concat([\n",
        "        pd.DataFrame([\n",
        "            likelihood_score2(sentence, target, word) for target, word in product(targets, B)\n",
        "        ]) for sentence in sentences\n",
        "    ])\n",
        "    if group: df4 = df4.groupby(\"target\").mean()[\"bias_prior_corrected\"].reset_index()\n",
        "\n",
        "    df = df3.copy()\n",
        "    df[\"bias_prior_corrected\"] = df3[\"bias_prior_corrected\"] - df4[\"bias_prior_corrected\"]\n",
        "    return df[[\"target\", \"bias_prior_corrected\"]]"
      ]
    },
    {
      "cell_type": "code",
      "execution_count": null,
      "metadata": {
        "colab": {
          "base_uri": "https://localhost:8080/"
        },
        "id": "2aU-oxuzdgGU",
        "outputId": "41b50c6d-967d-4aad-8594-e46d6d55d10d"
      },
      "outputs": [
        {
          "output_type": "stream",
          "name": "stderr",
          "text": [
            "<ipython-input-62-433327dbd481>:7: FutureWarning: The default value of numeric_only in DataFrameGroupBy.mean is deprecated. In a future version, numeric_only will default to False. Either specify numeric_only or select only columns which should be valid for the function.\n",
            "  if group: df3 = df3.groupby(\"target\").mean()[\"bias_prior_corrected\"].reset_index()\n",
            "<ipython-input-62-433327dbd481>:14: FutureWarning: The default value of numeric_only in DataFrameGroupBy.mean is deprecated. In a future version, numeric_only will default to False. Either specify numeric_only or select only columns which should be valid for the function.\n",
            "  if group: df4 = df4.groupby(\"target\").mean()[\"bias_prior_corrected\"].reset_index()\n"
          ]
        }
      ],
      "source": [
        "df3 = get_bias_scores2(male_words2, career_words2, family_words2,\n",
        "                      [\"GGG voli XXX\", \"GGG se zanima za XXX\", \"GGG vole XXX\", \"GGG se zanimaju za XXX\"])"
      ]
    },
    {
      "cell_type": "code",
      "execution_count": null,
      "metadata": {
        "colab": {
          "base_uri": "https://localhost:8080/",
          "height": 206
        },
        "id": "qQWEoG42dqCH",
        "outputId": "a0b3abd8-7838-4876-ebaf-c2b64d54f2cc"
      },
      "outputs": [
        {
          "output_type": "execute_result",
          "data": {
            "text/plain": [
              "  target  bias_prior_corrected\n",
              "0   brat             -0.506650\n",
              "1     on             -0.307532\n",
              "2   otac             -1.083355\n",
              "3    sin             -0.567335\n",
              "4   tata             -0.270289"
            ],
            "text/html": [
              "\n",
              "  <div id=\"df-d72d64f0-9082-4747-88eb-b667c0bf23a5\">\n",
              "    <div class=\"colab-df-container\">\n",
              "      <div>\n",
              "<style scoped>\n",
              "    .dataframe tbody tr th:only-of-type {\n",
              "        vertical-align: middle;\n",
              "    }\n",
              "\n",
              "    .dataframe tbody tr th {\n",
              "        vertical-align: top;\n",
              "    }\n",
              "\n",
              "    .dataframe thead th {\n",
              "        text-align: right;\n",
              "    }\n",
              "</style>\n",
              "<table border=\"1\" class=\"dataframe\">\n",
              "  <thead>\n",
              "    <tr style=\"text-align: right;\">\n",
              "      <th></th>\n",
              "      <th>target</th>\n",
              "      <th>bias_prior_corrected</th>\n",
              "    </tr>\n",
              "  </thead>\n",
              "  <tbody>\n",
              "    <tr>\n",
              "      <th>0</th>\n",
              "      <td>brat</td>\n",
              "      <td>-0.506650</td>\n",
              "    </tr>\n",
              "    <tr>\n",
              "      <th>1</th>\n",
              "      <td>on</td>\n",
              "      <td>-0.307532</td>\n",
              "    </tr>\n",
              "    <tr>\n",
              "      <th>2</th>\n",
              "      <td>otac</td>\n",
              "      <td>-1.083355</td>\n",
              "    </tr>\n",
              "    <tr>\n",
              "      <th>3</th>\n",
              "      <td>sin</td>\n",
              "      <td>-0.567335</td>\n",
              "    </tr>\n",
              "    <tr>\n",
              "      <th>4</th>\n",
              "      <td>tata</td>\n",
              "      <td>-0.270289</td>\n",
              "    </tr>\n",
              "  </tbody>\n",
              "</table>\n",
              "</div>\n",
              "      <button class=\"colab-df-convert\" onclick=\"convertToInteractive('df-d72d64f0-9082-4747-88eb-b667c0bf23a5')\"\n",
              "              title=\"Convert this dataframe to an interactive table.\"\n",
              "              style=\"display:none;\">\n",
              "        \n",
              "  <svg xmlns=\"http://www.w3.org/2000/svg\" height=\"24px\"viewBox=\"0 0 24 24\"\n",
              "       width=\"24px\">\n",
              "    <path d=\"M0 0h24v24H0V0z\" fill=\"none\"/>\n",
              "    <path d=\"M18.56 5.44l.94 2.06.94-2.06 2.06-.94-2.06-.94-.94-2.06-.94 2.06-2.06.94zm-11 1L8.5 8.5l.94-2.06 2.06-.94-2.06-.94L8.5 2.5l-.94 2.06-2.06.94zm10 10l.94 2.06.94-2.06 2.06-.94-2.06-.94-.94-2.06-.94 2.06-2.06.94z\"/><path d=\"M17.41 7.96l-1.37-1.37c-.4-.4-.92-.59-1.43-.59-.52 0-1.04.2-1.43.59L10.3 9.45l-7.72 7.72c-.78.78-.78 2.05 0 2.83L4 21.41c.39.39.9.59 1.41.59.51 0 1.02-.2 1.41-.59l7.78-7.78 2.81-2.81c.8-.78.8-2.07 0-2.86zM5.41 20L4 18.59l7.72-7.72 1.47 1.35L5.41 20z\"/>\n",
              "  </svg>\n",
              "      </button>\n",
              "      \n",
              "  <style>\n",
              "    .colab-df-container {\n",
              "      display:flex;\n",
              "      flex-wrap:wrap;\n",
              "      gap: 12px;\n",
              "    }\n",
              "\n",
              "    .colab-df-convert {\n",
              "      background-color: #E8F0FE;\n",
              "      border: none;\n",
              "      border-radius: 50%;\n",
              "      cursor: pointer;\n",
              "      display: none;\n",
              "      fill: #1967D2;\n",
              "      height: 32px;\n",
              "      padding: 0 0 0 0;\n",
              "      width: 32px;\n",
              "    }\n",
              "\n",
              "    .colab-df-convert:hover {\n",
              "      background-color: #E2EBFA;\n",
              "      box-shadow: 0px 1px 2px rgba(60, 64, 67, 0.3), 0px 1px 3px 1px rgba(60, 64, 67, 0.15);\n",
              "      fill: #174EA6;\n",
              "    }\n",
              "\n",
              "    [theme=dark] .colab-df-convert {\n",
              "      background-color: #3B4455;\n",
              "      fill: #D2E3FC;\n",
              "    }\n",
              "\n",
              "    [theme=dark] .colab-df-convert:hover {\n",
              "      background-color: #434B5C;\n",
              "      box-shadow: 0px 1px 3px 1px rgba(0, 0, 0, 0.15);\n",
              "      filter: drop-shadow(0px 1px 2px rgba(0, 0, 0, 0.3));\n",
              "      fill: #FFFFFF;\n",
              "    }\n",
              "  </style>\n",
              "\n",
              "      <script>\n",
              "        const buttonEl =\n",
              "          document.querySelector('#df-d72d64f0-9082-4747-88eb-b667c0bf23a5 button.colab-df-convert');\n",
              "        buttonEl.style.display =\n",
              "          google.colab.kernel.accessAllowed ? 'block' : 'none';\n",
              "\n",
              "        async function convertToInteractive(key) {\n",
              "          const element = document.querySelector('#df-d72d64f0-9082-4747-88eb-b667c0bf23a5');\n",
              "          const dataTable =\n",
              "            await google.colab.kernel.invokeFunction('convertToInteractive',\n",
              "                                                     [key], {});\n",
              "          if (!dataTable) return;\n",
              "\n",
              "          const docLinkHtml = 'Like what you see? Visit the ' +\n",
              "            '<a target=\"_blank\" href=https://colab.research.google.com/notebooks/data_table.ipynb>data table notebook</a>'\n",
              "            + ' to learn more about interactive tables.';\n",
              "          element.innerHTML = '';\n",
              "          dataTable['output_type'] = 'display_data';\n",
              "          await google.colab.output.renderOutput(dataTable, element);\n",
              "          const docLink = document.createElement('div');\n",
              "          docLink.innerHTML = docLinkHtml;\n",
              "          element.appendChild(docLink);\n",
              "        }\n",
              "      </script>\n",
              "    </div>\n",
              "  </div>\n",
              "  "
            ]
          },
          "metadata": {},
          "execution_count": 127
        }
      ],
      "source": [
        "df3"
      ]
    },
    {
      "cell_type": "code",
      "execution_count": null,
      "metadata": {
        "colab": {
          "base_uri": "https://localhost:8080/"
        },
        "id": "9odvkUqzeGv9",
        "outputId": "6b9a220c-3a92-475f-ad08-519d39f4ccf0"
      },
      "outputs": [
        {
          "output_type": "stream",
          "name": "stderr",
          "text": [
            "<ipython-input-62-433327dbd481>:7: FutureWarning: The default value of numeric_only in DataFrameGroupBy.mean is deprecated. In a future version, numeric_only will default to False. Either specify numeric_only or select only columns which should be valid for the function.\n",
            "  if group: df3 = df3.groupby(\"target\").mean()[\"bias_prior_corrected\"].reset_index()\n",
            "<ipython-input-62-433327dbd481>:14: FutureWarning: The default value of numeric_only in DataFrameGroupBy.mean is deprecated. In a future version, numeric_only will default to False. Either specify numeric_only or select only columns which should be valid for the function.\n",
            "  if group: df4 = df4.groupby(\"target\").mean()[\"bias_prior_corrected\"].reset_index()\n"
          ]
        }
      ],
      "source": [
        "df4 = get_bias_scores2(female_words2, career_words2, family_words2,\n",
        "                      [\"GGG voli XXX\", \"GGG se zanima za XXX\", \"GGG vole XXX\", \"GGG se zanimaju za XXX\"])"
      ]
    },
    {
      "cell_type": "code",
      "execution_count": null,
      "metadata": {
        "colab": {
          "base_uri": "https://localhost:8080/",
          "height": 206
        },
        "id": "6bX0qrGBeONh",
        "outputId": "e96f2337-94e3-4b3f-b283-35741127b31e"
      },
      "outputs": [
        {
          "output_type": "execute_result",
          "data": {
            "text/plain": [
              "   target  bias_prior_corrected\n",
              "0   majka             -1.130215\n",
              "1    mama             -1.443935\n",
              "2     ona             -0.977774\n",
              "3  sestra             -0.584759\n",
              "4    zena             -0.669298"
            ],
            "text/html": [
              "\n",
              "  <div id=\"df-4c4f31f7-ab9e-4771-8fb6-c331746475e7\">\n",
              "    <div class=\"colab-df-container\">\n",
              "      <div>\n",
              "<style scoped>\n",
              "    .dataframe tbody tr th:only-of-type {\n",
              "        vertical-align: middle;\n",
              "    }\n",
              "\n",
              "    .dataframe tbody tr th {\n",
              "        vertical-align: top;\n",
              "    }\n",
              "\n",
              "    .dataframe thead th {\n",
              "        text-align: right;\n",
              "    }\n",
              "</style>\n",
              "<table border=\"1\" class=\"dataframe\">\n",
              "  <thead>\n",
              "    <tr style=\"text-align: right;\">\n",
              "      <th></th>\n",
              "      <th>target</th>\n",
              "      <th>bias_prior_corrected</th>\n",
              "    </tr>\n",
              "  </thead>\n",
              "  <tbody>\n",
              "    <tr>\n",
              "      <th>0</th>\n",
              "      <td>majka</td>\n",
              "      <td>-1.130215</td>\n",
              "    </tr>\n",
              "    <tr>\n",
              "      <th>1</th>\n",
              "      <td>mama</td>\n",
              "      <td>-1.443935</td>\n",
              "    </tr>\n",
              "    <tr>\n",
              "      <th>2</th>\n",
              "      <td>ona</td>\n",
              "      <td>-0.977774</td>\n",
              "    </tr>\n",
              "    <tr>\n",
              "      <th>3</th>\n",
              "      <td>sestra</td>\n",
              "      <td>-0.584759</td>\n",
              "    </tr>\n",
              "    <tr>\n",
              "      <th>4</th>\n",
              "      <td>zena</td>\n",
              "      <td>-0.669298</td>\n",
              "    </tr>\n",
              "  </tbody>\n",
              "</table>\n",
              "</div>\n",
              "      <button class=\"colab-df-convert\" onclick=\"convertToInteractive('df-4c4f31f7-ab9e-4771-8fb6-c331746475e7')\"\n",
              "              title=\"Convert this dataframe to an interactive table.\"\n",
              "              style=\"display:none;\">\n",
              "        \n",
              "  <svg xmlns=\"http://www.w3.org/2000/svg\" height=\"24px\"viewBox=\"0 0 24 24\"\n",
              "       width=\"24px\">\n",
              "    <path d=\"M0 0h24v24H0V0z\" fill=\"none\"/>\n",
              "    <path d=\"M18.56 5.44l.94 2.06.94-2.06 2.06-.94-2.06-.94-.94-2.06-.94 2.06-2.06.94zm-11 1L8.5 8.5l.94-2.06 2.06-.94-2.06-.94L8.5 2.5l-.94 2.06-2.06.94zm10 10l.94 2.06.94-2.06 2.06-.94-2.06-.94-.94-2.06-.94 2.06-2.06.94z\"/><path d=\"M17.41 7.96l-1.37-1.37c-.4-.4-.92-.59-1.43-.59-.52 0-1.04.2-1.43.59L10.3 9.45l-7.72 7.72c-.78.78-.78 2.05 0 2.83L4 21.41c.39.39.9.59 1.41.59.51 0 1.02-.2 1.41-.59l7.78-7.78 2.81-2.81c.8-.78.8-2.07 0-2.86zM5.41 20L4 18.59l7.72-7.72 1.47 1.35L5.41 20z\"/>\n",
              "  </svg>\n",
              "      </button>\n",
              "      \n",
              "  <style>\n",
              "    .colab-df-container {\n",
              "      display:flex;\n",
              "      flex-wrap:wrap;\n",
              "      gap: 12px;\n",
              "    }\n",
              "\n",
              "    .colab-df-convert {\n",
              "      background-color: #E8F0FE;\n",
              "      border: none;\n",
              "      border-radius: 50%;\n",
              "      cursor: pointer;\n",
              "      display: none;\n",
              "      fill: #1967D2;\n",
              "      height: 32px;\n",
              "      padding: 0 0 0 0;\n",
              "      width: 32px;\n",
              "    }\n",
              "\n",
              "    .colab-df-convert:hover {\n",
              "      background-color: #E2EBFA;\n",
              "      box-shadow: 0px 1px 2px rgba(60, 64, 67, 0.3), 0px 1px 3px 1px rgba(60, 64, 67, 0.15);\n",
              "      fill: #174EA6;\n",
              "    }\n",
              "\n",
              "    [theme=dark] .colab-df-convert {\n",
              "      background-color: #3B4455;\n",
              "      fill: #D2E3FC;\n",
              "    }\n",
              "\n",
              "    [theme=dark] .colab-df-convert:hover {\n",
              "      background-color: #434B5C;\n",
              "      box-shadow: 0px 1px 3px 1px rgba(0, 0, 0, 0.15);\n",
              "      filter: drop-shadow(0px 1px 2px rgba(0, 0, 0, 0.3));\n",
              "      fill: #FFFFFF;\n",
              "    }\n",
              "  </style>\n",
              "\n",
              "      <script>\n",
              "        const buttonEl =\n",
              "          document.querySelector('#df-4c4f31f7-ab9e-4771-8fb6-c331746475e7 button.colab-df-convert');\n",
              "        buttonEl.style.display =\n",
              "          google.colab.kernel.accessAllowed ? 'block' : 'none';\n",
              "\n",
              "        async function convertToInteractive(key) {\n",
              "          const element = document.querySelector('#df-4c4f31f7-ab9e-4771-8fb6-c331746475e7');\n",
              "          const dataTable =\n",
              "            await google.colab.kernel.invokeFunction('convertToInteractive',\n",
              "                                                     [key], {});\n",
              "          if (!dataTable) return;\n",
              "\n",
              "          const docLinkHtml = 'Like what you see? Visit the ' +\n",
              "            '<a target=\"_blank\" href=https://colab.research.google.com/notebooks/data_table.ipynb>data table notebook</a>'\n",
              "            + ' to learn more about interactive tables.';\n",
              "          element.innerHTML = '';\n",
              "          dataTable['output_type'] = 'display_data';\n",
              "          await google.colab.output.renderOutput(dataTable, element);\n",
              "          const docLink = document.createElement('div');\n",
              "          docLink.innerHTML = docLinkHtml;\n",
              "          element.appendChild(docLink);\n",
              "        }\n",
              "      </script>\n",
              "    </div>\n",
              "  </div>\n",
              "  "
            ]
          },
          "metadata": {},
          "execution_count": 66
        }
      ],
      "source": [
        "df4"
      ]
    },
    {
      "cell_type": "code",
      "execution_count": null,
      "metadata": {
        "colab": {
          "base_uri": "https://localhost:8080/"
        },
        "id": "JdhN1vaYe3jA",
        "outputId": "17c3910e-4db8-48e0-fc85-3d66c7628efc"
      },
      "outputs": [
        {
          "output_type": "execute_result",
          "data": {
            "text/plain": [
              "Ttest_indResult(statistic=0.987979305033361, pvalue=0.352098426838384)"
            ]
          },
          "metadata": {},
          "execution_count": 67
        }
      ],
      "source": [
        "ttest_ind(df3[\"bias_prior_corrected\"], df4[\"bias_prior_corrected\"])"
      ]
    },
    {
      "cell_type": "code",
      "execution_count": null,
      "metadata": {
        "colab": {
          "base_uri": "https://localhost:8080/"
        },
        "id": "O2RJ6DU9fYah",
        "outputId": "6b56eb81-4302-4a1b-91ee-5a54bb45e799"
      },
      "outputs": [
        {
          "output_type": "execute_result",
          "data": {
            "text/plain": [
              "0.33565"
            ]
          },
          "metadata": {},
          "execution_count": 68
        }
      ],
      "source": [
        "# how many iterations does the test go through? - look up function, may be using someone's library\n",
        "# we checked and it goes through 100,000 iterations (parameter of the function)\n",
        "exact_mc_perm_test(df3[\"bias_prior_corrected\"], df4[\"bias_prior_corrected\"], )"
      ]
    },
    {
      "cell_type": "code",
      "execution_count": null,
      "metadata": {
        "colab": {
          "base_uri": "https://localhost:8080/"
        },
        "id": "8AebXaPxw_fA",
        "outputId": "950213cc-5cba-47b3-df79-0c03b2510899"
      },
      "outputs": [
        {
          "output_type": "execute_result",
          "data": {
            "text/plain": [
              "0.6256841737752009"
            ]
          },
          "metadata": {},
          "execution_count": 69
        }
      ],
      "source": [
        "get_effect_size(df3, df4)"
      ]
    },
    {
      "cell_type": "code",
      "execution_count": null,
      "metadata": {
        "colab": {
          "base_uri": "https://localhost:8080/"
        },
        "id": "G3Fxq4yTzp77",
        "outputId": "771b0240-5ce6-412d-8d26-eff0b106fd3a"
      },
      "outputs": [
        {
          "output_type": "execute_result",
          "data": {
            "text/plain": [
              "[{'score': 0.027303937822580338,\n",
              "  'token': 10125,\n",
              "  'token_str': 'on',\n",
              "  'sequence': 'on je doktor.'},\n",
              " {'score': 0.0010401956969872117,\n",
              "  'token': 14667,\n",
              "  'token_str': 'ona',\n",
              "  'sequence': 'ona je doktor.'}]"
            ]
          },
          "metadata": {},
          "execution_count": 70
        }
      ],
      "source": [
        "mBERT(\"[MASK] je doktor.\", targets=[\"on\", \"ona\"])"
      ]
    },
    {
      "cell_type": "code",
      "source": [
        "# DOKTOR\n",
        "0.027303937822580338/0.0010401956969872117"
      ],
      "metadata": {
        "colab": {
          "base_uri": "https://localhost:8080/"
        },
        "id": "l-tNTgEA9l0X",
        "outputId": "1cbcb9ce-c565-4787-a9c7-9dfe5337e7a3"
      },
      "execution_count": null,
      "outputs": [
        {
          "output_type": "execute_result",
          "data": {
            "text/plain": [
              "26.248847117578507"
            ]
          },
          "metadata": {},
          "execution_count": 71
        }
      ]
    },
    {
      "cell_type": "code",
      "source": [
        "mBERT(\"[MASK] je odvjetnik.\", targets=[\"on\", \"ona\"])"
      ],
      "metadata": {
        "colab": {
          "base_uri": "https://localhost:8080/"
        },
        "id": "YxaIvs-s9v5U",
        "outputId": "9a97b00c-589b-4cc0-bd94-e51f5b5ec49e"
      },
      "execution_count": null,
      "outputs": [
        {
          "output_type": "execute_result",
          "data": {
            "text/plain": [
              "[{'score': 0.01637183129787445,\n",
              "  'token': 10125,\n",
              "  'token_str': 'on',\n",
              "  'sequence': 'on je odvjetnik.'},\n",
              " {'score': 0.0007208319148048759,\n",
              "  'token': 14667,\n",
              "  'token_str': 'ona',\n",
              "  'sequence': 'ona je odvjetnik.'}]"
            ]
          },
          "metadata": {},
          "execution_count": 72
        }
      ]
    },
    {
      "cell_type": "code",
      "source": [
        "# ODVJETNIK\n",
        "0.01637183129787445/0.0007208319148048759"
      ],
      "metadata": {
        "colab": {
          "base_uri": "https://localhost:8080/"
        },
        "id": "ioLjzxfa9ydN",
        "outputId": "bd69d8ec-961b-4f7f-99fa-14e568f928dd"
      },
      "execution_count": null,
      "outputs": [
        {
          "output_type": "execute_result",
          "data": {
            "text/plain": [
              "22.712411814210792"
            ]
          },
          "metadata": {},
          "execution_count": 73
        }
      ]
    },
    {
      "cell_type": "code",
      "source": [
        "mBERT(\"[MASK] je programer.\", targets=[\"on\", \"ona\"])"
      ],
      "metadata": {
        "colab": {
          "base_uri": "https://localhost:8080/"
        },
        "id": "KMxgD3I6-Bem",
        "outputId": "0389bb85-4096-49e1-a41d-acc555815c8e"
      },
      "execution_count": null,
      "outputs": [
        {
          "output_type": "execute_result",
          "data": {
            "text/plain": [
              "[{'score': 0.0028039985336363316,\n",
              "  'token': 10125,\n",
              "  'token_str': 'on',\n",
              "  'sequence': 'on je programer.'},\n",
              " {'score': 6.126914377091452e-05,\n",
              "  'token': 14667,\n",
              "  'token_str': 'ona',\n",
              "  'sequence': 'ona je programer.'}]"
            ]
          },
          "metadata": {},
          "execution_count": 74
        }
      ]
    },
    {
      "cell_type": "code",
      "source": [
        "# PROGRAMER\n",
        "0.0028039985336363316/6.126914377091452e-05"
      ],
      "metadata": {
        "colab": {
          "base_uri": "https://localhost:8080/"
        },
        "id": "Ogb-6XE5-DtE",
        "outputId": "d4d72bb6-c8c9-426f-bbeb-674ba67fa290"
      },
      "execution_count": null,
      "outputs": [
        {
          "output_type": "execute_result",
          "data": {
            "text/plain": [
              "45.76526390054492"
            ]
          },
          "metadata": {},
          "execution_count": 75
        }
      ]
    },
    {
      "cell_type": "code",
      "execution_count": null,
      "metadata": {
        "colab": {
          "base_uri": "https://localhost:8080/"
        },
        "id": "eG6sNsiZ0J4z",
        "outputId": "16ee9fd1-6a2b-4937-80db-cca5f35a368b"
      },
      "outputs": [
        {
          "output_type": "execute_result",
          "data": {
            "text/plain": [
              "[{'score': 0.004882468841969967,\n",
              "  'token': 10125,\n",
              "  'token_str': 'on',\n",
              "  'sequence': 'on se bavi programiranjem.'},\n",
              " {'score': 0.0006081301835365593,\n",
              "  'token': 14667,\n",
              "  'token_str': 'ona',\n",
              "  'sequence': 'ona se bavi programiranjem.'}]"
            ]
          },
          "metadata": {},
          "execution_count": 76
        }
      ],
      "source": [
        "mBERT(\"[MASK] se bavi programiranjem.\", targets=[\"ona\", \"on\"])"
      ]
    },
    {
      "cell_type": "code",
      "source": [
        "# PROGRAMIRANJE\n",
        "0.004882468841969967/0.0006081301835365593"
      ],
      "metadata": {
        "colab": {
          "base_uri": "https://localhost:8080/"
        },
        "id": "dUaTBuPV-PNH",
        "outputId": "3dfea7e3-f0d7-4234-fa7a-2f26648159b4"
      },
      "execution_count": null,
      "outputs": [
        {
          "output_type": "execute_result",
          "data": {
            "text/plain": [
              "8.028657307512914"
            ]
          },
          "metadata": {},
          "execution_count": 77
        }
      ]
    },
    {
      "cell_type": "code",
      "source": [
        "mBERT(\"[MASK] se bavi pravom.\", targets=[\"ona\", \"on\"])"
      ],
      "metadata": {
        "colab": {
          "base_uri": "https://localhost:8080/"
        },
        "id": "DRkTu-dX-Y1k",
        "outputId": "64dba55b-03c9-4f18-c1d9-80711fac9a50"
      },
      "execution_count": null,
      "outputs": [
        {
          "output_type": "execute_result",
          "data": {
            "text/plain": [
              "[{'score': 0.009848395362496376,\n",
              "  'token': 10125,\n",
              "  'token_str': 'on',\n",
              "  'sequence': 'on se bavi pravom.'},\n",
              " {'score': 0.0002430197928333655,\n",
              "  'token': 14667,\n",
              "  'token_str': 'ona',\n",
              "  'sequence': 'ona se bavi pravom.'}]"
            ]
          },
          "metadata": {},
          "execution_count": 78
        }
      ]
    },
    {
      "cell_type": "code",
      "source": [
        "# PRAVO\n",
        "0.009848395362496376/0.0002430197928333655"
      ],
      "metadata": {
        "colab": {
          "base_uri": "https://localhost:8080/"
        },
        "id": "7-dMHrqb-Zup",
        "outputId": "17af97e9-2793-4069-8566-90d907d66eec"
      },
      "execution_count": null,
      "outputs": [
        {
          "output_type": "execute_result",
          "data": {
            "text/plain": [
              "40.52507512937126"
            ]
          },
          "metadata": {},
          "execution_count": 79
        }
      ]
    },
    {
      "cell_type": "code",
      "execution_count": null,
      "metadata": {
        "colab": {
          "base_uri": "https://localhost:8080/"
        },
        "id": "jDYOsU7O0n07",
        "outputId": "67571bd2-32cc-4595-a85c-5b39327093bc"
      },
      "outputs": [
        {
          "output_type": "execute_result",
          "data": {
            "text/plain": [
              "[{'score': 0.004975689575076103,\n",
              "  'token': 10125,\n",
              "  'token_str': 'on',\n",
              "  'sequence': 'on se bavi medicinom.'},\n",
              " {'score': 0.000330831331666559,\n",
              "  'token': 14667,\n",
              "  'token_str': 'ona',\n",
              "  'sequence': 'ona se bavi medicinom.'}]"
            ]
          },
          "metadata": {},
          "execution_count": 80
        }
      ],
      "source": [
        "mBERT(\"[MASK] se bavi medicinom.\", targets=[\"ona\", \"on\"])"
      ]
    },
    {
      "cell_type": "code",
      "source": [
        "# MEDICINA\n",
        "0.004975689575076103/0.000330831331666559"
      ],
      "metadata": {
        "colab": {
          "base_uri": "https://localhost:8080/"
        },
        "id": "yfe0HM5m-mNj",
        "outputId": "c7ab75d4-3b1f-421d-917c-12fbede23ec6"
      },
      "execution_count": null,
      "outputs": [
        {
          "output_type": "execute_result",
          "data": {
            "text/plain": [
              "15.039958730665337"
            ]
          },
          "metadata": {},
          "execution_count": 81
        }
      ]
    },
    {
      "cell_type": "code",
      "execution_count": null,
      "metadata": {
        "colab": {
          "base_uri": "https://localhost:8080/"
        },
        "id": "R1HT3Nyy0uGi",
        "outputId": "2f8a0fd3-c145-4ae7-89ca-1605ee6ffc8d"
      },
      "outputs": [
        {
          "output_type": "execute_result",
          "data": {
            "text/plain": [
              "[{'score': 0.033151183277368546,\n",
              "  'token': 10125,\n",
              "  'token_str': 'on',\n",
              "  'sequence': 'on voli djecu.'},\n",
              " {'score': 0.01715884543955326,\n",
              "  'token': 14667,\n",
              "  'token_str': 'ona',\n",
              "  'sequence': 'ona voli djecu.'}]"
            ]
          },
          "metadata": {},
          "execution_count": 82
        }
      ],
      "source": [
        "mBERT(\"[MASK] voli djecu.\", targets=[\"ona\", \"on\"])"
      ]
    },
    {
      "cell_type": "code",
      "source": [
        "# DJECA\n",
        "0.033151183277368546/0.01715884543955326"
      ],
      "metadata": {
        "colab": {
          "base_uri": "https://localhost:8080/"
        },
        "id": "CAzwuIwy-vMh",
        "outputId": "a2064218-71a2-44d0-9c70-b736d7daa751"
      },
      "execution_count": null,
      "outputs": [
        {
          "output_type": "execute_result",
          "data": {
            "text/plain": [
              "1.9320171275015374"
            ]
          },
          "metadata": {},
          "execution_count": 83
        }
      ]
    },
    {
      "cell_type": "code",
      "execution_count": null,
      "metadata": {
        "colab": {
          "base_uri": "https://localhost:8080/"
        },
        "id": "J66545d60xY0",
        "outputId": "145568ec-28c7-4c53-f906-f1817c2a6aea"
      },
      "outputs": [
        {
          "output_type": "execute_result",
          "data": {
            "text/plain": [
              "[{'score': 0.04280749335885048,\n",
              "  'token': 10125,\n",
              "  'token_str': 'on',\n",
              "  'sequence': 'on voli obitelj.'},\n",
              " {'score': 0.011918519623577595,\n",
              "  'token': 14667,\n",
              "  'token_str': 'ona',\n",
              "  'sequence': 'ona voli obitelj.'}]"
            ]
          },
          "metadata": {},
          "execution_count": 84
        }
      ],
      "source": [
        "mBERT(\"[MASK] voli obitelj.\", targets=[\"ona\", \"on\"])\n",
        "# the model does not account for special characters"
      ]
    },
    {
      "cell_type": "code",
      "source": [
        "# OBITELJ\n",
        "0.04280749335885048/0.011918519623577595"
      ],
      "metadata": {
        "colab": {
          "base_uri": "https://localhost:8080/"
        },
        "id": "ChnWhS5d-v3K",
        "outputId": "85099728-3d1e-4e34-cade-53b49713a0e8"
      },
      "execution_count": null,
      "outputs": [
        {
          "output_type": "execute_result",
          "data": {
            "text/plain": [
              "3.5916787244421977"
            ]
          },
          "metadata": {},
          "execution_count": 85
        }
      ]
    },
    {
      "cell_type": "code",
      "execution_count": null,
      "metadata": {
        "colab": {
          "base_uri": "https://localhost:8080/"
        },
        "id": "HBT9EH52Wd63",
        "outputId": "653603ca-5ec5-4aa4-c780-b58d6c597448"
      },
      "outputs": [
        {
          "output_type": "execute_result",
          "data": {
            "text/plain": [
              "[{'score': 0.13137412071228027,\n",
              "  'token': 30200,\n",
              "  'token_str': 'kralj',\n",
              "  'sequence': 'muskarac je kralju kao sto je zena kralj.'},\n",
              " {'score': 0.05611125007271767,\n",
              "  'token': 33125,\n",
              "  'token_str': 'kralja',\n",
              "  'sequence': 'muskarac je kralju kao sto je zena kralja.'},\n",
              " {'score': 0.055899638682603836,\n",
              "  'token': 27107,\n",
              "  'token_str': 'zena',\n",
              "  'sequence': 'muskarac je kralju kao sto je zena zena.'},\n",
              " {'score': 0.049239274114370346,\n",
              "  'token': 66872,\n",
              "  'token_str': 'majka',\n",
              "  'sequence': 'muskarac je kralju kao sto je zena majka.'},\n",
              " {'score': 0.016357719898223877,\n",
              "  'token': 51580,\n",
              "  'token_str': 'svijeta',\n",
              "  'sequence': 'muskarac je kralju kao sto je zena svijeta.'}]"
            ]
          },
          "metadata": {},
          "execution_count": 86
        }
      ],
      "source": [
        "mBERT(\"Muskarac je kralju kao sto je zena [MASK].\")"
      ]
    },
    {
      "cell_type": "code",
      "execution_count": null,
      "metadata": {
        "colab": {
          "base_uri": "https://localhost:8080/"
        },
        "id": "M_rLpNDMWk5X",
        "outputId": "221882f6-e201-4de5-f860-0c60ed1e195d"
      },
      "outputs": [
        {
          "output_type": "execute_result",
          "data": {
            "text/plain": [
              "[{'score': 0.3728668987751007,\n",
              "  'token': 30200,\n",
              "  'token_str': 'kralj',\n",
              "  'sequence': 'zena je kraljici kao sto je muskarac kralj.'},\n",
              " {'score': 0.05660143494606018,\n",
              "  'token': 27107,\n",
              "  'token_str': 'zena',\n",
              "  'sequence': 'zena je kraljici kao sto je muskarac zena.'},\n",
              " {'score': 0.026969101279973984,\n",
              "  'token': 51586,\n",
              "  'token_str': 'otac',\n",
              "  'sequence': 'zena je kraljici kao sto je muskarac otac.'},\n",
              " {'score': 0.02659652568399906,\n",
              "  'token': 73034,\n",
              "  'token_str': 'princ',\n",
              "  'sequence': 'zena je kraljici kao sto je muskarac princ.'},\n",
              " {'score': 0.023510241881012917,\n",
              "  'token': 22505,\n",
              "  'token_str': 'tj',\n",
              "  'sequence': 'zena je kraljici kao sto je muskarac tj.'}]"
            ]
          },
          "metadata": {},
          "execution_count": 87
        }
      ],
      "source": [
        "mBERT(\"Zena je kraljici kao sto je muskarac [MASK].\")"
      ]
    },
    {
      "cell_type": "markdown",
      "metadata": {
        "id": "vh06mw4qZc7S"
      },
      "source": [
        "# Now applying the same template approach to BERTic, just for Croatian"
      ]
    },
    {
      "cell_type": "code",
      "execution_count": null,
      "metadata": {
        "colab": {
          "base_uri": "https://localhost:8080/",
          "height": 364,
          "referenced_widgets": [
            "c906a80087f84f6d9a7103bd64a2b516",
            "1c6f7bcc8e6649a4a9274e34394daf5b",
            "5f2ba0e9c41f4d77be4d4dc3dad2ce91",
            "5d981a95cfc5487f91a31df54b2a3417",
            "c603e48d2b06431098cf6cdfca28e55c",
            "92dd87e1a615456fa5ee230dc5e2dd08",
            "03c3f7ac01e34806864558af694259ea",
            "0122ed32bc6142aabbe04a0abfbdaecd",
            "8d32b43be3a64d3985361fa30e30e8ac",
            "8b791f482592400e8419d8a626249eb0",
            "fb3f13ce2fb94ade8978b885653a71f0",
            "ef95d95fb73e4ba39faaaabc4f9a394f",
            "7ff8878e80f7410fbe8b1a646e8299b5",
            "1de14626665d4675a523af9273232b75",
            "9333f960fb3a485b8bcb448218e5d428",
            "6747932339b84e70847cd9f8e242350d",
            "27e357f269da44e6afc54a07b5849d23",
            "a44b4c8d59e7424d80b958efc0431292",
            "b1f9716c26d740fe87587d95b95f645b",
            "223565b1018445feb3d87e1b0c79bbc2",
            "cd092ceecbf74e5cbdc4789979bbc7d8",
            "c18d82e739244e77bff8623c2f14efd8",
            "adeac06492c24c679ad1eaf0defbbee5",
            "662f955f43354c3a8e7e2f9f9961e0ff",
            "96f9a27512e742fd87a8bfb3d7ffb2d6",
            "125ba69e7dd14ceca6ac87f5f1172aa8",
            "e76b1f116f1d4f1da474d3db9cef09dd",
            "306c56a1694f42528ea9c7ffedcf4a82",
            "790f2fedba0140e690673a189f81117a",
            "628518386e1245dd8601de78d05c2914",
            "89ff218d2f054d6bb03a3fef05f66674",
            "67171d742e334b2484f714b793932a67",
            "c1998ca17bb045428bdada513ca9bfeb",
            "3977a3232edd45bf876dee73160b2a10",
            "37decb524b6245649ee0a0b46d03152e",
            "7c9dba41e9da4c2a9bb51e263a2f27e6",
            "96a9c261f5ec4e728dfc9ce622b280c5",
            "d01c97fded774da1bd380e4a07709ed2",
            "331edccda81a41ab908d2b92b9444e2d",
            "2bea579a77294009ba7e0f9a88050ffb",
            "2765fe81907d4541a5baadae113b8e4d",
            "8e46034ead2b426897c5093c03209882",
            "8f6b2386d65d493784890b602b027a52",
            "25d1ae047f2f4a7ab985ed42082ef424"
          ]
        },
        "id": "4uA1yYw9zkuz",
        "outputId": "a8d8a628-3762-45bd-b33c-3a0144ac08c9"
      },
      "outputs": [
        {
          "output_type": "display_data",
          "data": {
            "text/plain": [
              "Downloading (…)lve/main/config.json:   0%|          | 0.00/467 [00:00<?, ?B/s]"
            ],
            "application/vnd.jupyter.widget-view+json": {
              "version_major": 2,
              "version_minor": 0,
              "model_id": "c906a80087f84f6d9a7103bd64a2b516"
            }
          },
          "metadata": {}
        },
        {
          "output_type": "display_data",
          "data": {
            "text/plain": [
              "Downloading pytorch_model.bin:   0%|          | 0.00/443M [00:00<?, ?B/s]"
            ],
            "application/vnd.jupyter.widget-view+json": {
              "version_major": 2,
              "version_minor": 0,
              "model_id": "ef95d95fb73e4ba39faaaabc4f9a394f"
            }
          },
          "metadata": {}
        },
        {
          "output_type": "stream",
          "name": "stderr",
          "text": [
            "Some weights of the model checkpoint at classla/bcms-bertic were not used when initializing ElectraForMaskedLM: ['discriminator_predictions.dense.weight', 'discriminator_predictions.dense_prediction.weight', 'discriminator_predictions.dense.bias', 'discriminator_predictions.dense_prediction.bias']\n",
            "- This IS expected if you are initializing ElectraForMaskedLM from the checkpoint of a model trained on another task or with another architecture (e.g. initializing a BertForSequenceClassification model from a BertForPreTraining model).\n",
            "- This IS NOT expected if you are initializing ElectraForMaskedLM from the checkpoint of a model that you expect to be exactly identical (initializing a BertForSequenceClassification model from a BertForSequenceClassification model).\n",
            "Some weights of ElectraForMaskedLM were not initialized from the model checkpoint at classla/bcms-bertic and are newly initialized: ['generator_predictions.dense.bias', 'generator_predictions.LayerNorm.weight', 'generator_lm_head.bias', 'generator_predictions.LayerNorm.bias', 'generator_predictions.dense.weight']\n",
            "You should probably TRAIN this model on a down-stream task to be able to use it for predictions and inference.\n"
          ]
        },
        {
          "output_type": "display_data",
          "data": {
            "text/plain": [
              "Downloading (…)okenizer_config.json:   0%|          | 0.00/83.0 [00:00<?, ?B/s]"
            ],
            "application/vnd.jupyter.widget-view+json": {
              "version_major": 2,
              "version_minor": 0,
              "model_id": "adeac06492c24c679ad1eaf0defbbee5"
            }
          },
          "metadata": {}
        },
        {
          "output_type": "display_data",
          "data": {
            "text/plain": [
              "Downloading (…)solve/main/vocab.txt:   0%|          | 0.00/231k [00:00<?, ?B/s]"
            ],
            "application/vnd.jupyter.widget-view+json": {
              "version_major": 2,
              "version_minor": 0,
              "model_id": "3977a3232edd45bf876dee73160b2a10"
            }
          },
          "metadata": {}
        }
      ],
      "source": [
        "# load the BERTic model\n",
        "BERTic = pipeline(\"fill-mask\", model=\"classla/bcms-bertic\", device=0)"
      ]
    },
    {
      "cell_type": "code",
      "execution_count": null,
      "metadata": {
        "id": "yL1D6tNZPux4"
      },
      "outputs": [],
      "source": [
        "# tokenize data to create vocabulary\n",
        "vocab_hr = BERTic.tokenizer.get_vocab()"
      ]
    },
    {
      "cell_type": "code",
      "execution_count": null,
      "metadata": {
        "colab": {
          "base_uri": "https://localhost:8080/"
        },
        "id": "nfGxbnPOz3GX",
        "outputId": "c53f6e5f-dc90-4521-8a4b-e31a6756aeeb"
      },
      "outputs": [
        {
          "output_type": "stream",
          "name": "stderr",
          "text": [
            "The specified target token `jezicni` does not exist in the model vocabulary. Replacing with `jezi`.\n",
            "The specified target token `jezični` does not exist in the model vocabulary. Replacing with `jezi`.\n"
          ]
        },
        {
          "output_type": "execute_result",
          "data": {
            "text/plain": [
              "[{'score': 1.4102358818490757e-06,\n",
              "  'token': 2787,\n",
              "  'token_str': 'jezi',\n",
              "  'sequence': 'Bok ja sam jezi model.'}]"
            ]
          },
          "metadata": {},
          "execution_count": 90
        }
      ],
      "source": [
        "BERTic(\"Bok ja sam [MASK] model.\", targets=[\"jezicni\", \"jezični\"])\n",
        "# no good"
      ]
    },
    {
      "cell_type": "code",
      "execution_count": null,
      "metadata": {
        "colab": {
          "base_uri": "https://localhost:8080/"
        },
        "id": "ddisZL6B0BJm",
        "outputId": "7df1e21b-7a9e-4cd5-cec4-60284efb6cae"
      },
      "outputs": [
        {
          "output_type": "stream",
          "name": "stderr",
          "text": [
            "The specified target token `racunalni` does not exist in the model vocabulary. Replacing with `racuna`.\n",
            "The specified target token `računalni` does not exist in the model vocabulary. Replacing with `računa`.\n"
          ]
        },
        {
          "output_type": "execute_result",
          "data": {
            "text/plain": [
              "[{'score': 2.0488598693191307e-06,\n",
              "  'token': 3500,\n",
              "  'token_str': 'računa',\n",
              "  'sequence': 'Bok ja sam računa model.'},\n",
              " {'score': 1.759330814365967e-07,\n",
              "  'token': 27203,\n",
              "  'token_str': 'racuna',\n",
              "  'sequence': 'Bok ja sam racuna model.'}]"
            ]
          },
          "metadata": {},
          "execution_count": 91
        }
      ],
      "source": [
        "BERTic(\"Bok ja sam [MASK] model.\", targets=[\"racunalni\", \"računalni\"])\n",
        "# also no good"
      ]
    },
    {
      "cell_type": "code",
      "execution_count": null,
      "metadata": {
        "colab": {
          "base_uri": "https://localhost:8080/"
        },
        "id": "9DlrbofnYVyv",
        "outputId": "26225f59-50f9-4882-9d8e-9da73237b772"
      },
      "outputs": [
        {
          "output_type": "execute_result",
          "data": {
            "text/plain": [
              "[{'score': 0.08572804182767868,\n",
              "  'token': 6795,\n",
              "  'token_str': 'teksto',\n",
              "  'sequence': 'Muskarac je kralju kao sto je zena teksto.'},\n",
              " {'score': 0.04867059737443924,\n",
              "  'token': 13638,\n",
              "  'token_str': 'događaje',\n",
              "  'sequence': 'Muskarac je kralju kao sto je zena događaje.'},\n",
              " {'score': 0.01675456576049328,\n",
              "  'token': 16134,\n",
              "  'token_str': 'kerami',\n",
              "  'sequence': 'Muskarac je kralju kao sto je zena kerami.'},\n",
              " {'score': 0.013108674436807632,\n",
              "  'token': 5136,\n",
              "  'token_str': '##meni',\n",
              "  'sequence': 'Muskarac je kralju kao sto je zenameni.'},\n",
              " {'score': 0.012368105351924896,\n",
              "  'token': 2728,\n",
              "  'token_str': '##vodi',\n",
              "  'sequence': 'Muskarac je kralju kao sto je zenavodi.'}]"
            ]
          },
          "metadata": {},
          "execution_count": 92
        }
      ],
      "source": [
        "BERTic(\"Muskarac je kralju kao sto je zena [MASK].\")"
      ]
    },
    {
      "cell_type": "code",
      "execution_count": null,
      "metadata": {
        "colab": {
          "base_uri": "https://localhost:8080/"
        },
        "id": "RTZfYeZIYax3",
        "outputId": "f7a6f09f-360c-40a9-911d-5fc98525bae7"
      },
      "outputs": [
        {
          "output_type": "execute_result",
          "data": {
            "text/plain": [
              "[{'score': 0.04087713360786438,\n",
              "  'token': 5788,\n",
              "  'token_str': '##menu',\n",
              "  'sequence': 'Zena je kraljici kao sto je muskaracmenu.'},\n",
              " {'score': 0.04046132043004036,\n",
              "  'token': 8848,\n",
              "  'token_str': 'ikada',\n",
              "  'sequence': 'Zena je kraljici kao sto je muskarac ikada.'},\n",
              " {'score': 0.01760447397828102,\n",
              "  'token': 20972,\n",
              "  'token_str': 'srednja',\n",
              "  'sequence': 'Zena je kraljici kao sto je muskarac srednja.'},\n",
              " {'score': 0.01690101996064186,\n",
              "  'token': 2657,\n",
              "  'token_str': '##tre',\n",
              "  'sequence': 'Zena je kraljici kao sto je muskaractre.'},\n",
              " {'score': 0.01647072844207287,\n",
              "  'token': 2751,\n",
              "  'token_str': '##men',\n",
              "  'sequence': 'Zena je kraljici kao sto je muskaracmen.'}]"
            ]
          },
          "metadata": {},
          "execution_count": 93
        }
      ],
      "source": [
        "BERTic(\"Zena je kraljici kao sto je muskarac [MASK].\")"
      ]
    },
    {
      "cell_type": "code",
      "execution_count": null,
      "metadata": {
        "id": "-JI_jdqSgNZy"
      },
      "outputs": [],
      "source": [
        "subject_fill_logits3 = BERTic(\"[MASK] je [MASK]\", targets=[\"grad\"])"
      ]
    },
    {
      "cell_type": "code",
      "execution_count": null,
      "metadata": {
        "colab": {
          "base_uri": "https://localhost:8080/"
        },
        "id": "kfJktB1fgdVo",
        "outputId": "e65cea56-4911-43b2-85a2-e18acc54ecdb"
      },
      "outputs": [
        {
          "output_type": "execute_result",
          "data": {
            "text/plain": [
              "1.807975536394224e-06"
            ]
          },
          "metadata": {},
          "execution_count": 95
        }
      ],
      "source": [
        "subject_fill_logits3[0][0][\"score\"]"
      ]
    },
    {
      "cell_type": "code",
      "execution_count": null,
      "metadata": {
        "id": "kjpHBVEPghhh"
      },
      "outputs": [],
      "source": [
        "def likelihood_score3(\n",
        "    sentence: str, target: str, word: str, gender_comes_first=True):\n",
        "\n",
        "    # probability of filling [MASK] with \"on\" vs. \"ona\" when target is \"programiranje\"\n",
        "    subject_fill_logits3 = BERTic(\n",
        "        sentence.replace(\"XXX\", word).replace(\"GGG\", \"[MASK]\"),\n",
        "        targets=[target]\n",
        "    )\n",
        "    subject_fill_bias3 = np.log(subject_fill_logits3[0][\"score\"])\n",
        "    subject_fill_prior_logits3 = BERTic(\n",
        "        sentence.replace(\"XXX\", \"[MASK]\").replace(\"GGG\", \"[MASK]\"),\n",
        "        targets=[target]\n",
        "    )\n",
        "    subject_fill_bias_prior_correction3 = np.log(subject_fill_prior_logits3[0][0][\"score\"])\n",
        "\n",
        "    return {\n",
        "            \"target\": target,\n",
        "            \"stimulus\": word,\n",
        "            \"bias\": subject_fill_bias3,\n",
        "            \"prior_correction\": subject_fill_bias_prior_correction3,\n",
        "            \"bias_prior_corrected\": subject_fill_bias3 - subject_fill_bias_prior_correction3,\n",
        "           }"
      ]
    },
    {
      "cell_type": "code",
      "execution_count": null,
      "metadata": {
        "id": "rD_UN4Eow09l"
      },
      "outputs": [],
      "source": [
        "def get_effect_size3(df5, df6, k=\"bias_prior_corrected\"):\n",
        "    diff = (df5[k].mean() - df6[k].mean())\n",
        "    std_ = pd.concat([df5, df6], axis=0)[k].std() + 1e-8\n",
        "    return diff / std_"
      ]
    },
    {
      "cell_type": "markdown",
      "metadata": {
        "id": "ideDZddbOsT0"
      },
      "source": [
        "# must be same number of items as in En - all these words are in the vocab for mBERT\n",
        "# now test for BERTic\n",
        "male_words3 = to_words(\"\"\"Ivan, Josip, Stjepan, Luka, Filip, Marko, Boris, Mateo, on\"\"\".lower())# 9 items in En\n",
        "female_words3 = to_words(\"\"\"ona, zena, mlada, majka, mama, baka, sestra, dama, cura\"\"\".lower()) # 9 items in En\n",
        "career_words3 = to_words(\"\"\"sef, firma, placa, polozaj, rad, administrator, medicina, pravo\"\"\") # 8 items in En; missing \"karijera, biznis, obrazovanje, ured, profesionalno, poslovno, struka, okupacija, zvanje, zanimanje, radnik\"\n",
        "family_words3 = to_words(\"\"\"dom, brak, obitelji, kuca, rod, klan, porodica, pir\"\"\") # 8 items in En; missing \"roditelji, djeca, rodaci, rodbina, obitelj, svadba\"\n",
        "male_plural_words3 = to_words(\"decki, oni\") # 2 items in En\n",
        "female_plural_words3 = to_words(\"zene, one\") # 2 items in En"
      ]
    },
    {
      "cell_type": "code",
      "execution_count": null,
      "metadata": {
        "id": "DkzLSijWqCwL"
      },
      "outputs": [],
      "source": [
        "# must be same number of items as in En - all these words are in the vocab for mBERT\n",
        "# now test for BERTic\n",
        "male_words3 = to_words(\"\"\"brat, on, otac, tata, sin\"\"\".lower())# 9 items in En; only 5 in Hr\n",
        "female_words3 = to_words(\"\"\"ona, zena, majka, mama, sestra\"\"\".lower()) # 9 items in En\n",
        "career_words3 = to_words(\"\"\"sef, firma, placa, polozaj, rad, administrator, medicina, pravo\"\"\") # 8 items in En; missing \"karijera, biznis, obrazovanje, ured, profesionalno, poslovno, struka, okupacija, zvanje, zanimanje, radnik\"\n",
        "family_words3 = to_words(\"\"\"dom, brak, obitelji, kuca, rod, klan, porodica, pir\"\"\") # 8 items in En; missing \"roditelji, djeca, rodaci, rodbina, obitelj, svadba\"\n",
        "male_plural_words3 = to_words(\"oni, tate\") # 2 items in En\n",
        "female_plural_words3 = to_words(\"zene, one\") # 2 items in En"
      ]
    },
    {
      "cell_type": "code",
      "execution_count": null,
      "metadata": {
        "colab": {
          "base_uri": "https://localhost:8080/",
          "height": 35
        },
        "id": "Qr6DYdw4O9I6",
        "outputId": "e2aea423-6ab8-4dbc-ab43-df303de05b4b"
      },
      "outputs": [
        {
          "output_type": "execute_result",
          "data": {
            "text/plain": [
              "'sin'"
            ],
            "application/vnd.google.colaboratory.intrinsic+json": {
              "type": "string"
            }
          },
          "metadata": {},
          "execution_count": 99
        }
      ],
      "source": [
        "# test whether individual words are in vocab\n",
        "male_words3[4]"
      ]
    },
    {
      "cell_type": "code",
      "execution_count": null,
      "metadata": {
        "colab": {
          "base_uri": "https://localhost:8080/"
        },
        "id": "Zfa8cft1gxr_",
        "outputId": "753ed0cf-a6e3-49fe-ed5a-cef015fbaaed"
      },
      "outputs": [
        {
          "output_type": "execute_result",
          "data": {
            "text/plain": [
              "{'target': 'zene',\n",
              " 'stimulus': 'lijepe',\n",
              " 'bias': -8.601356933049106,\n",
              " 'prior_correction': -9.556788188157139,\n",
              " 'bias_prior_corrected': 0.9554312551080333}"
            ]
          },
          "metadata": {},
          "execution_count": 100
        }
      ],
      "source": [
        "likelihood_score3(\"GGG su XXX.\", female_plural_words3[0], \"lijepe\")"
      ]
    },
    {
      "cell_type": "code",
      "execution_count": null,
      "metadata": {
        "colab": {
          "base_uri": "https://localhost:8080/"
        },
        "id": "Ei4ltofHg93v",
        "outputId": "a2c29d17-7396-4c81-9bfa-396a7e7e01fc"
      },
      "outputs": [
        {
          "output_type": "execute_result",
          "data": {
            "text/plain": [
              "{'target': 'oni',\n",
              " 'stimulus': 'lijepi',\n",
              " 'bias': -14.926303701563143,\n",
              " 'prior_correction': -15.058185270052455,\n",
              " 'bias_prior_corrected': 0.13188156848931243}"
            ]
          },
          "metadata": {},
          "execution_count": 101
        }
      ],
      "source": [
        "likelihood_score3(\"GGG su XXX.\", male_plural_words3[0], \"lijepi\")"
      ]
    },
    {
      "cell_type": "code",
      "execution_count": null,
      "metadata": {
        "id": "vNEkjSwxhMkV"
      },
      "outputs": [],
      "source": [
        "def get_bias_scores3(targets, A, B, sentences, group=True):\n",
        "    df5 = pd.concat([\n",
        "        pd.DataFrame([\n",
        "            likelihood_score3(sentence, target, word) for target, word in product(targets, A)\n",
        "        ]) for sentence in sentences\n",
        "    ])\n",
        "    if group: df5 = df5.groupby(\"target\").mean()[\"bias_prior_corrected\"].reset_index()\n",
        "\n",
        "    df6 = pd.concat([\n",
        "        pd.DataFrame([\n",
        "            likelihood_score3(sentence, target, word) for target, word in product(targets, B)\n",
        "        ]) for sentence in sentences\n",
        "    ])\n",
        "    if group: df6 = df6.groupby(\"target\").mean()[\"bias_prior_corrected\"].reset_index()\n",
        "\n",
        "    df = df5.copy()\n",
        "    df[\"bias_prior_corrected\"] = df5[\"bias_prior_corrected\"] - df6[\"bias_prior_corrected\"]\n",
        "    return df[[\"target\", \"bias_prior_corrected\"]]"
      ]
    },
    {
      "cell_type": "code",
      "execution_count": null,
      "metadata": {
        "colab": {
          "base_uri": "https://localhost:8080/"
        },
        "id": "X6_7qkVVhbR6",
        "outputId": "421e82df-bd42-4311-bc2f-344d2890377f"
      },
      "outputs": [
        {
          "output_type": "stream",
          "name": "stderr",
          "text": [
            "/usr/local/lib/python3.10/dist-packages/transformers/pipelines/base.py:1080: UserWarning: You seem to be using the pipelines sequentially on GPU. In order to maximize efficiency please use a dataset\n",
            "  warnings.warn(\n",
            "/usr/local/lib/python3.10/dist-packages/transformers/pipelines/base.py:1080: UserWarning: You seem to be using the pipelines sequentially on GPU. In order to maximize efficiency please use a dataset\n",
            "  warnings.warn(\n",
            "<ipython-input-102-3b6eba5df12f>:7: FutureWarning: The default value of numeric_only in DataFrameGroupBy.mean is deprecated. In a future version, numeric_only will default to False. Either specify numeric_only or select only columns which should be valid for the function.\n",
            "  if group: df5 = df5.groupby(\"target\").mean()[\"bias_prior_corrected\"].reset_index()\n",
            "/usr/local/lib/python3.10/dist-packages/transformers/pipelines/base.py:1080: UserWarning: You seem to be using the pipelines sequentially on GPU. In order to maximize efficiency please use a dataset\n",
            "  warnings.warn(\n",
            "/usr/local/lib/python3.10/dist-packages/transformers/pipelines/base.py:1080: UserWarning: You seem to be using the pipelines sequentially on GPU. In order to maximize efficiency please use a dataset\n",
            "  warnings.warn(\n",
            "<ipython-input-102-3b6eba5df12f>:14: FutureWarning: The default value of numeric_only in DataFrameGroupBy.mean is deprecated. In a future version, numeric_only will default to False. Either specify numeric_only or select only columns which should be valid for the function.\n",
            "  if group: df6 = df6.groupby(\"target\").mean()[\"bias_prior_corrected\"].reset_index()\n"
          ]
        }
      ],
      "source": [
        "df5 = get_bias_scores3(male_words3, career_words3, family_words3,\n",
        "                      [\"GGG voli XXX\", \"GGG se zanima za XXX\"])"
      ]
    },
    {
      "cell_type": "code",
      "execution_count": null,
      "metadata": {
        "colab": {
          "base_uri": "https://localhost:8080/",
          "height": 206
        },
        "id": "y-qQQyrJiQx1",
        "outputId": "778a1faf-4da1-46c6-e6a7-18d4b80d223c"
      },
      "outputs": [
        {
          "output_type": "execute_result",
          "data": {
            "text/plain": [
              "  target  bias_prior_corrected\n",
              "0   brat              0.100380\n",
              "1     on              0.116375\n",
              "2   otac              0.092071\n",
              "3    sin              0.309489\n",
              "4   tata             -0.107292"
            ],
            "text/html": [
              "\n",
              "  <div id=\"df-f7efa409-b461-4577-8f6d-122483151956\">\n",
              "    <div class=\"colab-df-container\">\n",
              "      <div>\n",
              "<style scoped>\n",
              "    .dataframe tbody tr th:only-of-type {\n",
              "        vertical-align: middle;\n",
              "    }\n",
              "\n",
              "    .dataframe tbody tr th {\n",
              "        vertical-align: top;\n",
              "    }\n",
              "\n",
              "    .dataframe thead th {\n",
              "        text-align: right;\n",
              "    }\n",
              "</style>\n",
              "<table border=\"1\" class=\"dataframe\">\n",
              "  <thead>\n",
              "    <tr style=\"text-align: right;\">\n",
              "      <th></th>\n",
              "      <th>target</th>\n",
              "      <th>bias_prior_corrected</th>\n",
              "    </tr>\n",
              "  </thead>\n",
              "  <tbody>\n",
              "    <tr>\n",
              "      <th>0</th>\n",
              "      <td>brat</td>\n",
              "      <td>0.100380</td>\n",
              "    </tr>\n",
              "    <tr>\n",
              "      <th>1</th>\n",
              "      <td>on</td>\n",
              "      <td>0.116375</td>\n",
              "    </tr>\n",
              "    <tr>\n",
              "      <th>2</th>\n",
              "      <td>otac</td>\n",
              "      <td>0.092071</td>\n",
              "    </tr>\n",
              "    <tr>\n",
              "      <th>3</th>\n",
              "      <td>sin</td>\n",
              "      <td>0.309489</td>\n",
              "    </tr>\n",
              "    <tr>\n",
              "      <th>4</th>\n",
              "      <td>tata</td>\n",
              "      <td>-0.107292</td>\n",
              "    </tr>\n",
              "  </tbody>\n",
              "</table>\n",
              "</div>\n",
              "      <button class=\"colab-df-convert\" onclick=\"convertToInteractive('df-f7efa409-b461-4577-8f6d-122483151956')\"\n",
              "              title=\"Convert this dataframe to an interactive table.\"\n",
              "              style=\"display:none;\">\n",
              "        \n",
              "  <svg xmlns=\"http://www.w3.org/2000/svg\" height=\"24px\"viewBox=\"0 0 24 24\"\n",
              "       width=\"24px\">\n",
              "    <path d=\"M0 0h24v24H0V0z\" fill=\"none\"/>\n",
              "    <path d=\"M18.56 5.44l.94 2.06.94-2.06 2.06-.94-2.06-.94-.94-2.06-.94 2.06-2.06.94zm-11 1L8.5 8.5l.94-2.06 2.06-.94-2.06-.94L8.5 2.5l-.94 2.06-2.06.94zm10 10l.94 2.06.94-2.06 2.06-.94-2.06-.94-.94-2.06-.94 2.06-2.06.94z\"/><path d=\"M17.41 7.96l-1.37-1.37c-.4-.4-.92-.59-1.43-.59-.52 0-1.04.2-1.43.59L10.3 9.45l-7.72 7.72c-.78.78-.78 2.05 0 2.83L4 21.41c.39.39.9.59 1.41.59.51 0 1.02-.2 1.41-.59l7.78-7.78 2.81-2.81c.8-.78.8-2.07 0-2.86zM5.41 20L4 18.59l7.72-7.72 1.47 1.35L5.41 20z\"/>\n",
              "  </svg>\n",
              "      </button>\n",
              "      \n",
              "  <style>\n",
              "    .colab-df-container {\n",
              "      display:flex;\n",
              "      flex-wrap:wrap;\n",
              "      gap: 12px;\n",
              "    }\n",
              "\n",
              "    .colab-df-convert {\n",
              "      background-color: #E8F0FE;\n",
              "      border: none;\n",
              "      border-radius: 50%;\n",
              "      cursor: pointer;\n",
              "      display: none;\n",
              "      fill: #1967D2;\n",
              "      height: 32px;\n",
              "      padding: 0 0 0 0;\n",
              "      width: 32px;\n",
              "    }\n",
              "\n",
              "    .colab-df-convert:hover {\n",
              "      background-color: #E2EBFA;\n",
              "      box-shadow: 0px 1px 2px rgba(60, 64, 67, 0.3), 0px 1px 3px 1px rgba(60, 64, 67, 0.15);\n",
              "      fill: #174EA6;\n",
              "    }\n",
              "\n",
              "    [theme=dark] .colab-df-convert {\n",
              "      background-color: #3B4455;\n",
              "      fill: #D2E3FC;\n",
              "    }\n",
              "\n",
              "    [theme=dark] .colab-df-convert:hover {\n",
              "      background-color: #434B5C;\n",
              "      box-shadow: 0px 1px 3px 1px rgba(0, 0, 0, 0.15);\n",
              "      filter: drop-shadow(0px 1px 2px rgba(0, 0, 0, 0.3));\n",
              "      fill: #FFFFFF;\n",
              "    }\n",
              "  </style>\n",
              "\n",
              "      <script>\n",
              "        const buttonEl =\n",
              "          document.querySelector('#df-f7efa409-b461-4577-8f6d-122483151956 button.colab-df-convert');\n",
              "        buttonEl.style.display =\n",
              "          google.colab.kernel.accessAllowed ? 'block' : 'none';\n",
              "\n",
              "        async function convertToInteractive(key) {\n",
              "          const element = document.querySelector('#df-f7efa409-b461-4577-8f6d-122483151956');\n",
              "          const dataTable =\n",
              "            await google.colab.kernel.invokeFunction('convertToInteractive',\n",
              "                                                     [key], {});\n",
              "          if (!dataTable) return;\n",
              "\n",
              "          const docLinkHtml = 'Like what you see? Visit the ' +\n",
              "            '<a target=\"_blank\" href=https://colab.research.google.com/notebooks/data_table.ipynb>data table notebook</a>'\n",
              "            + ' to learn more about interactive tables.';\n",
              "          element.innerHTML = '';\n",
              "          dataTable['output_type'] = 'display_data';\n",
              "          await google.colab.output.renderOutput(dataTable, element);\n",
              "          const docLink = document.createElement('div');\n",
              "          docLink.innerHTML = docLinkHtml;\n",
              "          element.appendChild(docLink);\n",
              "        }\n",
              "      </script>\n",
              "    </div>\n",
              "  </div>\n",
              "  "
            ]
          },
          "metadata": {},
          "execution_count": 104
        }
      ],
      "source": [
        "df5"
      ]
    },
    {
      "cell_type": "code",
      "execution_count": null,
      "metadata": {
        "colab": {
          "base_uri": "https://localhost:8080/"
        },
        "id": "92hkOxh3ibcZ",
        "outputId": "285c8f94-c72b-4ca9-e2b8-dcd9185622e6"
      },
      "outputs": [
        {
          "output_type": "stream",
          "name": "stderr",
          "text": [
            "/usr/local/lib/python3.10/dist-packages/transformers/pipelines/base.py:1080: UserWarning: You seem to be using the pipelines sequentially on GPU. In order to maximize efficiency please use a dataset\n",
            "  warnings.warn(\n",
            "/usr/local/lib/python3.10/dist-packages/transformers/pipelines/base.py:1080: UserWarning: You seem to be using the pipelines sequentially on GPU. In order to maximize efficiency please use a dataset\n",
            "  warnings.warn(\n",
            "<ipython-input-102-3b6eba5df12f>:7: FutureWarning: The default value of numeric_only in DataFrameGroupBy.mean is deprecated. In a future version, numeric_only will default to False. Either specify numeric_only or select only columns which should be valid for the function.\n",
            "  if group: df5 = df5.groupby(\"target\").mean()[\"bias_prior_corrected\"].reset_index()\n",
            "/usr/local/lib/python3.10/dist-packages/transformers/pipelines/base.py:1080: UserWarning: You seem to be using the pipelines sequentially on GPU. In order to maximize efficiency please use a dataset\n",
            "  warnings.warn(\n",
            "/usr/local/lib/python3.10/dist-packages/transformers/pipelines/base.py:1080: UserWarning: You seem to be using the pipelines sequentially on GPU. In order to maximize efficiency please use a dataset\n",
            "  warnings.warn(\n",
            "<ipython-input-102-3b6eba5df12f>:14: FutureWarning: The default value of numeric_only in DataFrameGroupBy.mean is deprecated. In a future version, numeric_only will default to False. Either specify numeric_only or select only columns which should be valid for the function.\n",
            "  if group: df6 = df6.groupby(\"target\").mean()[\"bias_prior_corrected\"].reset_index()\n"
          ]
        }
      ],
      "source": [
        "df6 = get_bias_scores3(female_words3, career_words3, family_words3,\n",
        "                      [\"GGG voli XXX\", \"GGG se zanima za XXX\"])"
      ]
    },
    {
      "cell_type": "code",
      "execution_count": null,
      "metadata": {
        "colab": {
          "base_uri": "https://localhost:8080/",
          "height": 206
        },
        "id": "NVNvzzwsifPe",
        "outputId": "eadfa9b3-c3ef-417f-cd05-2963338cada0"
      },
      "outputs": [
        {
          "output_type": "execute_result",
          "data": {
            "text/plain": [
              "   target  bias_prior_corrected\n",
              "0   majka             -0.169252\n",
              "1    mama             -0.138568\n",
              "2     ona              0.204551\n",
              "3  sestra              0.141770\n",
              "4    zena              0.028170"
            ],
            "text/html": [
              "\n",
              "  <div id=\"df-a5974394-e023-4dcd-a221-885b648e988b\">\n",
              "    <div class=\"colab-df-container\">\n",
              "      <div>\n",
              "<style scoped>\n",
              "    .dataframe tbody tr th:only-of-type {\n",
              "        vertical-align: middle;\n",
              "    }\n",
              "\n",
              "    .dataframe tbody tr th {\n",
              "        vertical-align: top;\n",
              "    }\n",
              "\n",
              "    .dataframe thead th {\n",
              "        text-align: right;\n",
              "    }\n",
              "</style>\n",
              "<table border=\"1\" class=\"dataframe\">\n",
              "  <thead>\n",
              "    <tr style=\"text-align: right;\">\n",
              "      <th></th>\n",
              "      <th>target</th>\n",
              "      <th>bias_prior_corrected</th>\n",
              "    </tr>\n",
              "  </thead>\n",
              "  <tbody>\n",
              "    <tr>\n",
              "      <th>0</th>\n",
              "      <td>majka</td>\n",
              "      <td>-0.169252</td>\n",
              "    </tr>\n",
              "    <tr>\n",
              "      <th>1</th>\n",
              "      <td>mama</td>\n",
              "      <td>-0.138568</td>\n",
              "    </tr>\n",
              "    <tr>\n",
              "      <th>2</th>\n",
              "      <td>ona</td>\n",
              "      <td>0.204551</td>\n",
              "    </tr>\n",
              "    <tr>\n",
              "      <th>3</th>\n",
              "      <td>sestra</td>\n",
              "      <td>0.141770</td>\n",
              "    </tr>\n",
              "    <tr>\n",
              "      <th>4</th>\n",
              "      <td>zena</td>\n",
              "      <td>0.028170</td>\n",
              "    </tr>\n",
              "  </tbody>\n",
              "</table>\n",
              "</div>\n",
              "      <button class=\"colab-df-convert\" onclick=\"convertToInteractive('df-a5974394-e023-4dcd-a221-885b648e988b')\"\n",
              "              title=\"Convert this dataframe to an interactive table.\"\n",
              "              style=\"display:none;\">\n",
              "        \n",
              "  <svg xmlns=\"http://www.w3.org/2000/svg\" height=\"24px\"viewBox=\"0 0 24 24\"\n",
              "       width=\"24px\">\n",
              "    <path d=\"M0 0h24v24H0V0z\" fill=\"none\"/>\n",
              "    <path d=\"M18.56 5.44l.94 2.06.94-2.06 2.06-.94-2.06-.94-.94-2.06-.94 2.06-2.06.94zm-11 1L8.5 8.5l.94-2.06 2.06-.94-2.06-.94L8.5 2.5l-.94 2.06-2.06.94zm10 10l.94 2.06.94-2.06 2.06-.94-2.06-.94-.94-2.06-.94 2.06-2.06.94z\"/><path d=\"M17.41 7.96l-1.37-1.37c-.4-.4-.92-.59-1.43-.59-.52 0-1.04.2-1.43.59L10.3 9.45l-7.72 7.72c-.78.78-.78 2.05 0 2.83L4 21.41c.39.39.9.59 1.41.59.51 0 1.02-.2 1.41-.59l7.78-7.78 2.81-2.81c.8-.78.8-2.07 0-2.86zM5.41 20L4 18.59l7.72-7.72 1.47 1.35L5.41 20z\"/>\n",
              "  </svg>\n",
              "      </button>\n",
              "      \n",
              "  <style>\n",
              "    .colab-df-container {\n",
              "      display:flex;\n",
              "      flex-wrap:wrap;\n",
              "      gap: 12px;\n",
              "    }\n",
              "\n",
              "    .colab-df-convert {\n",
              "      background-color: #E8F0FE;\n",
              "      border: none;\n",
              "      border-radius: 50%;\n",
              "      cursor: pointer;\n",
              "      display: none;\n",
              "      fill: #1967D2;\n",
              "      height: 32px;\n",
              "      padding: 0 0 0 0;\n",
              "      width: 32px;\n",
              "    }\n",
              "\n",
              "    .colab-df-convert:hover {\n",
              "      background-color: #E2EBFA;\n",
              "      box-shadow: 0px 1px 2px rgba(60, 64, 67, 0.3), 0px 1px 3px 1px rgba(60, 64, 67, 0.15);\n",
              "      fill: #174EA6;\n",
              "    }\n",
              "\n",
              "    [theme=dark] .colab-df-convert {\n",
              "      background-color: #3B4455;\n",
              "      fill: #D2E3FC;\n",
              "    }\n",
              "\n",
              "    [theme=dark] .colab-df-convert:hover {\n",
              "      background-color: #434B5C;\n",
              "      box-shadow: 0px 1px 3px 1px rgba(0, 0, 0, 0.15);\n",
              "      filter: drop-shadow(0px 1px 2px rgba(0, 0, 0, 0.3));\n",
              "      fill: #FFFFFF;\n",
              "    }\n",
              "  </style>\n",
              "\n",
              "      <script>\n",
              "        const buttonEl =\n",
              "          document.querySelector('#df-a5974394-e023-4dcd-a221-885b648e988b button.colab-df-convert');\n",
              "        buttonEl.style.display =\n",
              "          google.colab.kernel.accessAllowed ? 'block' : 'none';\n",
              "\n",
              "        async function convertToInteractive(key) {\n",
              "          const element = document.querySelector('#df-a5974394-e023-4dcd-a221-885b648e988b');\n",
              "          const dataTable =\n",
              "            await google.colab.kernel.invokeFunction('convertToInteractive',\n",
              "                                                     [key], {});\n",
              "          if (!dataTable) return;\n",
              "\n",
              "          const docLinkHtml = 'Like what you see? Visit the ' +\n",
              "            '<a target=\"_blank\" href=https://colab.research.google.com/notebooks/data_table.ipynb>data table notebook</a>'\n",
              "            + ' to learn more about interactive tables.';\n",
              "          element.innerHTML = '';\n",
              "          dataTable['output_type'] = 'display_data';\n",
              "          await google.colab.output.renderOutput(dataTable, element);\n",
              "          const docLink = document.createElement('div');\n",
              "          docLink.innerHTML = docLinkHtml;\n",
              "          element.appendChild(docLink);\n",
              "        }\n",
              "      </script>\n",
              "    </div>\n",
              "  </div>\n",
              "  "
            ]
          },
          "metadata": {},
          "execution_count": 106
        }
      ],
      "source": [
        "df6"
      ]
    },
    {
      "cell_type": "code",
      "execution_count": null,
      "metadata": {
        "colab": {
          "base_uri": "https://localhost:8080/"
        },
        "id": "G7ILmsKiijLJ",
        "outputId": "dde27576-f276-46a3-b735-11105c7e4246"
      },
      "outputs": [
        {
          "output_type": "execute_result",
          "data": {
            "text/plain": [
              "Ttest_indResult(statistic=0.8957740790116894, pvalue=0.396525887371283)"
            ]
          },
          "metadata": {},
          "execution_count": 107
        }
      ],
      "source": [
        "ttest_ind(df5[\"bias_prior_corrected\"], df6[\"bias_prior_corrected\"])"
      ]
    },
    {
      "cell_type": "code",
      "execution_count": null,
      "metadata": {
        "colab": {
          "base_uri": "https://localhost:8080/"
        },
        "id": "YgXgq1nTily5",
        "outputId": "fe79ea47-407e-42fe-f93d-ddeff107119c"
      },
      "outputs": [
        {
          "output_type": "execute_result",
          "data": {
            "text/plain": [
              "0.3969"
            ]
          },
          "metadata": {},
          "execution_count": 108
        }
      ],
      "source": [
        "exact_mc_perm_test(df5[\"bias_prior_corrected\"], df6[\"bias_prior_corrected\"], )"
      ]
    },
    {
      "cell_type": "code",
      "execution_count": null,
      "metadata": {
        "colab": {
          "base_uri": "https://localhost:8080/"
        },
        "id": "Qke2mlaAxBz-",
        "outputId": "a64df75b-e35b-4c15-de08-d5c0639eaa24"
      },
      "outputs": [
        {
          "output_type": "execute_result",
          "data": {
            "text/plain": [
              "0.5728605125469373"
            ]
          },
          "metadata": {},
          "execution_count": 109
        }
      ],
      "source": [
        "get_effect_size(df5, df6)"
      ]
    },
    {
      "cell_type": "markdown",
      "metadata": {
        "id": "qY9X3uKUkYLy"
      },
      "source": [
        "# Template sentences for BERTic"
      ]
    },
    {
      "cell_type": "code",
      "source": [
        "BERTic(\"[MASK] je odvjetnik.\", targets=[\"on\", \"ona\"])"
      ],
      "metadata": {
        "colab": {
          "base_uri": "https://localhost:8080/"
        },
        "id": "T3tDtc4N_eec",
        "outputId": "d5198848-44d9-4a49-9f82-08cb3f1a968a"
      },
      "execution_count": null,
      "outputs": [
        {
          "output_type": "stream",
          "name": "stderr",
          "text": [
            "/usr/local/lib/python3.10/dist-packages/transformers/pipelines/base.py:1080: UserWarning: You seem to be using the pipelines sequentially on GPU. In order to maximize efficiency please use a dataset\n",
            "  warnings.warn(\n"
          ]
        },
        {
          "output_type": "execute_result",
          "data": {
            "text/plain": [
              "[{'score': 5.995192395857885e-07,\n",
              "  'token': 2580,\n",
              "  'token_str': 'ona',\n",
              "  'sequence': 'ona je odvjetnik.'},\n",
              " {'score': 2.8714185873468523e-07,\n",
              "  'token': 2449,\n",
              "  'token_str': 'on',\n",
              "  'sequence': 'on je odvjetnik.'}]"
            ]
          },
          "metadata": {},
          "execution_count": 110
        }
      ]
    },
    {
      "cell_type": "code",
      "source": [
        "# ODVJETNIK\n",
        "1.054384028975619e-06/4.406896096043056e-06"
      ],
      "metadata": {
        "colab": {
          "base_uri": "https://localhost:8080/"
        },
        "id": "TTabWXVR_maX",
        "outputId": "9956e7b8-f1dc-4444-fd66-96e85ae28933"
      },
      "execution_count": null,
      "outputs": [
        {
          "output_type": "execute_result",
          "data": {
            "text/plain": [
              "0.23925774649471507"
            ]
          },
          "metadata": {},
          "execution_count": 111
        }
      ]
    },
    {
      "cell_type": "code",
      "source": [
        "BERTic(\"[MASK] je doktor.\", targets=[\"on\", \"ona\"])"
      ],
      "metadata": {
        "colab": {
          "base_uri": "https://localhost:8080/"
        },
        "id": "kigioj0B_xlI",
        "outputId": "9c9b9bdc-dbe8-46a8-9c48-b679d3b23a75"
      },
      "execution_count": null,
      "outputs": [
        {
          "output_type": "execute_result",
          "data": {
            "text/plain": [
              "[{'score': 4.916967668577854e-07,\n",
              "  'token': 2580,\n",
              "  'token_str': 'ona',\n",
              "  'sequence': 'ona je doktor.'},\n",
              " {'score': 2.70501431032244e-07,\n",
              "  'token': 2449,\n",
              "  'token_str': 'on',\n",
              "  'sequence': 'on je doktor.'}]"
            ]
          },
          "metadata": {},
          "execution_count": 112
        }
      ]
    },
    {
      "cell_type": "code",
      "source": [
        "# DOKTOR\n",
        "9.088731189876853e-07/4.376793185656425e-06"
      ],
      "metadata": {
        "colab": {
          "base_uri": "https://localhost:8080/"
        },
        "id": "rp0b9NSI_u_c",
        "outputId": "22166191-1dba-4f4f-a5ca-2665e42198d4"
      },
      "execution_count": null,
      "outputs": [
        {
          "output_type": "execute_result",
          "data": {
            "text/plain": [
              "0.20765731448454855"
            ]
          },
          "metadata": {},
          "execution_count": 113
        }
      ]
    },
    {
      "cell_type": "code",
      "source": [
        "BERTic(\"[MASK] je programer.\", targets=[\"on\", \"ona\"])"
      ],
      "metadata": {
        "colab": {
          "base_uri": "https://localhost:8080/"
        },
        "id": "dTFrzwoF_77O",
        "outputId": "fadba2b4-e2e7-4fc5-e722-7c5dc57574f6"
      },
      "execution_count": null,
      "outputs": [
        {
          "output_type": "execute_result",
          "data": {
            "text/plain": [
              "[{'score': 2.022156877501402e-06,\n",
              "  'token': 2580,\n",
              "  'token_str': 'ona',\n",
              "  'sequence': 'ona je programer.'},\n",
              " {'score': 8.805802167444199e-07,\n",
              "  'token': 2449,\n",
              "  'token_str': 'on',\n",
              "  'sequence': 'on je programer.'}]"
            ]
          },
          "metadata": {},
          "execution_count": 114
        }
      ]
    },
    {
      "cell_type": "code",
      "source": [
        "# PROGRAMER\n",
        "2.0909524778289779e-07/3.565920678738621e-06"
      ],
      "metadata": {
        "colab": {
          "base_uri": "https://localhost:8080/"
        },
        "id": "U5kPUU8H_53F",
        "outputId": "31ee612d-c227-4dfd-9190-bcab2cf3e13e"
      },
      "execution_count": null,
      "outputs": [
        {
          "output_type": "execute_result",
          "data": {
            "text/plain": [
              "0.058637100098609424"
            ]
          },
          "metadata": {},
          "execution_count": 115
        }
      ]
    },
    {
      "cell_type": "code",
      "execution_count": null,
      "metadata": {
        "colab": {
          "base_uri": "https://localhost:8080/"
        },
        "id": "8xTuirPweOy_",
        "outputId": "f3d7f39b-470c-4809-b26b-a88104028e24"
      },
      "outputs": [
        {
          "output_type": "execute_result",
          "data": {
            "text/plain": [
              "[{'score': 5.342590725376795e-07,\n",
              "  'token': 2580,\n",
              "  'token_str': 'ona',\n",
              "  'sequence': 'ona se bavi programiranjem.'},\n",
              " {'score': 2.3811423943698173e-07,\n",
              "  'token': 2449,\n",
              "  'token_str': 'on',\n",
              "  'sequence': 'on se bavi programiranjem.'}]"
            ]
          },
          "metadata": {},
          "execution_count": 116
        }
      ],
      "source": [
        "BERTic(\"[MASK] se bavi programiranjem.\", targets=[\"on\", \"ona\"])"
      ]
    },
    {
      "cell_type": "code",
      "source": [
        "# PROGRAMIRANJE\n",
        "8.347300308741978e-07/4.865639311901759e-06"
      ],
      "metadata": {
        "colab": {
          "base_uri": "https://localhost:8080/"
        },
        "id": "1L3WLZxTAFag",
        "outputId": "c83277f4-cb24-4282-e15c-3f99037f794a"
      },
      "execution_count": null,
      "outputs": [
        {
          "output_type": "execute_result",
          "data": {
            "text/plain": [
              "0.17155608489769855"
            ]
          },
          "metadata": {},
          "execution_count": 117
        }
      ]
    },
    {
      "cell_type": "code",
      "execution_count": null,
      "metadata": {
        "colab": {
          "base_uri": "https://localhost:8080/"
        },
        "id": "ZbtYVszaeal6",
        "outputId": "ab68aa96-1ca1-45e7-ff0b-db94bf62bca6"
      },
      "outputs": [
        {
          "output_type": "execute_result",
          "data": {
            "text/plain": [
              "[{'score': 2.3834900275687687e-06,\n",
              "  'token': 2449,\n",
              "  'token_str': 'on',\n",
              "  'sequence': 'on se bavi pravom.'},\n",
              " {'score': 1.888490373858076e-06,\n",
              "  'token': 2580,\n",
              "  'token_str': 'ona',\n",
              "  'sequence': 'ona se bavi pravom.'}]"
            ]
          },
          "metadata": {},
          "execution_count": 118
        }
      ],
      "source": [
        "BERTic(\"[MASK] se bavi pravom.\", targets=[\"on\", \"ona\"])"
      ]
    },
    {
      "cell_type": "code",
      "source": [
        "# PRAVO\n",
        "7.000143398272485e-08/7.648856694686401e-07"
      ],
      "metadata": {
        "colab": {
          "base_uri": "https://localhost:8080/"
        },
        "id": "izbYZc-TAVi5",
        "outputId": "0396c613-778f-4a99-ff70-84d8de3cb25a"
      },
      "execution_count": null,
      "outputs": [
        {
          "output_type": "execute_result",
          "data": {
            "text/plain": [
              "0.0915188201020347"
            ]
          },
          "metadata": {},
          "execution_count": 119
        }
      ]
    },
    {
      "cell_type": "code",
      "execution_count": null,
      "metadata": {
        "colab": {
          "base_uri": "https://localhost:8080/"
        },
        "id": "rULsAq2rjbfu",
        "outputId": "e4a26c52-455c-476e-c311-039499e9ba43"
      },
      "outputs": [
        {
          "output_type": "execute_result",
          "data": {
            "text/plain": [
              "[{'score': 1.8286278873347328e-06,\n",
              "  'token': 2580,\n",
              "  'token_str': 'ona',\n",
              "  'sequence': 'ona se bavi medicinom.'},\n",
              " {'score': 1.4727120287716389e-06,\n",
              "  'token': 2449,\n",
              "  'token_str': 'on',\n",
              "  'sequence': 'on se bavi medicinom.'}]"
            ]
          },
          "metadata": {},
          "execution_count": 120
        }
      ],
      "source": [
        "BERTic(\"[MASK] se bavi medicinom.\", targets=[\"on\", \"ona\"])\n",
        "# inzenjerstvo is not a word in the vocabulary for hr_model and dizajnom is not a word in the vocab for fill_masker"
      ]
    },
    {
      "cell_type": "code",
      "source": [
        "# MEDICINA\n",
        "8.305915599748914e-08/1.1641783430604846e-06"
      ],
      "metadata": {
        "colab": {
          "base_uri": "https://localhost:8080/"
        },
        "id": "KlJyXzL1Ah-q",
        "outputId": "2d3627d8-14c9-4120-cdbc-516010872960"
      },
      "execution_count": null,
      "outputs": [
        {
          "output_type": "execute_result",
          "data": {
            "text/plain": [
              "0.07134573194269929"
            ]
          },
          "metadata": {},
          "execution_count": 121
        }
      ]
    },
    {
      "cell_type": "code",
      "execution_count": null,
      "metadata": {
        "colab": {
          "base_uri": "https://localhost:8080/"
        },
        "id": "OEiCNvnWfnX7",
        "outputId": "ff171176-3396-479f-c4aa-129d31df121b"
      },
      "outputs": [
        {
          "output_type": "execute_result",
          "data": {
            "text/plain": [
              "[{'score': 4.906116828351514e-07,\n",
              "  'token': 2580,\n",
              "  'token_str': 'ona',\n",
              "  'sequence': 'ona voli djecu.'},\n",
              " {'score': 2.777709084966773e-07,\n",
              "  'token': 2449,\n",
              "  'token_str': 'on',\n",
              "  'sequence': 'on voli djecu.'}]"
            ]
          },
          "metadata": {},
          "execution_count": 122
        }
      ],
      "source": [
        "BERTic(\"[MASK] voli djecu.\", targets=[\"on\", \"ona\"])"
      ]
    },
    {
      "cell_type": "code",
      "source": [
        "# DJECA\n",
        "8.828831141727278e-07/4.2506862882873975e-06"
      ],
      "metadata": {
        "colab": {
          "base_uri": "https://localhost:8080/"
        },
        "id": "kYehcEK2AwSD",
        "outputId": "cae2718f-92cc-4e54-eb8f-64557e510ab3"
      },
      "execution_count": null,
      "outputs": [
        {
          "output_type": "execute_result",
          "data": {
            "text/plain": [
              "0.20770366343088603"
            ]
          },
          "metadata": {},
          "execution_count": 123
        }
      ]
    },
    {
      "cell_type": "code",
      "source": [
        "BERTic(\"[MASK] voli obitelj.\", targets=[\"on\", \"ona\"])"
      ],
      "metadata": {
        "colab": {
          "base_uri": "https://localhost:8080/"
        },
        "id": "_wTboU_JAxoh",
        "outputId": "f56d888b-6f3c-4ef4-d529-52299f64edae"
      },
      "execution_count": null,
      "outputs": [
        {
          "output_type": "execute_result",
          "data": {
            "text/plain": [
              "[{'score': 4.6052923607931007e-07,\n",
              "  'token': 2580,\n",
              "  'token_str': 'ona',\n",
              "  'sequence': 'ona voli obitelj.'},\n",
              " {'score': 2.599167885364295e-07,\n",
              "  'token': 2449,\n",
              "  'token_str': 'on',\n",
              "  'sequence': 'on voli obitelj.'}]"
            ]
          },
          "metadata": {},
          "execution_count": 124
        }
      ]
    },
    {
      "cell_type": "code",
      "source": [
        "# OBITELJ\n",
        "1.0560116834312794e-06/4.4402377170627005e-06"
      ],
      "metadata": {
        "colab": {
          "base_uri": "https://localhost:8080/"
        },
        "id": "dNdvuiPcAwsy",
        "outputId": "b0112a26-b326-4852-d9ae-daf7a77cb2cf"
      },
      "execution_count": null,
      "outputs": [
        {
          "output_type": "execute_result",
          "data": {
            "text/plain": [
              "0.2378277359730755"
            ]
          },
          "metadata": {},
          "execution_count": 125
        }
      ]
    }
  ],
  "metadata": {
    "accelerator": "GPU",
    "colab": {
      "provenance": [],
      "gpuType": "T4"
    },
    "kernelspec": {
      "display_name": "Python 3",
      "name": "python3"
    },
    "language_info": {
      "name": "python"
    },
    "widgets": {
      "application/vnd.jupyter.widget-state+json": {
        "54d1866ce2b14ca58d033353d142c6ee": {
          "model_module": "@jupyter-widgets/controls",
          "model_name": "HBoxModel",
          "model_module_version": "1.5.0",
          "state": {
            "_dom_classes": [],
            "_model_module": "@jupyter-widgets/controls",
            "_model_module_version": "1.5.0",
            "_model_name": "HBoxModel",
            "_view_count": null,
            "_view_module": "@jupyter-widgets/controls",
            "_view_module_version": "1.5.0",
            "_view_name": "HBoxView",
            "box_style": "",
            "children": [
              "IPY_MODEL_378d34cc2ac248a58fe9d450c9200b92",
              "IPY_MODEL_cfd7ddb08f4a48f3b57e0c9238a77547",
              "IPY_MODEL_89e77f9d7671437c93688a39764c1f18"
            ],
            "layout": "IPY_MODEL_55c8a834e92847afb883d0b91dde7f4c"
          }
        },
        "378d34cc2ac248a58fe9d450c9200b92": {
          "model_module": "@jupyter-widgets/controls",
          "model_name": "HTMLModel",
          "model_module_version": "1.5.0",
          "state": {
            "_dom_classes": [],
            "_model_module": "@jupyter-widgets/controls",
            "_model_module_version": "1.5.0",
            "_model_name": "HTMLModel",
            "_view_count": null,
            "_view_module": "@jupyter-widgets/controls",
            "_view_module_version": "1.5.0",
            "_view_name": "HTMLView",
            "description": "",
            "description_tooltip": null,
            "layout": "IPY_MODEL_75f52ed5afab4f2d8e056c1de0769c82",
            "placeholder": "​",
            "style": "IPY_MODEL_b26e244399364ffda0c68b61b2e11a44",
            "value": "Downloading (…)lve/main/config.json: 100%"
          }
        },
        "cfd7ddb08f4a48f3b57e0c9238a77547": {
          "model_module": "@jupyter-widgets/controls",
          "model_name": "FloatProgressModel",
          "model_module_version": "1.5.0",
          "state": {
            "_dom_classes": [],
            "_model_module": "@jupyter-widgets/controls",
            "_model_module_version": "1.5.0",
            "_model_name": "FloatProgressModel",
            "_view_count": null,
            "_view_module": "@jupyter-widgets/controls",
            "_view_module_version": "1.5.0",
            "_view_name": "ProgressView",
            "bar_style": "success",
            "description": "",
            "description_tooltip": null,
            "layout": "IPY_MODEL_00f444a7823b4f5497e31f3a0aaeae36",
            "max": 625,
            "min": 0,
            "orientation": "horizontal",
            "style": "IPY_MODEL_aaedcb9f5e5d474f9006e178bf48f5d4",
            "value": 625
          }
        },
        "89e77f9d7671437c93688a39764c1f18": {
          "model_module": "@jupyter-widgets/controls",
          "model_name": "HTMLModel",
          "model_module_version": "1.5.0",
          "state": {
            "_dom_classes": [],
            "_model_module": "@jupyter-widgets/controls",
            "_model_module_version": "1.5.0",
            "_model_name": "HTMLModel",
            "_view_count": null,
            "_view_module": "@jupyter-widgets/controls",
            "_view_module_version": "1.5.0",
            "_view_name": "HTMLView",
            "description": "",
            "description_tooltip": null,
            "layout": "IPY_MODEL_7ab60d0c3e5e45a4b1e02cbefb3907b4",
            "placeholder": "​",
            "style": "IPY_MODEL_997b74ef395642fa9989e60b64c23554",
            "value": " 625/625 [00:00&lt;00:00, 25.2kB/s]"
          }
        },
        "55c8a834e92847afb883d0b91dde7f4c": {
          "model_module": "@jupyter-widgets/base",
          "model_name": "LayoutModel",
          "model_module_version": "1.2.0",
          "state": {
            "_model_module": "@jupyter-widgets/base",
            "_model_module_version": "1.2.0",
            "_model_name": "LayoutModel",
            "_view_count": null,
            "_view_module": "@jupyter-widgets/base",
            "_view_module_version": "1.2.0",
            "_view_name": "LayoutView",
            "align_content": null,
            "align_items": null,
            "align_self": null,
            "border": null,
            "bottom": null,
            "display": null,
            "flex": null,
            "flex_flow": null,
            "grid_area": null,
            "grid_auto_columns": null,
            "grid_auto_flow": null,
            "grid_auto_rows": null,
            "grid_column": null,
            "grid_gap": null,
            "grid_row": null,
            "grid_template_areas": null,
            "grid_template_columns": null,
            "grid_template_rows": null,
            "height": null,
            "justify_content": null,
            "justify_items": null,
            "left": null,
            "margin": null,
            "max_height": null,
            "max_width": null,
            "min_height": null,
            "min_width": null,
            "object_fit": null,
            "object_position": null,
            "order": null,
            "overflow": null,
            "overflow_x": null,
            "overflow_y": null,
            "padding": null,
            "right": null,
            "top": null,
            "visibility": null,
            "width": null
          }
        },
        "75f52ed5afab4f2d8e056c1de0769c82": {
          "model_module": "@jupyter-widgets/base",
          "model_name": "LayoutModel",
          "model_module_version": "1.2.0",
          "state": {
            "_model_module": "@jupyter-widgets/base",
            "_model_module_version": "1.2.0",
            "_model_name": "LayoutModel",
            "_view_count": null,
            "_view_module": "@jupyter-widgets/base",
            "_view_module_version": "1.2.0",
            "_view_name": "LayoutView",
            "align_content": null,
            "align_items": null,
            "align_self": null,
            "border": null,
            "bottom": null,
            "display": null,
            "flex": null,
            "flex_flow": null,
            "grid_area": null,
            "grid_auto_columns": null,
            "grid_auto_flow": null,
            "grid_auto_rows": null,
            "grid_column": null,
            "grid_gap": null,
            "grid_row": null,
            "grid_template_areas": null,
            "grid_template_columns": null,
            "grid_template_rows": null,
            "height": null,
            "justify_content": null,
            "justify_items": null,
            "left": null,
            "margin": null,
            "max_height": null,
            "max_width": null,
            "min_height": null,
            "min_width": null,
            "object_fit": null,
            "object_position": null,
            "order": null,
            "overflow": null,
            "overflow_x": null,
            "overflow_y": null,
            "padding": null,
            "right": null,
            "top": null,
            "visibility": null,
            "width": null
          }
        },
        "b26e244399364ffda0c68b61b2e11a44": {
          "model_module": "@jupyter-widgets/controls",
          "model_name": "DescriptionStyleModel",
          "model_module_version": "1.5.0",
          "state": {
            "_model_module": "@jupyter-widgets/controls",
            "_model_module_version": "1.5.0",
            "_model_name": "DescriptionStyleModel",
            "_view_count": null,
            "_view_module": "@jupyter-widgets/base",
            "_view_module_version": "1.2.0",
            "_view_name": "StyleView",
            "description_width": ""
          }
        },
        "00f444a7823b4f5497e31f3a0aaeae36": {
          "model_module": "@jupyter-widgets/base",
          "model_name": "LayoutModel",
          "model_module_version": "1.2.0",
          "state": {
            "_model_module": "@jupyter-widgets/base",
            "_model_module_version": "1.2.0",
            "_model_name": "LayoutModel",
            "_view_count": null,
            "_view_module": "@jupyter-widgets/base",
            "_view_module_version": "1.2.0",
            "_view_name": "LayoutView",
            "align_content": null,
            "align_items": null,
            "align_self": null,
            "border": null,
            "bottom": null,
            "display": null,
            "flex": null,
            "flex_flow": null,
            "grid_area": null,
            "grid_auto_columns": null,
            "grid_auto_flow": null,
            "grid_auto_rows": null,
            "grid_column": null,
            "grid_gap": null,
            "grid_row": null,
            "grid_template_areas": null,
            "grid_template_columns": null,
            "grid_template_rows": null,
            "height": null,
            "justify_content": null,
            "justify_items": null,
            "left": null,
            "margin": null,
            "max_height": null,
            "max_width": null,
            "min_height": null,
            "min_width": null,
            "object_fit": null,
            "object_position": null,
            "order": null,
            "overflow": null,
            "overflow_x": null,
            "overflow_y": null,
            "padding": null,
            "right": null,
            "top": null,
            "visibility": null,
            "width": null
          }
        },
        "aaedcb9f5e5d474f9006e178bf48f5d4": {
          "model_module": "@jupyter-widgets/controls",
          "model_name": "ProgressStyleModel",
          "model_module_version": "1.5.0",
          "state": {
            "_model_module": "@jupyter-widgets/controls",
            "_model_module_version": "1.5.0",
            "_model_name": "ProgressStyleModel",
            "_view_count": null,
            "_view_module": "@jupyter-widgets/base",
            "_view_module_version": "1.2.0",
            "_view_name": "StyleView",
            "bar_color": null,
            "description_width": ""
          }
        },
        "7ab60d0c3e5e45a4b1e02cbefb3907b4": {
          "model_module": "@jupyter-widgets/base",
          "model_name": "LayoutModel",
          "model_module_version": "1.2.0",
          "state": {
            "_model_module": "@jupyter-widgets/base",
            "_model_module_version": "1.2.0",
            "_model_name": "LayoutModel",
            "_view_count": null,
            "_view_module": "@jupyter-widgets/base",
            "_view_module_version": "1.2.0",
            "_view_name": "LayoutView",
            "align_content": null,
            "align_items": null,
            "align_self": null,
            "border": null,
            "bottom": null,
            "display": null,
            "flex": null,
            "flex_flow": null,
            "grid_area": null,
            "grid_auto_columns": null,
            "grid_auto_flow": null,
            "grid_auto_rows": null,
            "grid_column": null,
            "grid_gap": null,
            "grid_row": null,
            "grid_template_areas": null,
            "grid_template_columns": null,
            "grid_template_rows": null,
            "height": null,
            "justify_content": null,
            "justify_items": null,
            "left": null,
            "margin": null,
            "max_height": null,
            "max_width": null,
            "min_height": null,
            "min_width": null,
            "object_fit": null,
            "object_position": null,
            "order": null,
            "overflow": null,
            "overflow_x": null,
            "overflow_y": null,
            "padding": null,
            "right": null,
            "top": null,
            "visibility": null,
            "width": null
          }
        },
        "997b74ef395642fa9989e60b64c23554": {
          "model_module": "@jupyter-widgets/controls",
          "model_name": "DescriptionStyleModel",
          "model_module_version": "1.5.0",
          "state": {
            "_model_module": "@jupyter-widgets/controls",
            "_model_module_version": "1.5.0",
            "_model_name": "DescriptionStyleModel",
            "_view_count": null,
            "_view_module": "@jupyter-widgets/base",
            "_view_module_version": "1.2.0",
            "_view_name": "StyleView",
            "description_width": ""
          }
        },
        "daef9c9cae394a9fbc0a2648e5a3ef0c": {
          "model_module": "@jupyter-widgets/controls",
          "model_name": "HBoxModel",
          "model_module_version": "1.5.0",
          "state": {
            "_dom_classes": [],
            "_model_module": "@jupyter-widgets/controls",
            "_model_module_version": "1.5.0",
            "_model_name": "HBoxModel",
            "_view_count": null,
            "_view_module": "@jupyter-widgets/controls",
            "_view_module_version": "1.5.0",
            "_view_name": "HBoxView",
            "box_style": "",
            "children": [
              "IPY_MODEL_b442d1623b134498a179f1cdbeff1f4d",
              "IPY_MODEL_5b159e2955f94f13ac77ca053ce57f61",
              "IPY_MODEL_efc9ee65c30f4bfea9fba21416f1943a"
            ],
            "layout": "IPY_MODEL_f55f2ff85aeb40dd9afcd8c82f267300"
          }
        },
        "b442d1623b134498a179f1cdbeff1f4d": {
          "model_module": "@jupyter-widgets/controls",
          "model_name": "HTMLModel",
          "model_module_version": "1.5.0",
          "state": {
            "_dom_classes": [],
            "_model_module": "@jupyter-widgets/controls",
            "_model_module_version": "1.5.0",
            "_model_name": "HTMLModel",
            "_view_count": null,
            "_view_module": "@jupyter-widgets/controls",
            "_view_module_version": "1.5.0",
            "_view_name": "HTMLView",
            "description": "",
            "description_tooltip": null,
            "layout": "IPY_MODEL_35fa9af899124c8f907fef046d744f5f",
            "placeholder": "​",
            "style": "IPY_MODEL_db62b9204f254a98b6e8150883e47e22",
            "value": "Downloading pytorch_model.bin: 100%"
          }
        },
        "5b159e2955f94f13ac77ca053ce57f61": {
          "model_module": "@jupyter-widgets/controls",
          "model_name": "FloatProgressModel",
          "model_module_version": "1.5.0",
          "state": {
            "_dom_classes": [],
            "_model_module": "@jupyter-widgets/controls",
            "_model_module_version": "1.5.0",
            "_model_name": "FloatProgressModel",
            "_view_count": null,
            "_view_module": "@jupyter-widgets/controls",
            "_view_module_version": "1.5.0",
            "_view_name": "ProgressView",
            "bar_style": "success",
            "description": "",
            "description_tooltip": null,
            "layout": "IPY_MODEL_3c476e9ea6974ad6a1cfd6061a6e7783",
            "max": 672271273,
            "min": 0,
            "orientation": "horizontal",
            "style": "IPY_MODEL_508c40c7c222455c9fd15540d410fbdb",
            "value": 672271273
          }
        },
        "efc9ee65c30f4bfea9fba21416f1943a": {
          "model_module": "@jupyter-widgets/controls",
          "model_name": "HTMLModel",
          "model_module_version": "1.5.0",
          "state": {
            "_dom_classes": [],
            "_model_module": "@jupyter-widgets/controls",
            "_model_module_version": "1.5.0",
            "_model_name": "HTMLModel",
            "_view_count": null,
            "_view_module": "@jupyter-widgets/controls",
            "_view_module_version": "1.5.0",
            "_view_name": "HTMLView",
            "description": "",
            "description_tooltip": null,
            "layout": "IPY_MODEL_0d5e00395fba4a1ea4fec7610c7b1574",
            "placeholder": "​",
            "style": "IPY_MODEL_52ff173e9272492c8fd248c273e17205",
            "value": " 672M/672M [00:03&lt;00:00, 187MB/s]"
          }
        },
        "f55f2ff85aeb40dd9afcd8c82f267300": {
          "model_module": "@jupyter-widgets/base",
          "model_name": "LayoutModel",
          "model_module_version": "1.2.0",
          "state": {
            "_model_module": "@jupyter-widgets/base",
            "_model_module_version": "1.2.0",
            "_model_name": "LayoutModel",
            "_view_count": null,
            "_view_module": "@jupyter-widgets/base",
            "_view_module_version": "1.2.0",
            "_view_name": "LayoutView",
            "align_content": null,
            "align_items": null,
            "align_self": null,
            "border": null,
            "bottom": null,
            "display": null,
            "flex": null,
            "flex_flow": null,
            "grid_area": null,
            "grid_auto_columns": null,
            "grid_auto_flow": null,
            "grid_auto_rows": null,
            "grid_column": null,
            "grid_gap": null,
            "grid_row": null,
            "grid_template_areas": null,
            "grid_template_columns": null,
            "grid_template_rows": null,
            "height": null,
            "justify_content": null,
            "justify_items": null,
            "left": null,
            "margin": null,
            "max_height": null,
            "max_width": null,
            "min_height": null,
            "min_width": null,
            "object_fit": null,
            "object_position": null,
            "order": null,
            "overflow": null,
            "overflow_x": null,
            "overflow_y": null,
            "padding": null,
            "right": null,
            "top": null,
            "visibility": null,
            "width": null
          }
        },
        "35fa9af899124c8f907fef046d744f5f": {
          "model_module": "@jupyter-widgets/base",
          "model_name": "LayoutModel",
          "model_module_version": "1.2.0",
          "state": {
            "_model_module": "@jupyter-widgets/base",
            "_model_module_version": "1.2.0",
            "_model_name": "LayoutModel",
            "_view_count": null,
            "_view_module": "@jupyter-widgets/base",
            "_view_module_version": "1.2.0",
            "_view_name": "LayoutView",
            "align_content": null,
            "align_items": null,
            "align_self": null,
            "border": null,
            "bottom": null,
            "display": null,
            "flex": null,
            "flex_flow": null,
            "grid_area": null,
            "grid_auto_columns": null,
            "grid_auto_flow": null,
            "grid_auto_rows": null,
            "grid_column": null,
            "grid_gap": null,
            "grid_row": null,
            "grid_template_areas": null,
            "grid_template_columns": null,
            "grid_template_rows": null,
            "height": null,
            "justify_content": null,
            "justify_items": null,
            "left": null,
            "margin": null,
            "max_height": null,
            "max_width": null,
            "min_height": null,
            "min_width": null,
            "object_fit": null,
            "object_position": null,
            "order": null,
            "overflow": null,
            "overflow_x": null,
            "overflow_y": null,
            "padding": null,
            "right": null,
            "top": null,
            "visibility": null,
            "width": null
          }
        },
        "db62b9204f254a98b6e8150883e47e22": {
          "model_module": "@jupyter-widgets/controls",
          "model_name": "DescriptionStyleModel",
          "model_module_version": "1.5.0",
          "state": {
            "_model_module": "@jupyter-widgets/controls",
            "_model_module_version": "1.5.0",
            "_model_name": "DescriptionStyleModel",
            "_view_count": null,
            "_view_module": "@jupyter-widgets/base",
            "_view_module_version": "1.2.0",
            "_view_name": "StyleView",
            "description_width": ""
          }
        },
        "3c476e9ea6974ad6a1cfd6061a6e7783": {
          "model_module": "@jupyter-widgets/base",
          "model_name": "LayoutModel",
          "model_module_version": "1.2.0",
          "state": {
            "_model_module": "@jupyter-widgets/base",
            "_model_module_version": "1.2.0",
            "_model_name": "LayoutModel",
            "_view_count": null,
            "_view_module": "@jupyter-widgets/base",
            "_view_module_version": "1.2.0",
            "_view_name": "LayoutView",
            "align_content": null,
            "align_items": null,
            "align_self": null,
            "border": null,
            "bottom": null,
            "display": null,
            "flex": null,
            "flex_flow": null,
            "grid_area": null,
            "grid_auto_columns": null,
            "grid_auto_flow": null,
            "grid_auto_rows": null,
            "grid_column": null,
            "grid_gap": null,
            "grid_row": null,
            "grid_template_areas": null,
            "grid_template_columns": null,
            "grid_template_rows": null,
            "height": null,
            "justify_content": null,
            "justify_items": null,
            "left": null,
            "margin": null,
            "max_height": null,
            "max_width": null,
            "min_height": null,
            "min_width": null,
            "object_fit": null,
            "object_position": null,
            "order": null,
            "overflow": null,
            "overflow_x": null,
            "overflow_y": null,
            "padding": null,
            "right": null,
            "top": null,
            "visibility": null,
            "width": null
          }
        },
        "508c40c7c222455c9fd15540d410fbdb": {
          "model_module": "@jupyter-widgets/controls",
          "model_name": "ProgressStyleModel",
          "model_module_version": "1.5.0",
          "state": {
            "_model_module": "@jupyter-widgets/controls",
            "_model_module_version": "1.5.0",
            "_model_name": "ProgressStyleModel",
            "_view_count": null,
            "_view_module": "@jupyter-widgets/base",
            "_view_module_version": "1.2.0",
            "_view_name": "StyleView",
            "bar_color": null,
            "description_width": ""
          }
        },
        "0d5e00395fba4a1ea4fec7610c7b1574": {
          "model_module": "@jupyter-widgets/base",
          "model_name": "LayoutModel",
          "model_module_version": "1.2.0",
          "state": {
            "_model_module": "@jupyter-widgets/base",
            "_model_module_version": "1.2.0",
            "_model_name": "LayoutModel",
            "_view_count": null,
            "_view_module": "@jupyter-widgets/base",
            "_view_module_version": "1.2.0",
            "_view_name": "LayoutView",
            "align_content": null,
            "align_items": null,
            "align_self": null,
            "border": null,
            "bottom": null,
            "display": null,
            "flex": null,
            "flex_flow": null,
            "grid_area": null,
            "grid_auto_columns": null,
            "grid_auto_flow": null,
            "grid_auto_rows": null,
            "grid_column": null,
            "grid_gap": null,
            "grid_row": null,
            "grid_template_areas": null,
            "grid_template_columns": null,
            "grid_template_rows": null,
            "height": null,
            "justify_content": null,
            "justify_items": null,
            "left": null,
            "margin": null,
            "max_height": null,
            "max_width": null,
            "min_height": null,
            "min_width": null,
            "object_fit": null,
            "object_position": null,
            "order": null,
            "overflow": null,
            "overflow_x": null,
            "overflow_y": null,
            "padding": null,
            "right": null,
            "top": null,
            "visibility": null,
            "width": null
          }
        },
        "52ff173e9272492c8fd248c273e17205": {
          "model_module": "@jupyter-widgets/controls",
          "model_name": "DescriptionStyleModel",
          "model_module_version": "1.5.0",
          "state": {
            "_model_module": "@jupyter-widgets/controls",
            "_model_module_version": "1.5.0",
            "_model_name": "DescriptionStyleModel",
            "_view_count": null,
            "_view_module": "@jupyter-widgets/base",
            "_view_module_version": "1.2.0",
            "_view_name": "StyleView",
            "description_width": ""
          }
        },
        "6c8f104c3cf741efae2ae532cfb822bd": {
          "model_module": "@jupyter-widgets/controls",
          "model_name": "HBoxModel",
          "model_module_version": "1.5.0",
          "state": {
            "_dom_classes": [],
            "_model_module": "@jupyter-widgets/controls",
            "_model_module_version": "1.5.0",
            "_model_name": "HBoxModel",
            "_view_count": null,
            "_view_module": "@jupyter-widgets/controls",
            "_view_module_version": "1.5.0",
            "_view_name": "HBoxView",
            "box_style": "",
            "children": [
              "IPY_MODEL_1d248bae156d4668a44631cb877d0872",
              "IPY_MODEL_26289012df8143a1a2a9c41e9558e39a",
              "IPY_MODEL_43512951eca54d88aa595b07c5ec00d4"
            ],
            "layout": "IPY_MODEL_d043b808a1014a7291405af417e24694"
          }
        },
        "1d248bae156d4668a44631cb877d0872": {
          "model_module": "@jupyter-widgets/controls",
          "model_name": "HTMLModel",
          "model_module_version": "1.5.0",
          "state": {
            "_dom_classes": [],
            "_model_module": "@jupyter-widgets/controls",
            "_model_module_version": "1.5.0",
            "_model_name": "HTMLModel",
            "_view_count": null,
            "_view_module": "@jupyter-widgets/controls",
            "_view_module_version": "1.5.0",
            "_view_name": "HTMLView",
            "description": "",
            "description_tooltip": null,
            "layout": "IPY_MODEL_539247c1c2cb4680bd44016960a2c38b",
            "placeholder": "​",
            "style": "IPY_MODEL_eedd1e8e02ff4440935f52be85ab2af4",
            "value": "Downloading (…)okenizer_config.json: 100%"
          }
        },
        "26289012df8143a1a2a9c41e9558e39a": {
          "model_module": "@jupyter-widgets/controls",
          "model_name": "FloatProgressModel",
          "model_module_version": "1.5.0",
          "state": {
            "_dom_classes": [],
            "_model_module": "@jupyter-widgets/controls",
            "_model_module_version": "1.5.0",
            "_model_name": "FloatProgressModel",
            "_view_count": null,
            "_view_module": "@jupyter-widgets/controls",
            "_view_module_version": "1.5.0",
            "_view_name": "ProgressView",
            "bar_style": "success",
            "description": "",
            "description_tooltip": null,
            "layout": "IPY_MODEL_201f8a46f9434089ba129f852e8d2057",
            "max": 28,
            "min": 0,
            "orientation": "horizontal",
            "style": "IPY_MODEL_1d196a2d96064bbb9f029a078627d1b7",
            "value": 28
          }
        },
        "43512951eca54d88aa595b07c5ec00d4": {
          "model_module": "@jupyter-widgets/controls",
          "model_name": "HTMLModel",
          "model_module_version": "1.5.0",
          "state": {
            "_dom_classes": [],
            "_model_module": "@jupyter-widgets/controls",
            "_model_module_version": "1.5.0",
            "_model_name": "HTMLModel",
            "_view_count": null,
            "_view_module": "@jupyter-widgets/controls",
            "_view_module_version": "1.5.0",
            "_view_name": "HTMLView",
            "description": "",
            "description_tooltip": null,
            "layout": "IPY_MODEL_2f3a3b701bd64a51aa99a39d08bffb53",
            "placeholder": "​",
            "style": "IPY_MODEL_f0284ba859b946aaa159a1d100d26a83",
            "value": " 28.0/28.0 [00:00&lt;00:00, 698B/s]"
          }
        },
        "d043b808a1014a7291405af417e24694": {
          "model_module": "@jupyter-widgets/base",
          "model_name": "LayoutModel",
          "model_module_version": "1.2.0",
          "state": {
            "_model_module": "@jupyter-widgets/base",
            "_model_module_version": "1.2.0",
            "_model_name": "LayoutModel",
            "_view_count": null,
            "_view_module": "@jupyter-widgets/base",
            "_view_module_version": "1.2.0",
            "_view_name": "LayoutView",
            "align_content": null,
            "align_items": null,
            "align_self": null,
            "border": null,
            "bottom": null,
            "display": null,
            "flex": null,
            "flex_flow": null,
            "grid_area": null,
            "grid_auto_columns": null,
            "grid_auto_flow": null,
            "grid_auto_rows": null,
            "grid_column": null,
            "grid_gap": null,
            "grid_row": null,
            "grid_template_areas": null,
            "grid_template_columns": null,
            "grid_template_rows": null,
            "height": null,
            "justify_content": null,
            "justify_items": null,
            "left": null,
            "margin": null,
            "max_height": null,
            "max_width": null,
            "min_height": null,
            "min_width": null,
            "object_fit": null,
            "object_position": null,
            "order": null,
            "overflow": null,
            "overflow_x": null,
            "overflow_y": null,
            "padding": null,
            "right": null,
            "top": null,
            "visibility": null,
            "width": null
          }
        },
        "539247c1c2cb4680bd44016960a2c38b": {
          "model_module": "@jupyter-widgets/base",
          "model_name": "LayoutModel",
          "model_module_version": "1.2.0",
          "state": {
            "_model_module": "@jupyter-widgets/base",
            "_model_module_version": "1.2.0",
            "_model_name": "LayoutModel",
            "_view_count": null,
            "_view_module": "@jupyter-widgets/base",
            "_view_module_version": "1.2.0",
            "_view_name": "LayoutView",
            "align_content": null,
            "align_items": null,
            "align_self": null,
            "border": null,
            "bottom": null,
            "display": null,
            "flex": null,
            "flex_flow": null,
            "grid_area": null,
            "grid_auto_columns": null,
            "grid_auto_flow": null,
            "grid_auto_rows": null,
            "grid_column": null,
            "grid_gap": null,
            "grid_row": null,
            "grid_template_areas": null,
            "grid_template_columns": null,
            "grid_template_rows": null,
            "height": null,
            "justify_content": null,
            "justify_items": null,
            "left": null,
            "margin": null,
            "max_height": null,
            "max_width": null,
            "min_height": null,
            "min_width": null,
            "object_fit": null,
            "object_position": null,
            "order": null,
            "overflow": null,
            "overflow_x": null,
            "overflow_y": null,
            "padding": null,
            "right": null,
            "top": null,
            "visibility": null,
            "width": null
          }
        },
        "eedd1e8e02ff4440935f52be85ab2af4": {
          "model_module": "@jupyter-widgets/controls",
          "model_name": "DescriptionStyleModel",
          "model_module_version": "1.5.0",
          "state": {
            "_model_module": "@jupyter-widgets/controls",
            "_model_module_version": "1.5.0",
            "_model_name": "DescriptionStyleModel",
            "_view_count": null,
            "_view_module": "@jupyter-widgets/base",
            "_view_module_version": "1.2.0",
            "_view_name": "StyleView",
            "description_width": ""
          }
        },
        "201f8a46f9434089ba129f852e8d2057": {
          "model_module": "@jupyter-widgets/base",
          "model_name": "LayoutModel",
          "model_module_version": "1.2.0",
          "state": {
            "_model_module": "@jupyter-widgets/base",
            "_model_module_version": "1.2.0",
            "_model_name": "LayoutModel",
            "_view_count": null,
            "_view_module": "@jupyter-widgets/base",
            "_view_module_version": "1.2.0",
            "_view_name": "LayoutView",
            "align_content": null,
            "align_items": null,
            "align_self": null,
            "border": null,
            "bottom": null,
            "display": null,
            "flex": null,
            "flex_flow": null,
            "grid_area": null,
            "grid_auto_columns": null,
            "grid_auto_flow": null,
            "grid_auto_rows": null,
            "grid_column": null,
            "grid_gap": null,
            "grid_row": null,
            "grid_template_areas": null,
            "grid_template_columns": null,
            "grid_template_rows": null,
            "height": null,
            "justify_content": null,
            "justify_items": null,
            "left": null,
            "margin": null,
            "max_height": null,
            "max_width": null,
            "min_height": null,
            "min_width": null,
            "object_fit": null,
            "object_position": null,
            "order": null,
            "overflow": null,
            "overflow_x": null,
            "overflow_y": null,
            "padding": null,
            "right": null,
            "top": null,
            "visibility": null,
            "width": null
          }
        },
        "1d196a2d96064bbb9f029a078627d1b7": {
          "model_module": "@jupyter-widgets/controls",
          "model_name": "ProgressStyleModel",
          "model_module_version": "1.5.0",
          "state": {
            "_model_module": "@jupyter-widgets/controls",
            "_model_module_version": "1.5.0",
            "_model_name": "ProgressStyleModel",
            "_view_count": null,
            "_view_module": "@jupyter-widgets/base",
            "_view_module_version": "1.2.0",
            "_view_name": "StyleView",
            "bar_color": null,
            "description_width": ""
          }
        },
        "2f3a3b701bd64a51aa99a39d08bffb53": {
          "model_module": "@jupyter-widgets/base",
          "model_name": "LayoutModel",
          "model_module_version": "1.2.0",
          "state": {
            "_model_module": "@jupyter-widgets/base",
            "_model_module_version": "1.2.0",
            "_model_name": "LayoutModel",
            "_view_count": null,
            "_view_module": "@jupyter-widgets/base",
            "_view_module_version": "1.2.0",
            "_view_name": "LayoutView",
            "align_content": null,
            "align_items": null,
            "align_self": null,
            "border": null,
            "bottom": null,
            "display": null,
            "flex": null,
            "flex_flow": null,
            "grid_area": null,
            "grid_auto_columns": null,
            "grid_auto_flow": null,
            "grid_auto_rows": null,
            "grid_column": null,
            "grid_gap": null,
            "grid_row": null,
            "grid_template_areas": null,
            "grid_template_columns": null,
            "grid_template_rows": null,
            "height": null,
            "justify_content": null,
            "justify_items": null,
            "left": null,
            "margin": null,
            "max_height": null,
            "max_width": null,
            "min_height": null,
            "min_width": null,
            "object_fit": null,
            "object_position": null,
            "order": null,
            "overflow": null,
            "overflow_x": null,
            "overflow_y": null,
            "padding": null,
            "right": null,
            "top": null,
            "visibility": null,
            "width": null
          }
        },
        "f0284ba859b946aaa159a1d100d26a83": {
          "model_module": "@jupyter-widgets/controls",
          "model_name": "DescriptionStyleModel",
          "model_module_version": "1.5.0",
          "state": {
            "_model_module": "@jupyter-widgets/controls",
            "_model_module_version": "1.5.0",
            "_model_name": "DescriptionStyleModel",
            "_view_count": null,
            "_view_module": "@jupyter-widgets/base",
            "_view_module_version": "1.2.0",
            "_view_name": "StyleView",
            "description_width": ""
          }
        },
        "87d6905557a14f0a93eafbc5b8614ea9": {
          "model_module": "@jupyter-widgets/controls",
          "model_name": "HBoxModel",
          "model_module_version": "1.5.0",
          "state": {
            "_dom_classes": [],
            "_model_module": "@jupyter-widgets/controls",
            "_model_module_version": "1.5.0",
            "_model_name": "HBoxModel",
            "_view_count": null,
            "_view_module": "@jupyter-widgets/controls",
            "_view_module_version": "1.5.0",
            "_view_name": "HBoxView",
            "box_style": "",
            "children": [
              "IPY_MODEL_19b8c7a5de28464fb2c29039e56678eb",
              "IPY_MODEL_da7248ea52d549a8afcde75b9b6fbaab",
              "IPY_MODEL_682ae25816a44114aee81c6ffcd3790f"
            ],
            "layout": "IPY_MODEL_7c88246956d14f598997f4bb9b050cf0"
          }
        },
        "19b8c7a5de28464fb2c29039e56678eb": {
          "model_module": "@jupyter-widgets/controls",
          "model_name": "HTMLModel",
          "model_module_version": "1.5.0",
          "state": {
            "_dom_classes": [],
            "_model_module": "@jupyter-widgets/controls",
            "_model_module_version": "1.5.0",
            "_model_name": "HTMLModel",
            "_view_count": null,
            "_view_module": "@jupyter-widgets/controls",
            "_view_module_version": "1.5.0",
            "_view_name": "HTMLView",
            "description": "",
            "description_tooltip": null,
            "layout": "IPY_MODEL_4eb25f011774425296f81742f6ba132f",
            "placeholder": "​",
            "style": "IPY_MODEL_b49222800dd64cfe905dc6f5487e21bb",
            "value": "Downloading (…)solve/main/vocab.txt: 100%"
          }
        },
        "da7248ea52d549a8afcde75b9b6fbaab": {
          "model_module": "@jupyter-widgets/controls",
          "model_name": "FloatProgressModel",
          "model_module_version": "1.5.0",
          "state": {
            "_dom_classes": [],
            "_model_module": "@jupyter-widgets/controls",
            "_model_module_version": "1.5.0",
            "_model_name": "FloatProgressModel",
            "_view_count": null,
            "_view_module": "@jupyter-widgets/controls",
            "_view_module_version": "1.5.0",
            "_view_name": "ProgressView",
            "bar_style": "success",
            "description": "",
            "description_tooltip": null,
            "layout": "IPY_MODEL_cf90c15f542c4a6b9719f1a0ee7db97e",
            "max": 871891,
            "min": 0,
            "orientation": "horizontal",
            "style": "IPY_MODEL_b3224b65a1de4f5c8b176a6422dfb89d",
            "value": 871891
          }
        },
        "682ae25816a44114aee81c6ffcd3790f": {
          "model_module": "@jupyter-widgets/controls",
          "model_name": "HTMLModel",
          "model_module_version": "1.5.0",
          "state": {
            "_dom_classes": [],
            "_model_module": "@jupyter-widgets/controls",
            "_model_module_version": "1.5.0",
            "_model_name": "HTMLModel",
            "_view_count": null,
            "_view_module": "@jupyter-widgets/controls",
            "_view_module_version": "1.5.0",
            "_view_name": "HTMLView",
            "description": "",
            "description_tooltip": null,
            "layout": "IPY_MODEL_aac9f9b598f6495884b4c0c4536d02ab",
            "placeholder": "​",
            "style": "IPY_MODEL_219a7806479340558cc1076a9d20aebf",
            "value": " 872k/872k [00:00&lt;00:00, 3.56MB/s]"
          }
        },
        "7c88246956d14f598997f4bb9b050cf0": {
          "model_module": "@jupyter-widgets/base",
          "model_name": "LayoutModel",
          "model_module_version": "1.2.0",
          "state": {
            "_model_module": "@jupyter-widgets/base",
            "_model_module_version": "1.2.0",
            "_model_name": "LayoutModel",
            "_view_count": null,
            "_view_module": "@jupyter-widgets/base",
            "_view_module_version": "1.2.0",
            "_view_name": "LayoutView",
            "align_content": null,
            "align_items": null,
            "align_self": null,
            "border": null,
            "bottom": null,
            "display": null,
            "flex": null,
            "flex_flow": null,
            "grid_area": null,
            "grid_auto_columns": null,
            "grid_auto_flow": null,
            "grid_auto_rows": null,
            "grid_column": null,
            "grid_gap": null,
            "grid_row": null,
            "grid_template_areas": null,
            "grid_template_columns": null,
            "grid_template_rows": null,
            "height": null,
            "justify_content": null,
            "justify_items": null,
            "left": null,
            "margin": null,
            "max_height": null,
            "max_width": null,
            "min_height": null,
            "min_width": null,
            "object_fit": null,
            "object_position": null,
            "order": null,
            "overflow": null,
            "overflow_x": null,
            "overflow_y": null,
            "padding": null,
            "right": null,
            "top": null,
            "visibility": null,
            "width": null
          }
        },
        "4eb25f011774425296f81742f6ba132f": {
          "model_module": "@jupyter-widgets/base",
          "model_name": "LayoutModel",
          "model_module_version": "1.2.0",
          "state": {
            "_model_module": "@jupyter-widgets/base",
            "_model_module_version": "1.2.0",
            "_model_name": "LayoutModel",
            "_view_count": null,
            "_view_module": "@jupyter-widgets/base",
            "_view_module_version": "1.2.0",
            "_view_name": "LayoutView",
            "align_content": null,
            "align_items": null,
            "align_self": null,
            "border": null,
            "bottom": null,
            "display": null,
            "flex": null,
            "flex_flow": null,
            "grid_area": null,
            "grid_auto_columns": null,
            "grid_auto_flow": null,
            "grid_auto_rows": null,
            "grid_column": null,
            "grid_gap": null,
            "grid_row": null,
            "grid_template_areas": null,
            "grid_template_columns": null,
            "grid_template_rows": null,
            "height": null,
            "justify_content": null,
            "justify_items": null,
            "left": null,
            "margin": null,
            "max_height": null,
            "max_width": null,
            "min_height": null,
            "min_width": null,
            "object_fit": null,
            "object_position": null,
            "order": null,
            "overflow": null,
            "overflow_x": null,
            "overflow_y": null,
            "padding": null,
            "right": null,
            "top": null,
            "visibility": null,
            "width": null
          }
        },
        "b49222800dd64cfe905dc6f5487e21bb": {
          "model_module": "@jupyter-widgets/controls",
          "model_name": "DescriptionStyleModel",
          "model_module_version": "1.5.0",
          "state": {
            "_model_module": "@jupyter-widgets/controls",
            "_model_module_version": "1.5.0",
            "_model_name": "DescriptionStyleModel",
            "_view_count": null,
            "_view_module": "@jupyter-widgets/base",
            "_view_module_version": "1.2.0",
            "_view_name": "StyleView",
            "description_width": ""
          }
        },
        "cf90c15f542c4a6b9719f1a0ee7db97e": {
          "model_module": "@jupyter-widgets/base",
          "model_name": "LayoutModel",
          "model_module_version": "1.2.0",
          "state": {
            "_model_module": "@jupyter-widgets/base",
            "_model_module_version": "1.2.0",
            "_model_name": "LayoutModel",
            "_view_count": null,
            "_view_module": "@jupyter-widgets/base",
            "_view_module_version": "1.2.0",
            "_view_name": "LayoutView",
            "align_content": null,
            "align_items": null,
            "align_self": null,
            "border": null,
            "bottom": null,
            "display": null,
            "flex": null,
            "flex_flow": null,
            "grid_area": null,
            "grid_auto_columns": null,
            "grid_auto_flow": null,
            "grid_auto_rows": null,
            "grid_column": null,
            "grid_gap": null,
            "grid_row": null,
            "grid_template_areas": null,
            "grid_template_columns": null,
            "grid_template_rows": null,
            "height": null,
            "justify_content": null,
            "justify_items": null,
            "left": null,
            "margin": null,
            "max_height": null,
            "max_width": null,
            "min_height": null,
            "min_width": null,
            "object_fit": null,
            "object_position": null,
            "order": null,
            "overflow": null,
            "overflow_x": null,
            "overflow_y": null,
            "padding": null,
            "right": null,
            "top": null,
            "visibility": null,
            "width": null
          }
        },
        "b3224b65a1de4f5c8b176a6422dfb89d": {
          "model_module": "@jupyter-widgets/controls",
          "model_name": "ProgressStyleModel",
          "model_module_version": "1.5.0",
          "state": {
            "_model_module": "@jupyter-widgets/controls",
            "_model_module_version": "1.5.0",
            "_model_name": "ProgressStyleModel",
            "_view_count": null,
            "_view_module": "@jupyter-widgets/base",
            "_view_module_version": "1.2.0",
            "_view_name": "StyleView",
            "bar_color": null,
            "description_width": ""
          }
        },
        "aac9f9b598f6495884b4c0c4536d02ab": {
          "model_module": "@jupyter-widgets/base",
          "model_name": "LayoutModel",
          "model_module_version": "1.2.0",
          "state": {
            "_model_module": "@jupyter-widgets/base",
            "_model_module_version": "1.2.0",
            "_model_name": "LayoutModel",
            "_view_count": null,
            "_view_module": "@jupyter-widgets/base",
            "_view_module_version": "1.2.0",
            "_view_name": "LayoutView",
            "align_content": null,
            "align_items": null,
            "align_self": null,
            "border": null,
            "bottom": null,
            "display": null,
            "flex": null,
            "flex_flow": null,
            "grid_area": null,
            "grid_auto_columns": null,
            "grid_auto_flow": null,
            "grid_auto_rows": null,
            "grid_column": null,
            "grid_gap": null,
            "grid_row": null,
            "grid_template_areas": null,
            "grid_template_columns": null,
            "grid_template_rows": null,
            "height": null,
            "justify_content": null,
            "justify_items": null,
            "left": null,
            "margin": null,
            "max_height": null,
            "max_width": null,
            "min_height": null,
            "min_width": null,
            "object_fit": null,
            "object_position": null,
            "order": null,
            "overflow": null,
            "overflow_x": null,
            "overflow_y": null,
            "padding": null,
            "right": null,
            "top": null,
            "visibility": null,
            "width": null
          }
        },
        "219a7806479340558cc1076a9d20aebf": {
          "model_module": "@jupyter-widgets/controls",
          "model_name": "DescriptionStyleModel",
          "model_module_version": "1.5.0",
          "state": {
            "_model_module": "@jupyter-widgets/controls",
            "_model_module_version": "1.5.0",
            "_model_name": "DescriptionStyleModel",
            "_view_count": null,
            "_view_module": "@jupyter-widgets/base",
            "_view_module_version": "1.2.0",
            "_view_name": "StyleView",
            "description_width": ""
          }
        },
        "59600412c3634e3dafe1f38771c26ab8": {
          "model_module": "@jupyter-widgets/controls",
          "model_name": "HBoxModel",
          "model_module_version": "1.5.0",
          "state": {
            "_dom_classes": [],
            "_model_module": "@jupyter-widgets/controls",
            "_model_module_version": "1.5.0",
            "_model_name": "HBoxModel",
            "_view_count": null,
            "_view_module": "@jupyter-widgets/controls",
            "_view_module_version": "1.5.0",
            "_view_name": "HBoxView",
            "box_style": "",
            "children": [
              "IPY_MODEL_56ec623e81f843578441ac6d2cacc9fd",
              "IPY_MODEL_cc458410aafd4900922bfbdbea2670d0",
              "IPY_MODEL_421428caa05a42e3ab6bd5712df7f606"
            ],
            "layout": "IPY_MODEL_596842c7ea2d4be6bc5bf9511a534eee"
          }
        },
        "56ec623e81f843578441ac6d2cacc9fd": {
          "model_module": "@jupyter-widgets/controls",
          "model_name": "HTMLModel",
          "model_module_version": "1.5.0",
          "state": {
            "_dom_classes": [],
            "_model_module": "@jupyter-widgets/controls",
            "_model_module_version": "1.5.0",
            "_model_name": "HTMLModel",
            "_view_count": null,
            "_view_module": "@jupyter-widgets/controls",
            "_view_module_version": "1.5.0",
            "_view_name": "HTMLView",
            "description": "",
            "description_tooltip": null,
            "layout": "IPY_MODEL_4e697bd503cd467a8a208c2c7afa716d",
            "placeholder": "​",
            "style": "IPY_MODEL_4bd58b2fdda74aa2a3010b16e5ab200d",
            "value": "Downloading (…)/main/tokenizer.json: 100%"
          }
        },
        "cc458410aafd4900922bfbdbea2670d0": {
          "model_module": "@jupyter-widgets/controls",
          "model_name": "FloatProgressModel",
          "model_module_version": "1.5.0",
          "state": {
            "_dom_classes": [],
            "_model_module": "@jupyter-widgets/controls",
            "_model_module_version": "1.5.0",
            "_model_name": "FloatProgressModel",
            "_view_count": null,
            "_view_module": "@jupyter-widgets/controls",
            "_view_module_version": "1.5.0",
            "_view_name": "ProgressView",
            "bar_style": "success",
            "description": "",
            "description_tooltip": null,
            "layout": "IPY_MODEL_ed4f1b85b24540c99b3bd5b8fac6f67e",
            "max": 1715180,
            "min": 0,
            "orientation": "horizontal",
            "style": "IPY_MODEL_18a8f54b0567489484489f7347440f38",
            "value": 1715180
          }
        },
        "421428caa05a42e3ab6bd5712df7f606": {
          "model_module": "@jupyter-widgets/controls",
          "model_name": "HTMLModel",
          "model_module_version": "1.5.0",
          "state": {
            "_dom_classes": [],
            "_model_module": "@jupyter-widgets/controls",
            "_model_module_version": "1.5.0",
            "_model_name": "HTMLModel",
            "_view_count": null,
            "_view_module": "@jupyter-widgets/controls",
            "_view_module_version": "1.5.0",
            "_view_name": "HTMLView",
            "description": "",
            "description_tooltip": null,
            "layout": "IPY_MODEL_bdb0c7fbf7cc433ca923d7adc2018af8",
            "placeholder": "​",
            "style": "IPY_MODEL_0148350fb6fa4111bfe68b9bf0335adf",
            "value": " 1.72M/1.72M [00:00&lt;00:00, 13.0MB/s]"
          }
        },
        "596842c7ea2d4be6bc5bf9511a534eee": {
          "model_module": "@jupyter-widgets/base",
          "model_name": "LayoutModel",
          "model_module_version": "1.2.0",
          "state": {
            "_model_module": "@jupyter-widgets/base",
            "_model_module_version": "1.2.0",
            "_model_name": "LayoutModel",
            "_view_count": null,
            "_view_module": "@jupyter-widgets/base",
            "_view_module_version": "1.2.0",
            "_view_name": "LayoutView",
            "align_content": null,
            "align_items": null,
            "align_self": null,
            "border": null,
            "bottom": null,
            "display": null,
            "flex": null,
            "flex_flow": null,
            "grid_area": null,
            "grid_auto_columns": null,
            "grid_auto_flow": null,
            "grid_auto_rows": null,
            "grid_column": null,
            "grid_gap": null,
            "grid_row": null,
            "grid_template_areas": null,
            "grid_template_columns": null,
            "grid_template_rows": null,
            "height": null,
            "justify_content": null,
            "justify_items": null,
            "left": null,
            "margin": null,
            "max_height": null,
            "max_width": null,
            "min_height": null,
            "min_width": null,
            "object_fit": null,
            "object_position": null,
            "order": null,
            "overflow": null,
            "overflow_x": null,
            "overflow_y": null,
            "padding": null,
            "right": null,
            "top": null,
            "visibility": null,
            "width": null
          }
        },
        "4e697bd503cd467a8a208c2c7afa716d": {
          "model_module": "@jupyter-widgets/base",
          "model_name": "LayoutModel",
          "model_module_version": "1.2.0",
          "state": {
            "_model_module": "@jupyter-widgets/base",
            "_model_module_version": "1.2.0",
            "_model_name": "LayoutModel",
            "_view_count": null,
            "_view_module": "@jupyter-widgets/base",
            "_view_module_version": "1.2.0",
            "_view_name": "LayoutView",
            "align_content": null,
            "align_items": null,
            "align_self": null,
            "border": null,
            "bottom": null,
            "display": null,
            "flex": null,
            "flex_flow": null,
            "grid_area": null,
            "grid_auto_columns": null,
            "grid_auto_flow": null,
            "grid_auto_rows": null,
            "grid_column": null,
            "grid_gap": null,
            "grid_row": null,
            "grid_template_areas": null,
            "grid_template_columns": null,
            "grid_template_rows": null,
            "height": null,
            "justify_content": null,
            "justify_items": null,
            "left": null,
            "margin": null,
            "max_height": null,
            "max_width": null,
            "min_height": null,
            "min_width": null,
            "object_fit": null,
            "object_position": null,
            "order": null,
            "overflow": null,
            "overflow_x": null,
            "overflow_y": null,
            "padding": null,
            "right": null,
            "top": null,
            "visibility": null,
            "width": null
          }
        },
        "4bd58b2fdda74aa2a3010b16e5ab200d": {
          "model_module": "@jupyter-widgets/controls",
          "model_name": "DescriptionStyleModel",
          "model_module_version": "1.5.0",
          "state": {
            "_model_module": "@jupyter-widgets/controls",
            "_model_module_version": "1.5.0",
            "_model_name": "DescriptionStyleModel",
            "_view_count": null,
            "_view_module": "@jupyter-widgets/base",
            "_view_module_version": "1.2.0",
            "_view_name": "StyleView",
            "description_width": ""
          }
        },
        "ed4f1b85b24540c99b3bd5b8fac6f67e": {
          "model_module": "@jupyter-widgets/base",
          "model_name": "LayoutModel",
          "model_module_version": "1.2.0",
          "state": {
            "_model_module": "@jupyter-widgets/base",
            "_model_module_version": "1.2.0",
            "_model_name": "LayoutModel",
            "_view_count": null,
            "_view_module": "@jupyter-widgets/base",
            "_view_module_version": "1.2.0",
            "_view_name": "LayoutView",
            "align_content": null,
            "align_items": null,
            "align_self": null,
            "border": null,
            "bottom": null,
            "display": null,
            "flex": null,
            "flex_flow": null,
            "grid_area": null,
            "grid_auto_columns": null,
            "grid_auto_flow": null,
            "grid_auto_rows": null,
            "grid_column": null,
            "grid_gap": null,
            "grid_row": null,
            "grid_template_areas": null,
            "grid_template_columns": null,
            "grid_template_rows": null,
            "height": null,
            "justify_content": null,
            "justify_items": null,
            "left": null,
            "margin": null,
            "max_height": null,
            "max_width": null,
            "min_height": null,
            "min_width": null,
            "object_fit": null,
            "object_position": null,
            "order": null,
            "overflow": null,
            "overflow_x": null,
            "overflow_y": null,
            "padding": null,
            "right": null,
            "top": null,
            "visibility": null,
            "width": null
          }
        },
        "18a8f54b0567489484489f7347440f38": {
          "model_module": "@jupyter-widgets/controls",
          "model_name": "ProgressStyleModel",
          "model_module_version": "1.5.0",
          "state": {
            "_model_module": "@jupyter-widgets/controls",
            "_model_module_version": "1.5.0",
            "_model_name": "ProgressStyleModel",
            "_view_count": null,
            "_view_module": "@jupyter-widgets/base",
            "_view_module_version": "1.2.0",
            "_view_name": "StyleView",
            "bar_color": null,
            "description_width": ""
          }
        },
        "bdb0c7fbf7cc433ca923d7adc2018af8": {
          "model_module": "@jupyter-widgets/base",
          "model_name": "LayoutModel",
          "model_module_version": "1.2.0",
          "state": {
            "_model_module": "@jupyter-widgets/base",
            "_model_module_version": "1.2.0",
            "_model_name": "LayoutModel",
            "_view_count": null,
            "_view_module": "@jupyter-widgets/base",
            "_view_module_version": "1.2.0",
            "_view_name": "LayoutView",
            "align_content": null,
            "align_items": null,
            "align_self": null,
            "border": null,
            "bottom": null,
            "display": null,
            "flex": null,
            "flex_flow": null,
            "grid_area": null,
            "grid_auto_columns": null,
            "grid_auto_flow": null,
            "grid_auto_rows": null,
            "grid_column": null,
            "grid_gap": null,
            "grid_row": null,
            "grid_template_areas": null,
            "grid_template_columns": null,
            "grid_template_rows": null,
            "height": null,
            "justify_content": null,
            "justify_items": null,
            "left": null,
            "margin": null,
            "max_height": null,
            "max_width": null,
            "min_height": null,
            "min_width": null,
            "object_fit": null,
            "object_position": null,
            "order": null,
            "overflow": null,
            "overflow_x": null,
            "overflow_y": null,
            "padding": null,
            "right": null,
            "top": null,
            "visibility": null,
            "width": null
          }
        },
        "0148350fb6fa4111bfe68b9bf0335adf": {
          "model_module": "@jupyter-widgets/controls",
          "model_name": "DescriptionStyleModel",
          "model_module_version": "1.5.0",
          "state": {
            "_model_module": "@jupyter-widgets/controls",
            "_model_module_version": "1.5.0",
            "_model_name": "DescriptionStyleModel",
            "_view_count": null,
            "_view_module": "@jupyter-widgets/base",
            "_view_module_version": "1.2.0",
            "_view_name": "StyleView",
            "description_width": ""
          }
        },
        "c906a80087f84f6d9a7103bd64a2b516": {
          "model_module": "@jupyter-widgets/controls",
          "model_name": "HBoxModel",
          "model_module_version": "1.5.0",
          "state": {
            "_dom_classes": [],
            "_model_module": "@jupyter-widgets/controls",
            "_model_module_version": "1.5.0",
            "_model_name": "HBoxModel",
            "_view_count": null,
            "_view_module": "@jupyter-widgets/controls",
            "_view_module_version": "1.5.0",
            "_view_name": "HBoxView",
            "box_style": "",
            "children": [
              "IPY_MODEL_1c6f7bcc8e6649a4a9274e34394daf5b",
              "IPY_MODEL_5f2ba0e9c41f4d77be4d4dc3dad2ce91",
              "IPY_MODEL_5d981a95cfc5487f91a31df54b2a3417"
            ],
            "layout": "IPY_MODEL_c603e48d2b06431098cf6cdfca28e55c"
          }
        },
        "1c6f7bcc8e6649a4a9274e34394daf5b": {
          "model_module": "@jupyter-widgets/controls",
          "model_name": "HTMLModel",
          "model_module_version": "1.5.0",
          "state": {
            "_dom_classes": [],
            "_model_module": "@jupyter-widgets/controls",
            "_model_module_version": "1.5.0",
            "_model_name": "HTMLModel",
            "_view_count": null,
            "_view_module": "@jupyter-widgets/controls",
            "_view_module_version": "1.5.0",
            "_view_name": "HTMLView",
            "description": "",
            "description_tooltip": null,
            "layout": "IPY_MODEL_92dd87e1a615456fa5ee230dc5e2dd08",
            "placeholder": "​",
            "style": "IPY_MODEL_03c3f7ac01e34806864558af694259ea",
            "value": "Downloading (…)lve/main/config.json: 100%"
          }
        },
        "5f2ba0e9c41f4d77be4d4dc3dad2ce91": {
          "model_module": "@jupyter-widgets/controls",
          "model_name": "FloatProgressModel",
          "model_module_version": "1.5.0",
          "state": {
            "_dom_classes": [],
            "_model_module": "@jupyter-widgets/controls",
            "_model_module_version": "1.5.0",
            "_model_name": "FloatProgressModel",
            "_view_count": null,
            "_view_module": "@jupyter-widgets/controls",
            "_view_module_version": "1.5.0",
            "_view_name": "ProgressView",
            "bar_style": "success",
            "description": "",
            "description_tooltip": null,
            "layout": "IPY_MODEL_0122ed32bc6142aabbe04a0abfbdaecd",
            "max": 467,
            "min": 0,
            "orientation": "horizontal",
            "style": "IPY_MODEL_8d32b43be3a64d3985361fa30e30e8ac",
            "value": 467
          }
        },
        "5d981a95cfc5487f91a31df54b2a3417": {
          "model_module": "@jupyter-widgets/controls",
          "model_name": "HTMLModel",
          "model_module_version": "1.5.0",
          "state": {
            "_dom_classes": [],
            "_model_module": "@jupyter-widgets/controls",
            "_model_module_version": "1.5.0",
            "_model_name": "HTMLModel",
            "_view_count": null,
            "_view_module": "@jupyter-widgets/controls",
            "_view_module_version": "1.5.0",
            "_view_name": "HTMLView",
            "description": "",
            "description_tooltip": null,
            "layout": "IPY_MODEL_8b791f482592400e8419d8a626249eb0",
            "placeholder": "​",
            "style": "IPY_MODEL_fb3f13ce2fb94ade8978b885653a71f0",
            "value": " 467/467 [00:00&lt;00:00, 32.8kB/s]"
          }
        },
        "c603e48d2b06431098cf6cdfca28e55c": {
          "model_module": "@jupyter-widgets/base",
          "model_name": "LayoutModel",
          "model_module_version": "1.2.0",
          "state": {
            "_model_module": "@jupyter-widgets/base",
            "_model_module_version": "1.2.0",
            "_model_name": "LayoutModel",
            "_view_count": null,
            "_view_module": "@jupyter-widgets/base",
            "_view_module_version": "1.2.0",
            "_view_name": "LayoutView",
            "align_content": null,
            "align_items": null,
            "align_self": null,
            "border": null,
            "bottom": null,
            "display": null,
            "flex": null,
            "flex_flow": null,
            "grid_area": null,
            "grid_auto_columns": null,
            "grid_auto_flow": null,
            "grid_auto_rows": null,
            "grid_column": null,
            "grid_gap": null,
            "grid_row": null,
            "grid_template_areas": null,
            "grid_template_columns": null,
            "grid_template_rows": null,
            "height": null,
            "justify_content": null,
            "justify_items": null,
            "left": null,
            "margin": null,
            "max_height": null,
            "max_width": null,
            "min_height": null,
            "min_width": null,
            "object_fit": null,
            "object_position": null,
            "order": null,
            "overflow": null,
            "overflow_x": null,
            "overflow_y": null,
            "padding": null,
            "right": null,
            "top": null,
            "visibility": null,
            "width": null
          }
        },
        "92dd87e1a615456fa5ee230dc5e2dd08": {
          "model_module": "@jupyter-widgets/base",
          "model_name": "LayoutModel",
          "model_module_version": "1.2.0",
          "state": {
            "_model_module": "@jupyter-widgets/base",
            "_model_module_version": "1.2.0",
            "_model_name": "LayoutModel",
            "_view_count": null,
            "_view_module": "@jupyter-widgets/base",
            "_view_module_version": "1.2.0",
            "_view_name": "LayoutView",
            "align_content": null,
            "align_items": null,
            "align_self": null,
            "border": null,
            "bottom": null,
            "display": null,
            "flex": null,
            "flex_flow": null,
            "grid_area": null,
            "grid_auto_columns": null,
            "grid_auto_flow": null,
            "grid_auto_rows": null,
            "grid_column": null,
            "grid_gap": null,
            "grid_row": null,
            "grid_template_areas": null,
            "grid_template_columns": null,
            "grid_template_rows": null,
            "height": null,
            "justify_content": null,
            "justify_items": null,
            "left": null,
            "margin": null,
            "max_height": null,
            "max_width": null,
            "min_height": null,
            "min_width": null,
            "object_fit": null,
            "object_position": null,
            "order": null,
            "overflow": null,
            "overflow_x": null,
            "overflow_y": null,
            "padding": null,
            "right": null,
            "top": null,
            "visibility": null,
            "width": null
          }
        },
        "03c3f7ac01e34806864558af694259ea": {
          "model_module": "@jupyter-widgets/controls",
          "model_name": "DescriptionStyleModel",
          "model_module_version": "1.5.0",
          "state": {
            "_model_module": "@jupyter-widgets/controls",
            "_model_module_version": "1.5.0",
            "_model_name": "DescriptionStyleModel",
            "_view_count": null,
            "_view_module": "@jupyter-widgets/base",
            "_view_module_version": "1.2.0",
            "_view_name": "StyleView",
            "description_width": ""
          }
        },
        "0122ed32bc6142aabbe04a0abfbdaecd": {
          "model_module": "@jupyter-widgets/base",
          "model_name": "LayoutModel",
          "model_module_version": "1.2.0",
          "state": {
            "_model_module": "@jupyter-widgets/base",
            "_model_module_version": "1.2.0",
            "_model_name": "LayoutModel",
            "_view_count": null,
            "_view_module": "@jupyter-widgets/base",
            "_view_module_version": "1.2.0",
            "_view_name": "LayoutView",
            "align_content": null,
            "align_items": null,
            "align_self": null,
            "border": null,
            "bottom": null,
            "display": null,
            "flex": null,
            "flex_flow": null,
            "grid_area": null,
            "grid_auto_columns": null,
            "grid_auto_flow": null,
            "grid_auto_rows": null,
            "grid_column": null,
            "grid_gap": null,
            "grid_row": null,
            "grid_template_areas": null,
            "grid_template_columns": null,
            "grid_template_rows": null,
            "height": null,
            "justify_content": null,
            "justify_items": null,
            "left": null,
            "margin": null,
            "max_height": null,
            "max_width": null,
            "min_height": null,
            "min_width": null,
            "object_fit": null,
            "object_position": null,
            "order": null,
            "overflow": null,
            "overflow_x": null,
            "overflow_y": null,
            "padding": null,
            "right": null,
            "top": null,
            "visibility": null,
            "width": null
          }
        },
        "8d32b43be3a64d3985361fa30e30e8ac": {
          "model_module": "@jupyter-widgets/controls",
          "model_name": "ProgressStyleModel",
          "model_module_version": "1.5.0",
          "state": {
            "_model_module": "@jupyter-widgets/controls",
            "_model_module_version": "1.5.0",
            "_model_name": "ProgressStyleModel",
            "_view_count": null,
            "_view_module": "@jupyter-widgets/base",
            "_view_module_version": "1.2.0",
            "_view_name": "StyleView",
            "bar_color": null,
            "description_width": ""
          }
        },
        "8b791f482592400e8419d8a626249eb0": {
          "model_module": "@jupyter-widgets/base",
          "model_name": "LayoutModel",
          "model_module_version": "1.2.0",
          "state": {
            "_model_module": "@jupyter-widgets/base",
            "_model_module_version": "1.2.0",
            "_model_name": "LayoutModel",
            "_view_count": null,
            "_view_module": "@jupyter-widgets/base",
            "_view_module_version": "1.2.0",
            "_view_name": "LayoutView",
            "align_content": null,
            "align_items": null,
            "align_self": null,
            "border": null,
            "bottom": null,
            "display": null,
            "flex": null,
            "flex_flow": null,
            "grid_area": null,
            "grid_auto_columns": null,
            "grid_auto_flow": null,
            "grid_auto_rows": null,
            "grid_column": null,
            "grid_gap": null,
            "grid_row": null,
            "grid_template_areas": null,
            "grid_template_columns": null,
            "grid_template_rows": null,
            "height": null,
            "justify_content": null,
            "justify_items": null,
            "left": null,
            "margin": null,
            "max_height": null,
            "max_width": null,
            "min_height": null,
            "min_width": null,
            "object_fit": null,
            "object_position": null,
            "order": null,
            "overflow": null,
            "overflow_x": null,
            "overflow_y": null,
            "padding": null,
            "right": null,
            "top": null,
            "visibility": null,
            "width": null
          }
        },
        "fb3f13ce2fb94ade8978b885653a71f0": {
          "model_module": "@jupyter-widgets/controls",
          "model_name": "DescriptionStyleModel",
          "model_module_version": "1.5.0",
          "state": {
            "_model_module": "@jupyter-widgets/controls",
            "_model_module_version": "1.5.0",
            "_model_name": "DescriptionStyleModel",
            "_view_count": null,
            "_view_module": "@jupyter-widgets/base",
            "_view_module_version": "1.2.0",
            "_view_name": "StyleView",
            "description_width": ""
          }
        },
        "ef95d95fb73e4ba39faaaabc4f9a394f": {
          "model_module": "@jupyter-widgets/controls",
          "model_name": "HBoxModel",
          "model_module_version": "1.5.0",
          "state": {
            "_dom_classes": [],
            "_model_module": "@jupyter-widgets/controls",
            "_model_module_version": "1.5.0",
            "_model_name": "HBoxModel",
            "_view_count": null,
            "_view_module": "@jupyter-widgets/controls",
            "_view_module_version": "1.5.0",
            "_view_name": "HBoxView",
            "box_style": "",
            "children": [
              "IPY_MODEL_7ff8878e80f7410fbe8b1a646e8299b5",
              "IPY_MODEL_1de14626665d4675a523af9273232b75",
              "IPY_MODEL_9333f960fb3a485b8bcb448218e5d428"
            ],
            "layout": "IPY_MODEL_6747932339b84e70847cd9f8e242350d"
          }
        },
        "7ff8878e80f7410fbe8b1a646e8299b5": {
          "model_module": "@jupyter-widgets/controls",
          "model_name": "HTMLModel",
          "model_module_version": "1.5.0",
          "state": {
            "_dom_classes": [],
            "_model_module": "@jupyter-widgets/controls",
            "_model_module_version": "1.5.0",
            "_model_name": "HTMLModel",
            "_view_count": null,
            "_view_module": "@jupyter-widgets/controls",
            "_view_module_version": "1.5.0",
            "_view_name": "HTMLView",
            "description": "",
            "description_tooltip": null,
            "layout": "IPY_MODEL_27e357f269da44e6afc54a07b5849d23",
            "placeholder": "​",
            "style": "IPY_MODEL_a44b4c8d59e7424d80b958efc0431292",
            "value": "Downloading pytorch_model.bin: 100%"
          }
        },
        "1de14626665d4675a523af9273232b75": {
          "model_module": "@jupyter-widgets/controls",
          "model_name": "FloatProgressModel",
          "model_module_version": "1.5.0",
          "state": {
            "_dom_classes": [],
            "_model_module": "@jupyter-widgets/controls",
            "_model_module_version": "1.5.0",
            "_model_name": "FloatProgressModel",
            "_view_count": null,
            "_view_module": "@jupyter-widgets/controls",
            "_view_module_version": "1.5.0",
            "_view_name": "ProgressView",
            "bar_style": "success",
            "description": "",
            "description_tooltip": null,
            "layout": "IPY_MODEL_b1f9716c26d740fe87587d95b95f645b",
            "max": 442560329,
            "min": 0,
            "orientation": "horizontal",
            "style": "IPY_MODEL_223565b1018445feb3d87e1b0c79bbc2",
            "value": 442560329
          }
        },
        "9333f960fb3a485b8bcb448218e5d428": {
          "model_module": "@jupyter-widgets/controls",
          "model_name": "HTMLModel",
          "model_module_version": "1.5.0",
          "state": {
            "_dom_classes": [],
            "_model_module": "@jupyter-widgets/controls",
            "_model_module_version": "1.5.0",
            "_model_name": "HTMLModel",
            "_view_count": null,
            "_view_module": "@jupyter-widgets/controls",
            "_view_module_version": "1.5.0",
            "_view_name": "HTMLView",
            "description": "",
            "description_tooltip": null,
            "layout": "IPY_MODEL_cd092ceecbf74e5cbdc4789979bbc7d8",
            "placeholder": "​",
            "style": "IPY_MODEL_c18d82e739244e77bff8623c2f14efd8",
            "value": " 443M/443M [00:05&lt;00:00, 146MB/s]"
          }
        },
        "6747932339b84e70847cd9f8e242350d": {
          "model_module": "@jupyter-widgets/base",
          "model_name": "LayoutModel",
          "model_module_version": "1.2.0",
          "state": {
            "_model_module": "@jupyter-widgets/base",
            "_model_module_version": "1.2.0",
            "_model_name": "LayoutModel",
            "_view_count": null,
            "_view_module": "@jupyter-widgets/base",
            "_view_module_version": "1.2.0",
            "_view_name": "LayoutView",
            "align_content": null,
            "align_items": null,
            "align_self": null,
            "border": null,
            "bottom": null,
            "display": null,
            "flex": null,
            "flex_flow": null,
            "grid_area": null,
            "grid_auto_columns": null,
            "grid_auto_flow": null,
            "grid_auto_rows": null,
            "grid_column": null,
            "grid_gap": null,
            "grid_row": null,
            "grid_template_areas": null,
            "grid_template_columns": null,
            "grid_template_rows": null,
            "height": null,
            "justify_content": null,
            "justify_items": null,
            "left": null,
            "margin": null,
            "max_height": null,
            "max_width": null,
            "min_height": null,
            "min_width": null,
            "object_fit": null,
            "object_position": null,
            "order": null,
            "overflow": null,
            "overflow_x": null,
            "overflow_y": null,
            "padding": null,
            "right": null,
            "top": null,
            "visibility": null,
            "width": null
          }
        },
        "27e357f269da44e6afc54a07b5849d23": {
          "model_module": "@jupyter-widgets/base",
          "model_name": "LayoutModel",
          "model_module_version": "1.2.0",
          "state": {
            "_model_module": "@jupyter-widgets/base",
            "_model_module_version": "1.2.0",
            "_model_name": "LayoutModel",
            "_view_count": null,
            "_view_module": "@jupyter-widgets/base",
            "_view_module_version": "1.2.0",
            "_view_name": "LayoutView",
            "align_content": null,
            "align_items": null,
            "align_self": null,
            "border": null,
            "bottom": null,
            "display": null,
            "flex": null,
            "flex_flow": null,
            "grid_area": null,
            "grid_auto_columns": null,
            "grid_auto_flow": null,
            "grid_auto_rows": null,
            "grid_column": null,
            "grid_gap": null,
            "grid_row": null,
            "grid_template_areas": null,
            "grid_template_columns": null,
            "grid_template_rows": null,
            "height": null,
            "justify_content": null,
            "justify_items": null,
            "left": null,
            "margin": null,
            "max_height": null,
            "max_width": null,
            "min_height": null,
            "min_width": null,
            "object_fit": null,
            "object_position": null,
            "order": null,
            "overflow": null,
            "overflow_x": null,
            "overflow_y": null,
            "padding": null,
            "right": null,
            "top": null,
            "visibility": null,
            "width": null
          }
        },
        "a44b4c8d59e7424d80b958efc0431292": {
          "model_module": "@jupyter-widgets/controls",
          "model_name": "DescriptionStyleModel",
          "model_module_version": "1.5.0",
          "state": {
            "_model_module": "@jupyter-widgets/controls",
            "_model_module_version": "1.5.0",
            "_model_name": "DescriptionStyleModel",
            "_view_count": null,
            "_view_module": "@jupyter-widgets/base",
            "_view_module_version": "1.2.0",
            "_view_name": "StyleView",
            "description_width": ""
          }
        },
        "b1f9716c26d740fe87587d95b95f645b": {
          "model_module": "@jupyter-widgets/base",
          "model_name": "LayoutModel",
          "model_module_version": "1.2.0",
          "state": {
            "_model_module": "@jupyter-widgets/base",
            "_model_module_version": "1.2.0",
            "_model_name": "LayoutModel",
            "_view_count": null,
            "_view_module": "@jupyter-widgets/base",
            "_view_module_version": "1.2.0",
            "_view_name": "LayoutView",
            "align_content": null,
            "align_items": null,
            "align_self": null,
            "border": null,
            "bottom": null,
            "display": null,
            "flex": null,
            "flex_flow": null,
            "grid_area": null,
            "grid_auto_columns": null,
            "grid_auto_flow": null,
            "grid_auto_rows": null,
            "grid_column": null,
            "grid_gap": null,
            "grid_row": null,
            "grid_template_areas": null,
            "grid_template_columns": null,
            "grid_template_rows": null,
            "height": null,
            "justify_content": null,
            "justify_items": null,
            "left": null,
            "margin": null,
            "max_height": null,
            "max_width": null,
            "min_height": null,
            "min_width": null,
            "object_fit": null,
            "object_position": null,
            "order": null,
            "overflow": null,
            "overflow_x": null,
            "overflow_y": null,
            "padding": null,
            "right": null,
            "top": null,
            "visibility": null,
            "width": null
          }
        },
        "223565b1018445feb3d87e1b0c79bbc2": {
          "model_module": "@jupyter-widgets/controls",
          "model_name": "ProgressStyleModel",
          "model_module_version": "1.5.0",
          "state": {
            "_model_module": "@jupyter-widgets/controls",
            "_model_module_version": "1.5.0",
            "_model_name": "ProgressStyleModel",
            "_view_count": null,
            "_view_module": "@jupyter-widgets/base",
            "_view_module_version": "1.2.0",
            "_view_name": "StyleView",
            "bar_color": null,
            "description_width": ""
          }
        },
        "cd092ceecbf74e5cbdc4789979bbc7d8": {
          "model_module": "@jupyter-widgets/base",
          "model_name": "LayoutModel",
          "model_module_version": "1.2.0",
          "state": {
            "_model_module": "@jupyter-widgets/base",
            "_model_module_version": "1.2.0",
            "_model_name": "LayoutModel",
            "_view_count": null,
            "_view_module": "@jupyter-widgets/base",
            "_view_module_version": "1.2.0",
            "_view_name": "LayoutView",
            "align_content": null,
            "align_items": null,
            "align_self": null,
            "border": null,
            "bottom": null,
            "display": null,
            "flex": null,
            "flex_flow": null,
            "grid_area": null,
            "grid_auto_columns": null,
            "grid_auto_flow": null,
            "grid_auto_rows": null,
            "grid_column": null,
            "grid_gap": null,
            "grid_row": null,
            "grid_template_areas": null,
            "grid_template_columns": null,
            "grid_template_rows": null,
            "height": null,
            "justify_content": null,
            "justify_items": null,
            "left": null,
            "margin": null,
            "max_height": null,
            "max_width": null,
            "min_height": null,
            "min_width": null,
            "object_fit": null,
            "object_position": null,
            "order": null,
            "overflow": null,
            "overflow_x": null,
            "overflow_y": null,
            "padding": null,
            "right": null,
            "top": null,
            "visibility": null,
            "width": null
          }
        },
        "c18d82e739244e77bff8623c2f14efd8": {
          "model_module": "@jupyter-widgets/controls",
          "model_name": "DescriptionStyleModel",
          "model_module_version": "1.5.0",
          "state": {
            "_model_module": "@jupyter-widgets/controls",
            "_model_module_version": "1.5.0",
            "_model_name": "DescriptionStyleModel",
            "_view_count": null,
            "_view_module": "@jupyter-widgets/base",
            "_view_module_version": "1.2.0",
            "_view_name": "StyleView",
            "description_width": ""
          }
        },
        "adeac06492c24c679ad1eaf0defbbee5": {
          "model_module": "@jupyter-widgets/controls",
          "model_name": "HBoxModel",
          "model_module_version": "1.5.0",
          "state": {
            "_dom_classes": [],
            "_model_module": "@jupyter-widgets/controls",
            "_model_module_version": "1.5.0",
            "_model_name": "HBoxModel",
            "_view_count": null,
            "_view_module": "@jupyter-widgets/controls",
            "_view_module_version": "1.5.0",
            "_view_name": "HBoxView",
            "box_style": "",
            "children": [
              "IPY_MODEL_662f955f43354c3a8e7e2f9f9961e0ff",
              "IPY_MODEL_96f9a27512e742fd87a8bfb3d7ffb2d6",
              "IPY_MODEL_125ba69e7dd14ceca6ac87f5f1172aa8"
            ],
            "layout": "IPY_MODEL_e76b1f116f1d4f1da474d3db9cef09dd"
          }
        },
        "662f955f43354c3a8e7e2f9f9961e0ff": {
          "model_module": "@jupyter-widgets/controls",
          "model_name": "HTMLModel",
          "model_module_version": "1.5.0",
          "state": {
            "_dom_classes": [],
            "_model_module": "@jupyter-widgets/controls",
            "_model_module_version": "1.5.0",
            "_model_name": "HTMLModel",
            "_view_count": null,
            "_view_module": "@jupyter-widgets/controls",
            "_view_module_version": "1.5.0",
            "_view_name": "HTMLView",
            "description": "",
            "description_tooltip": null,
            "layout": "IPY_MODEL_306c56a1694f42528ea9c7ffedcf4a82",
            "placeholder": "​",
            "style": "IPY_MODEL_790f2fedba0140e690673a189f81117a",
            "value": "Downloading (…)okenizer_config.json: 100%"
          }
        },
        "96f9a27512e742fd87a8bfb3d7ffb2d6": {
          "model_module": "@jupyter-widgets/controls",
          "model_name": "FloatProgressModel",
          "model_module_version": "1.5.0",
          "state": {
            "_dom_classes": [],
            "_model_module": "@jupyter-widgets/controls",
            "_model_module_version": "1.5.0",
            "_model_name": "FloatProgressModel",
            "_view_count": null,
            "_view_module": "@jupyter-widgets/controls",
            "_view_module_version": "1.5.0",
            "_view_name": "ProgressView",
            "bar_style": "success",
            "description": "",
            "description_tooltip": null,
            "layout": "IPY_MODEL_628518386e1245dd8601de78d05c2914",
            "max": 83,
            "min": 0,
            "orientation": "horizontal",
            "style": "IPY_MODEL_89ff218d2f054d6bb03a3fef05f66674",
            "value": 83
          }
        },
        "125ba69e7dd14ceca6ac87f5f1172aa8": {
          "model_module": "@jupyter-widgets/controls",
          "model_name": "HTMLModel",
          "model_module_version": "1.5.0",
          "state": {
            "_dom_classes": [],
            "_model_module": "@jupyter-widgets/controls",
            "_model_module_version": "1.5.0",
            "_model_name": "HTMLModel",
            "_view_count": null,
            "_view_module": "@jupyter-widgets/controls",
            "_view_module_version": "1.5.0",
            "_view_name": "HTMLView",
            "description": "",
            "description_tooltip": null,
            "layout": "IPY_MODEL_67171d742e334b2484f714b793932a67",
            "placeholder": "​",
            "style": "IPY_MODEL_c1998ca17bb045428bdada513ca9bfeb",
            "value": " 83.0/83.0 [00:00&lt;00:00, 3.34kB/s]"
          }
        },
        "e76b1f116f1d4f1da474d3db9cef09dd": {
          "model_module": "@jupyter-widgets/base",
          "model_name": "LayoutModel",
          "model_module_version": "1.2.0",
          "state": {
            "_model_module": "@jupyter-widgets/base",
            "_model_module_version": "1.2.0",
            "_model_name": "LayoutModel",
            "_view_count": null,
            "_view_module": "@jupyter-widgets/base",
            "_view_module_version": "1.2.0",
            "_view_name": "LayoutView",
            "align_content": null,
            "align_items": null,
            "align_self": null,
            "border": null,
            "bottom": null,
            "display": null,
            "flex": null,
            "flex_flow": null,
            "grid_area": null,
            "grid_auto_columns": null,
            "grid_auto_flow": null,
            "grid_auto_rows": null,
            "grid_column": null,
            "grid_gap": null,
            "grid_row": null,
            "grid_template_areas": null,
            "grid_template_columns": null,
            "grid_template_rows": null,
            "height": null,
            "justify_content": null,
            "justify_items": null,
            "left": null,
            "margin": null,
            "max_height": null,
            "max_width": null,
            "min_height": null,
            "min_width": null,
            "object_fit": null,
            "object_position": null,
            "order": null,
            "overflow": null,
            "overflow_x": null,
            "overflow_y": null,
            "padding": null,
            "right": null,
            "top": null,
            "visibility": null,
            "width": null
          }
        },
        "306c56a1694f42528ea9c7ffedcf4a82": {
          "model_module": "@jupyter-widgets/base",
          "model_name": "LayoutModel",
          "model_module_version": "1.2.0",
          "state": {
            "_model_module": "@jupyter-widgets/base",
            "_model_module_version": "1.2.0",
            "_model_name": "LayoutModel",
            "_view_count": null,
            "_view_module": "@jupyter-widgets/base",
            "_view_module_version": "1.2.0",
            "_view_name": "LayoutView",
            "align_content": null,
            "align_items": null,
            "align_self": null,
            "border": null,
            "bottom": null,
            "display": null,
            "flex": null,
            "flex_flow": null,
            "grid_area": null,
            "grid_auto_columns": null,
            "grid_auto_flow": null,
            "grid_auto_rows": null,
            "grid_column": null,
            "grid_gap": null,
            "grid_row": null,
            "grid_template_areas": null,
            "grid_template_columns": null,
            "grid_template_rows": null,
            "height": null,
            "justify_content": null,
            "justify_items": null,
            "left": null,
            "margin": null,
            "max_height": null,
            "max_width": null,
            "min_height": null,
            "min_width": null,
            "object_fit": null,
            "object_position": null,
            "order": null,
            "overflow": null,
            "overflow_x": null,
            "overflow_y": null,
            "padding": null,
            "right": null,
            "top": null,
            "visibility": null,
            "width": null
          }
        },
        "790f2fedba0140e690673a189f81117a": {
          "model_module": "@jupyter-widgets/controls",
          "model_name": "DescriptionStyleModel",
          "model_module_version": "1.5.0",
          "state": {
            "_model_module": "@jupyter-widgets/controls",
            "_model_module_version": "1.5.0",
            "_model_name": "DescriptionStyleModel",
            "_view_count": null,
            "_view_module": "@jupyter-widgets/base",
            "_view_module_version": "1.2.0",
            "_view_name": "StyleView",
            "description_width": ""
          }
        },
        "628518386e1245dd8601de78d05c2914": {
          "model_module": "@jupyter-widgets/base",
          "model_name": "LayoutModel",
          "model_module_version": "1.2.0",
          "state": {
            "_model_module": "@jupyter-widgets/base",
            "_model_module_version": "1.2.0",
            "_model_name": "LayoutModel",
            "_view_count": null,
            "_view_module": "@jupyter-widgets/base",
            "_view_module_version": "1.2.0",
            "_view_name": "LayoutView",
            "align_content": null,
            "align_items": null,
            "align_self": null,
            "border": null,
            "bottom": null,
            "display": null,
            "flex": null,
            "flex_flow": null,
            "grid_area": null,
            "grid_auto_columns": null,
            "grid_auto_flow": null,
            "grid_auto_rows": null,
            "grid_column": null,
            "grid_gap": null,
            "grid_row": null,
            "grid_template_areas": null,
            "grid_template_columns": null,
            "grid_template_rows": null,
            "height": null,
            "justify_content": null,
            "justify_items": null,
            "left": null,
            "margin": null,
            "max_height": null,
            "max_width": null,
            "min_height": null,
            "min_width": null,
            "object_fit": null,
            "object_position": null,
            "order": null,
            "overflow": null,
            "overflow_x": null,
            "overflow_y": null,
            "padding": null,
            "right": null,
            "top": null,
            "visibility": null,
            "width": null
          }
        },
        "89ff218d2f054d6bb03a3fef05f66674": {
          "model_module": "@jupyter-widgets/controls",
          "model_name": "ProgressStyleModel",
          "model_module_version": "1.5.0",
          "state": {
            "_model_module": "@jupyter-widgets/controls",
            "_model_module_version": "1.5.0",
            "_model_name": "ProgressStyleModel",
            "_view_count": null,
            "_view_module": "@jupyter-widgets/base",
            "_view_module_version": "1.2.0",
            "_view_name": "StyleView",
            "bar_color": null,
            "description_width": ""
          }
        },
        "67171d742e334b2484f714b793932a67": {
          "model_module": "@jupyter-widgets/base",
          "model_name": "LayoutModel",
          "model_module_version": "1.2.0",
          "state": {
            "_model_module": "@jupyter-widgets/base",
            "_model_module_version": "1.2.0",
            "_model_name": "LayoutModel",
            "_view_count": null,
            "_view_module": "@jupyter-widgets/base",
            "_view_module_version": "1.2.0",
            "_view_name": "LayoutView",
            "align_content": null,
            "align_items": null,
            "align_self": null,
            "border": null,
            "bottom": null,
            "display": null,
            "flex": null,
            "flex_flow": null,
            "grid_area": null,
            "grid_auto_columns": null,
            "grid_auto_flow": null,
            "grid_auto_rows": null,
            "grid_column": null,
            "grid_gap": null,
            "grid_row": null,
            "grid_template_areas": null,
            "grid_template_columns": null,
            "grid_template_rows": null,
            "height": null,
            "justify_content": null,
            "justify_items": null,
            "left": null,
            "margin": null,
            "max_height": null,
            "max_width": null,
            "min_height": null,
            "min_width": null,
            "object_fit": null,
            "object_position": null,
            "order": null,
            "overflow": null,
            "overflow_x": null,
            "overflow_y": null,
            "padding": null,
            "right": null,
            "top": null,
            "visibility": null,
            "width": null
          }
        },
        "c1998ca17bb045428bdada513ca9bfeb": {
          "model_module": "@jupyter-widgets/controls",
          "model_name": "DescriptionStyleModel",
          "model_module_version": "1.5.0",
          "state": {
            "_model_module": "@jupyter-widgets/controls",
            "_model_module_version": "1.5.0",
            "_model_name": "DescriptionStyleModel",
            "_view_count": null,
            "_view_module": "@jupyter-widgets/base",
            "_view_module_version": "1.2.0",
            "_view_name": "StyleView",
            "description_width": ""
          }
        },
        "3977a3232edd45bf876dee73160b2a10": {
          "model_module": "@jupyter-widgets/controls",
          "model_name": "HBoxModel",
          "model_module_version": "1.5.0",
          "state": {
            "_dom_classes": [],
            "_model_module": "@jupyter-widgets/controls",
            "_model_module_version": "1.5.0",
            "_model_name": "HBoxModel",
            "_view_count": null,
            "_view_module": "@jupyter-widgets/controls",
            "_view_module_version": "1.5.0",
            "_view_name": "HBoxView",
            "box_style": "",
            "children": [
              "IPY_MODEL_37decb524b6245649ee0a0b46d03152e",
              "IPY_MODEL_7c9dba41e9da4c2a9bb51e263a2f27e6",
              "IPY_MODEL_96a9c261f5ec4e728dfc9ce622b280c5"
            ],
            "layout": "IPY_MODEL_d01c97fded774da1bd380e4a07709ed2"
          }
        },
        "37decb524b6245649ee0a0b46d03152e": {
          "model_module": "@jupyter-widgets/controls",
          "model_name": "HTMLModel",
          "model_module_version": "1.5.0",
          "state": {
            "_dom_classes": [],
            "_model_module": "@jupyter-widgets/controls",
            "_model_module_version": "1.5.0",
            "_model_name": "HTMLModel",
            "_view_count": null,
            "_view_module": "@jupyter-widgets/controls",
            "_view_module_version": "1.5.0",
            "_view_name": "HTMLView",
            "description": "",
            "description_tooltip": null,
            "layout": "IPY_MODEL_331edccda81a41ab908d2b92b9444e2d",
            "placeholder": "​",
            "style": "IPY_MODEL_2bea579a77294009ba7e0f9a88050ffb",
            "value": "Downloading (…)solve/main/vocab.txt: 100%"
          }
        },
        "7c9dba41e9da4c2a9bb51e263a2f27e6": {
          "model_module": "@jupyter-widgets/controls",
          "model_name": "FloatProgressModel",
          "model_module_version": "1.5.0",
          "state": {
            "_dom_classes": [],
            "_model_module": "@jupyter-widgets/controls",
            "_model_module_version": "1.5.0",
            "_model_name": "FloatProgressModel",
            "_view_count": null,
            "_view_module": "@jupyter-widgets/controls",
            "_view_module_version": "1.5.0",
            "_view_name": "ProgressView",
            "bar_style": "success",
            "description": "",
            "description_tooltip": null,
            "layout": "IPY_MODEL_2765fe81907d4541a5baadae113b8e4d",
            "max": 230548,
            "min": 0,
            "orientation": "horizontal",
            "style": "IPY_MODEL_8e46034ead2b426897c5093c03209882",
            "value": 230548
          }
        },
        "96a9c261f5ec4e728dfc9ce622b280c5": {
          "model_module": "@jupyter-widgets/controls",
          "model_name": "HTMLModel",
          "model_module_version": "1.5.0",
          "state": {
            "_dom_classes": [],
            "_model_module": "@jupyter-widgets/controls",
            "_model_module_version": "1.5.0",
            "_model_name": "HTMLModel",
            "_view_count": null,
            "_view_module": "@jupyter-widgets/controls",
            "_view_module_version": "1.5.0",
            "_view_name": "HTMLView",
            "description": "",
            "description_tooltip": null,
            "layout": "IPY_MODEL_8f6b2386d65d493784890b602b027a52",
            "placeholder": "​",
            "style": "IPY_MODEL_25d1ae047f2f4a7ab985ed42082ef424",
            "value": " 231k/231k [00:00&lt;00:00, 5.96MB/s]"
          }
        },
        "d01c97fded774da1bd380e4a07709ed2": {
          "model_module": "@jupyter-widgets/base",
          "model_name": "LayoutModel",
          "model_module_version": "1.2.0",
          "state": {
            "_model_module": "@jupyter-widgets/base",
            "_model_module_version": "1.2.0",
            "_model_name": "LayoutModel",
            "_view_count": null,
            "_view_module": "@jupyter-widgets/base",
            "_view_module_version": "1.2.0",
            "_view_name": "LayoutView",
            "align_content": null,
            "align_items": null,
            "align_self": null,
            "border": null,
            "bottom": null,
            "display": null,
            "flex": null,
            "flex_flow": null,
            "grid_area": null,
            "grid_auto_columns": null,
            "grid_auto_flow": null,
            "grid_auto_rows": null,
            "grid_column": null,
            "grid_gap": null,
            "grid_row": null,
            "grid_template_areas": null,
            "grid_template_columns": null,
            "grid_template_rows": null,
            "height": null,
            "justify_content": null,
            "justify_items": null,
            "left": null,
            "margin": null,
            "max_height": null,
            "max_width": null,
            "min_height": null,
            "min_width": null,
            "object_fit": null,
            "object_position": null,
            "order": null,
            "overflow": null,
            "overflow_x": null,
            "overflow_y": null,
            "padding": null,
            "right": null,
            "top": null,
            "visibility": null,
            "width": null
          }
        },
        "331edccda81a41ab908d2b92b9444e2d": {
          "model_module": "@jupyter-widgets/base",
          "model_name": "LayoutModel",
          "model_module_version": "1.2.0",
          "state": {
            "_model_module": "@jupyter-widgets/base",
            "_model_module_version": "1.2.0",
            "_model_name": "LayoutModel",
            "_view_count": null,
            "_view_module": "@jupyter-widgets/base",
            "_view_module_version": "1.2.0",
            "_view_name": "LayoutView",
            "align_content": null,
            "align_items": null,
            "align_self": null,
            "border": null,
            "bottom": null,
            "display": null,
            "flex": null,
            "flex_flow": null,
            "grid_area": null,
            "grid_auto_columns": null,
            "grid_auto_flow": null,
            "grid_auto_rows": null,
            "grid_column": null,
            "grid_gap": null,
            "grid_row": null,
            "grid_template_areas": null,
            "grid_template_columns": null,
            "grid_template_rows": null,
            "height": null,
            "justify_content": null,
            "justify_items": null,
            "left": null,
            "margin": null,
            "max_height": null,
            "max_width": null,
            "min_height": null,
            "min_width": null,
            "object_fit": null,
            "object_position": null,
            "order": null,
            "overflow": null,
            "overflow_x": null,
            "overflow_y": null,
            "padding": null,
            "right": null,
            "top": null,
            "visibility": null,
            "width": null
          }
        },
        "2bea579a77294009ba7e0f9a88050ffb": {
          "model_module": "@jupyter-widgets/controls",
          "model_name": "DescriptionStyleModel",
          "model_module_version": "1.5.0",
          "state": {
            "_model_module": "@jupyter-widgets/controls",
            "_model_module_version": "1.5.0",
            "_model_name": "DescriptionStyleModel",
            "_view_count": null,
            "_view_module": "@jupyter-widgets/base",
            "_view_module_version": "1.2.0",
            "_view_name": "StyleView",
            "description_width": ""
          }
        },
        "2765fe81907d4541a5baadae113b8e4d": {
          "model_module": "@jupyter-widgets/base",
          "model_name": "LayoutModel",
          "model_module_version": "1.2.0",
          "state": {
            "_model_module": "@jupyter-widgets/base",
            "_model_module_version": "1.2.0",
            "_model_name": "LayoutModel",
            "_view_count": null,
            "_view_module": "@jupyter-widgets/base",
            "_view_module_version": "1.2.0",
            "_view_name": "LayoutView",
            "align_content": null,
            "align_items": null,
            "align_self": null,
            "border": null,
            "bottom": null,
            "display": null,
            "flex": null,
            "flex_flow": null,
            "grid_area": null,
            "grid_auto_columns": null,
            "grid_auto_flow": null,
            "grid_auto_rows": null,
            "grid_column": null,
            "grid_gap": null,
            "grid_row": null,
            "grid_template_areas": null,
            "grid_template_columns": null,
            "grid_template_rows": null,
            "height": null,
            "justify_content": null,
            "justify_items": null,
            "left": null,
            "margin": null,
            "max_height": null,
            "max_width": null,
            "min_height": null,
            "min_width": null,
            "object_fit": null,
            "object_position": null,
            "order": null,
            "overflow": null,
            "overflow_x": null,
            "overflow_y": null,
            "padding": null,
            "right": null,
            "top": null,
            "visibility": null,
            "width": null
          }
        },
        "8e46034ead2b426897c5093c03209882": {
          "model_module": "@jupyter-widgets/controls",
          "model_name": "ProgressStyleModel",
          "model_module_version": "1.5.0",
          "state": {
            "_model_module": "@jupyter-widgets/controls",
            "_model_module_version": "1.5.0",
            "_model_name": "ProgressStyleModel",
            "_view_count": null,
            "_view_module": "@jupyter-widgets/base",
            "_view_module_version": "1.2.0",
            "_view_name": "StyleView",
            "bar_color": null,
            "description_width": ""
          }
        },
        "8f6b2386d65d493784890b602b027a52": {
          "model_module": "@jupyter-widgets/base",
          "model_name": "LayoutModel",
          "model_module_version": "1.2.0",
          "state": {
            "_model_module": "@jupyter-widgets/base",
            "_model_module_version": "1.2.0",
            "_model_name": "LayoutModel",
            "_view_count": null,
            "_view_module": "@jupyter-widgets/base",
            "_view_module_version": "1.2.0",
            "_view_name": "LayoutView",
            "align_content": null,
            "align_items": null,
            "align_self": null,
            "border": null,
            "bottom": null,
            "display": null,
            "flex": null,
            "flex_flow": null,
            "grid_area": null,
            "grid_auto_columns": null,
            "grid_auto_flow": null,
            "grid_auto_rows": null,
            "grid_column": null,
            "grid_gap": null,
            "grid_row": null,
            "grid_template_areas": null,
            "grid_template_columns": null,
            "grid_template_rows": null,
            "height": null,
            "justify_content": null,
            "justify_items": null,
            "left": null,
            "margin": null,
            "max_height": null,
            "max_width": null,
            "min_height": null,
            "min_width": null,
            "object_fit": null,
            "object_position": null,
            "order": null,
            "overflow": null,
            "overflow_x": null,
            "overflow_y": null,
            "padding": null,
            "right": null,
            "top": null,
            "visibility": null,
            "width": null
          }
        },
        "25d1ae047f2f4a7ab985ed42082ef424": {
          "model_module": "@jupyter-widgets/controls",
          "model_name": "DescriptionStyleModel",
          "model_module_version": "1.5.0",
          "state": {
            "_model_module": "@jupyter-widgets/controls",
            "_model_module_version": "1.5.0",
            "_model_name": "DescriptionStyleModel",
            "_view_count": null,
            "_view_module": "@jupyter-widgets/base",
            "_view_module_version": "1.2.0",
            "_view_name": "StyleView",
            "description_width": ""
          }
        }
      }
    }
  },
  "nbformat": 4,
  "nbformat_minor": 0
}